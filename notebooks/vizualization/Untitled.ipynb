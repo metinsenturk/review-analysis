{
 "cells": [
  {
   "cell_type": "code",
   "execution_count": 74,
   "metadata": {},
   "outputs": [
    {
     "name": "stdout",
     "output_type": "stream",
     "text": [
      "<class 'pandas.core.frame.DataFrame'>\n",
      "RangeIndex: 195769 entries, 0 to 195768\n",
      "Data columns (total 28 columns):\n",
      "alias               195769 non-null object\n",
      "ratingValue         195769 non-null int64\n",
      "dataPublished       195769 non-null object\n",
      "description         195769 non-null object\n",
      "author              195769 non-null object\n",
      "sentiment           195769 non-null int64\n",
      "word_count          195769 non-null int64\n",
      "sent_count          195769 non-null int64\n",
      "chr_count           195769 non-null int64\n",
      "avg_word_len        195769 non-null float64\n",
      "avg_sent_len        195769 non-null float64\n",
      "num_of_stopwords    195769 non-null int64\n",
      "num_of_modals       195769 non-null int64\n",
      "hashtags            195769 non-null int64\n",
      "mentions            195769 non-null int64\n",
      "numerics            195769 non-null int64\n",
      "uppercase_cnt       195769 non-null int64\n",
      "punctuation_cnt     195769 non-null int64\n",
      "vocab_cnt           195769 non-null int64\n",
      "ratio_lexical       195769 non-null float64\n",
      "ratio_content       195769 non-null float64\n",
      "topic_0             195769 non-null float64\n",
      "topic_1             195769 non-null float64\n",
      "topic_2             195769 non-null float64\n",
      "topic_3             195769 non-null float64\n",
      "topic_4             195769 non-null float64\n",
      "topic_score         195769 non-null int64\n",
      "sentiment_score     195769 non-null int64\n",
      "dtypes: float64(9), int64(15), object(4)\n",
      "memory usage: 41.8+ MB\n"
     ]
    }
   ],
   "source": [
    "import pandas as pd\n",
    "import numpy as np\n",
    "\n",
    "ts_restaurants = [\n",
    "    'kimos-maui-lahaina',\n",
    "    'leilanis-lahaina-2',\n",
    "    'hula-grill-kaanapali-lahaina-2',\n",
    "    'sunnyside-tahoe-city-2',\n",
    "    'dukes-huntington-beach-huntington-beach-2',\n",
    "    'dukes-la-jolla-la-jolla',\n",
    "    'dukes-malibu-malibu-2',\n",
    "    'dukes-beach-house-lahaina',\n",
    "    'dukes-kauai-lihue-3',\n",
    "    'dukes-waikiki-honolulu-2',\n",
    "    'hula-grill-waikiki-honolulu-3',\n",
    "    'keokis-paradise-koloa',\n",
    "]\n",
    "\n",
    "filepath = '../../data/processed/hi_rws_0001_0256_final.csv'\n",
    "df =pd.read_csv(filepath)\n",
    "df.info()"
   ]
  },
  {
   "cell_type": "code",
   "execution_count": 288,
   "metadata": {},
   "outputs": [
    {
     "data": {
      "image/png": "[encoded data removed]",
      "text/plain": [
       "<Figure size 864x288 with 3 Axes>"
      ]
     },
     "metadata": {
      "needs_background": "light"
     },
     "output_type": "display_data"
    }
   ],
   "source": [
    "# distribution of restaurants on number of reviews\n",
    "import matplotlib.pyplot as plt\n",
    "fig, (ax1, ax2, ax3) = plt.subplots(1, 3, figsize=(12, 4))\n",
    "(df_all, df_otr, df_tsr)\n",
    "for ax, df_temp in zip((ax1, ax2, ax3), (df_all, df_otr, df_tsr)):\n",
    "    df_temp.groupby('alias').count().ratingValue.sort_values()\\\n",
    "    .plot('hist', bins=100, xticks=range(0, 1000, 300), rot=40, ax=ax)"
   ]
  },
  {
   "cell_type": "code",
   "execution_count": 2,
   "metadata": {},
   "outputs": [
    {
     "data": {
      "text/plain": [
       "1023"
      ]
     },
     "execution_count": 2,
     "metadata": {},
     "output_type": "execute_result"
    }
   ],
   "source": [
    "len(df.alias.unique())"
   ]
  },
  {
   "cell_type": "code",
   "execution_count": 91,
   "metadata": {
    "scrolled": true
   },
   "outputs": [
    {
     "data": {
      "text/plain": [
       "Index(['1054togoshi-kihei', '5-palms-restaurant-kihei-2',\n",
       "       '808-antojitos-lahaina', '808-deli-kihei', '808-grindz-cafe-lahaina-2',\n",
       "       '808-on-main-wailuku', '808-plates-maui-kahului',\n",
       "       'a-saigon-cafe-wailuku', 'aa-roots-lahaina-5', 'abc-store-kihei-4',\n",
       "       ...\n",
       "       'waikapu-on-30-wailuku', 'wailea-beach-wailea-makena',\n",
       "       'wailea-golf-club-wailea', 'wailele-luau-lahaina-2',\n",
       "       'wailuku-coffee-company-wailuku', 'whales-tale-wailea-3',\n",
       "       'what-ales-you-kihei', 'wow-wee-mauis-kava-bar-and-grill-kahului',\n",
       "       'yogurtland-lahaina', 'zippys-kahului-kahului'],\n",
       "      dtype='object', name='alias', length=455)"
      ]
     },
     "execution_count": 91,
     "metadata": {},
     "output_type": "execute_result"
    }
   ],
   "source": [
    "# businesses that has more than 50 reviews\n",
    "pd_more_than_N_index = (df.groupby('alias').alias.count() > 50)\n",
    "more_than_N = pd_more_than_N_index[pd_more_than_N_index == True].index\n",
    "more_than_N"
   ]
  },
  {
   "cell_type": "code",
   "execution_count": 93,
   "metadata": {
    "scrolled": true
   },
   "outputs": [
    {
     "data": {
      "text/plain": [
       "Index(['dukes-beach-house-lahaina', 'hula-grill-kaanapali-lahaina-2',\n",
       "       'kimos-maui-lahaina', 'leilanis-lahaina-2'],\n",
       "      dtype='object', name='alias')"
      ]
     },
     "execution_count": 93,
     "metadata": {},
     "output_type": "execute_result"
    }
   ],
   "source": [
    "# ts restaurants only\n",
    "more_than_N[more_than_N.isin(ts_restaurants)]"
   ]
  },
  {
   "cell_type": "code",
   "execution_count": 266,
   "metadata": {},
   "outputs": [
    {
     "data": {
      "text/html": [
       "<div>\n",
       "<style scoped>\n",
       "    .dataframe tbody tr th:only-of-type {\n",
       "        vertical-align: middle;\n",
       "    }\n",
       "\n",
       "    .dataframe tbody tr th {\n",
       "        vertical-align: top;\n",
       "    }\n",
       "\n",
       "    .dataframe thead th {\n",
       "        text-align: right;\n",
       "    }\n",
       "</style>\n",
       "<table border=\"1\" class=\"dataframe\">\n",
       "  <thead>\n",
       "    <tr style=\"text-align: right;\">\n",
       "      <th></th>\n",
       "      <th>orginal</th>\n",
       "      <th>stdscal</th>\n",
       "      <th>minmax</th>\n",
       "      <th>-1_1</th>\n",
       "    </tr>\n",
       "  </thead>\n",
       "  <tbody>\n",
       "    <tr>\n",
       "      <th>0</th>\n",
       "      <td>0.801150</td>\n",
       "      <td>0.241384</td>\n",
       "      <td>0.238895</td>\n",
       "      <td>0.602300</td>\n",
       "    </tr>\n",
       "    <tr>\n",
       "      <th>1</th>\n",
       "      <td>0.854006</td>\n",
       "      <td>0.787706</td>\n",
       "      <td>0.649411</td>\n",
       "      <td>0.708013</td>\n",
       "    </tr>\n",
       "    <tr>\n",
       "      <th>2</th>\n",
       "      <td>0.693043</td>\n",
       "      <td>-0.876008</td>\n",
       "      <td>-0.600734</td>\n",
       "      <td>0.386085</td>\n",
       "    </tr>\n",
       "    <tr>\n",
       "      <th>3</th>\n",
       "      <td>0.899147</td>\n",
       "      <td>1.254276</td>\n",
       "      <td>1.000000</td>\n",
       "      <td>0.798294</td>\n",
       "    </tr>\n",
       "    <tr>\n",
       "      <th>4</th>\n",
       "      <td>0.641635</td>\n",
       "      <td>-1.407358</td>\n",
       "      <td>-1.000000</td>\n",
       "      <td>0.283269</td>\n",
       "    </tr>\n",
       "  </tbody>\n",
       "</table>\n",
       "</div>"
      ],
      "text/plain": [
       "    orginal   stdscal    minmax      -1_1\n",
       "0  0.801150  0.241384  0.238895  0.602300\n",
       "1  0.854006  0.787706  0.649411  0.708013\n",
       "2  0.693043 -0.876008 -0.600734  0.386085\n",
       "3  0.899147  1.254276  1.000000  0.798294\n",
       "4  0.641635 -1.407358 -1.000000  0.283269"
      ]
     },
     "execution_count": 266,
     "metadata": {},
     "output_type": "execute_result"
    }
   ],
   "source": [
    "# scaling trials and comparisons\n",
    "from sklearn.preprocessing import MinMaxScaler, StandardScaler\n",
    "sc = StandardScaler()\n",
    "mm = MinMaxScaler(feature_range=(-1, 1))\n",
    "\n",
    "scaling_list = []\n",
    "X = df.groupby('topic_score').mean().sentiment_score.values.reshape(-1, 1)\n",
    "scaling_list.append(X)\n",
    "scaling_list.append(sc.fit_transform(X))\n",
    "scaling_list.append(mm.fit_transform(X))\n",
    "scaling_list.append(np.vectorize(lambda x: (x*2)-1)(X))\n",
    "pd.DataFrame(\n",
    "    data=[i.reshape(1, len(X))[0] for i in scaling_list],\n",
    "    index=['orginal', 'stdscal', 'minmax', '-1_1']\n",
    ").transpose().rename(index=str)"
   ]
  },
  {
   "cell_type": "markdown",
   "metadata": {},
   "source": [
    "## Division of Categories\n",
    "\n",
    "- All Businesses\n",
    "- TS vs Others\n",
    "- TS only"
   ]
  },
  {
   "cell_type": "code",
   "execution_count": 299,
   "metadata": {},
   "outputs": [],
   "source": [
    "df_all = df\n",
    "df_tsr = df[df.alias.isin(ts_restaurants) == True]\n",
    "df_otr = df[df.alias.isin(ts_restaurants) == False]\n",
    "dfs = [df_all, df_tsr, df_otr]"
   ]
  },
  {
   "cell_type": "code",
   "execution_count": 307,
   "metadata": {},
   "outputs": [
    {
     "data": {
      "text/plain": [
       "[195769, 9097, 186672]"
      ]
     },
     "execution_count": 307,
     "metadata": {},
     "output_type": "execute_result"
    }
   ],
   "source": [
    "[len(i) for i in dfs]"
   ]
  },
  {
   "cell_type": "code",
   "execution_count": 217,
   "metadata": {},
   "outputs": [],
   "source": [
    "# adjust sentiment score\n",
    "adjusted_sent_func = lambda x: (x*2)-1\n",
    "\n",
    "# helpful for plotting \n",
    "plot_params = dict(subplots=False, ylim=(-1,1), rot=45, figsize=(9, 6))"
   ]
  },
  {
   "cell_type": "markdown",
   "metadata": {},
   "source": [
    "## Results Charts for All Categories"
   ]
  },
  {
   "cell_type": "markdown",
   "metadata": {},
   "source": [
    "### Topic Sentiment Scores"
   ]
  },
  {
   "cell_type": "code",
   "execution_count": 401,
   "metadata": {
    "scrolled": false
   },
   "outputs": [
    {
     "data": {
      "text/html": [
       "<div>\n",
       "<style scoped>\n",
       "    .dataframe tbody tr th:only-of-type {\n",
       "        vertical-align: middle;\n",
       "    }\n",
       "\n",
       "    .dataframe tbody tr th {\n",
       "        vertical-align: top;\n",
       "    }\n",
       "\n",
       "    .dataframe thead th {\n",
       "        text-align: right;\n",
       "    }\n",
       "</style>\n",
       "<table border=\"1\" class=\"dataframe\">\n",
       "  <thead>\n",
       "    <tr style=\"text-align: right;\">\n",
       "      <th></th>\n",
       "      <th>topic_score</th>\n",
       "      <th>sentiment_score</th>\n",
       "    </tr>\n",
       "  </thead>\n",
       "  <tbody>\n",
       "    <tr>\n",
       "      <th>0</th>\n",
       "      <td>0</td>\n",
       "      <td>0.803533</td>\n",
       "    </tr>\n",
       "    <tr>\n",
       "      <th>1</th>\n",
       "      <td>1</td>\n",
       "      <td>0.855772</td>\n",
       "    </tr>\n",
       "    <tr>\n",
       "      <th>2</th>\n",
       "      <td>2</td>\n",
       "      <td>0.696170</td>\n",
       "    </tr>\n",
       "    <tr>\n",
       "      <th>3</th>\n",
       "      <td>3</td>\n",
       "      <td>0.900804</td>\n",
       "    </tr>\n",
       "    <tr>\n",
       "      <th>4</th>\n",
       "      <td>4</td>\n",
       "      <td>0.641940</td>\n",
       "    </tr>\n",
       "    <tr>\n",
       "      <th>5</th>\n",
       "      <td>0</td>\n",
       "      <td>0.740764</td>\n",
       "    </tr>\n",
       "    <tr>\n",
       "      <th>6</th>\n",
       "      <td>1</td>\n",
       "      <td>0.820366</td>\n",
       "    </tr>\n",
       "    <tr>\n",
       "      <th>7</th>\n",
       "      <td>2</td>\n",
       "      <td>0.631505</td>\n",
       "    </tr>\n",
       "    <tr>\n",
       "      <th>8</th>\n",
       "      <td>3</td>\n",
       "      <td>0.857143</td>\n",
       "    </tr>\n",
       "    <tr>\n",
       "      <th>9</th>\n",
       "      <td>4</td>\n",
       "      <td>0.635900</td>\n",
       "    </tr>\n",
       "  </tbody>\n",
       "</table>\n",
       "</div>"
      ],
      "text/plain": [
       "   topic_score  sentiment_score\n",
       "0            0         0.803533\n",
       "1            1         0.855772\n",
       "2            2         0.696170\n",
       "3            3         0.900804\n",
       "4            4         0.641940\n",
       "5            0         0.740764\n",
       "6            1         0.820366\n",
       "7            2         0.631505\n",
       "8            3         0.857143\n",
       "9            4         0.635900"
      ]
     },
     "execution_count": 401,
     "metadata": {},
     "output_type": "execute_result"
    }
   ],
   "source": [
    "# ts vs others\n",
    "df.groupby(by=[df.alias.isin(ts_restaurants), 'topic_score'], as_index=False).sentiment_score.mean()# .apply(lambda x: adjusted_sent_func(x)).unstack(level=1).plot(kind='bar')"
   ]
  },
  {
   "cell_type": "code",
   "execution_count": 388,
   "metadata": {},
   "outputs": [
    {
     "data": {
      "text/html": [
       "<div>\n",
       "<style scoped>\n",
       "    .dataframe tbody tr th:only-of-type {\n",
       "        vertical-align: middle;\n",
       "    }\n",
       "\n",
       "    .dataframe tbody tr th {\n",
       "        vertical-align: top;\n",
       "    }\n",
       "\n",
       "    .dataframe thead th {\n",
       "        text-align: right;\n",
       "    }\n",
       "</style>\n",
       "<table border=\"1\" class=\"dataframe\">\n",
       "  <thead>\n",
       "    <tr style=\"text-align: right;\">\n",
       "      <th></th>\n",
       "      <th>sentiment_score</th>\n",
       "    </tr>\n",
       "    <tr>\n",
       "      <th>topic_score</th>\n",
       "      <th></th>\n",
       "    </tr>\n",
       "  </thead>\n",
       "  <tbody>\n",
       "    <tr>\n",
       "      <th>0</th>\n",
       "      <td>0.801150</td>\n",
       "    </tr>\n",
       "    <tr>\n",
       "      <th>1</th>\n",
       "      <td>0.854006</td>\n",
       "    </tr>\n",
       "    <tr>\n",
       "      <th>2</th>\n",
       "      <td>0.693043</td>\n",
       "    </tr>\n",
       "    <tr>\n",
       "      <th>3</th>\n",
       "      <td>0.899147</td>\n",
       "    </tr>\n",
       "    <tr>\n",
       "      <th>4</th>\n",
       "      <td>0.641635</td>\n",
       "    </tr>\n",
       "  </tbody>\n",
       "</table>\n",
       "</div>"
      ],
      "text/plain": [
       "             sentiment_score\n",
       "topic_score                 \n",
       "0                   0.801150\n",
       "1                   0.854006\n",
       "2                   0.693043\n",
       "3                   0.899147\n",
       "4                   0.641635"
      ]
     },
     "execution_count": 388,
     "metadata": {},
     "output_type": "execute_result"
    }
   ],
   "source": [
    "df.groupby(by=df.topic_score).mean().loc[:,['sentiment_score']]"
   ]
  },
  {
   "cell_type": "code",
   "execution_count": 260,
   "metadata": {},
   "outputs": [
    {
     "data": {
      "text/plain": [
       "<matplotlib.axes._subplots.AxesSubplot at 0x1a4adf9a20>"
      ]
     },
     "execution_count": 260,
     "metadata": {},
     "output_type": "execute_result"
    },
    {
     "data": {
      "image/png": "[encoded data removed]",
      "text/plain": [
       "<Figure size 648x432 with 1 Axes>"
      ]
     },
     "metadata": {
      "needs_background": "light"
     },
     "output_type": "display_data"
    }
   ],
   "source": [
    "columns = [f'topic_{i}' for i in range(5)]\n",
    "columns.extend('topic_score')\n",
    "pd_sent_topics = df[df.alias.isin(ts_restaurants)].groupby(['topic_score', 'alias'])\\\n",
    ".mean().loc[:,['sentiment_score']].apply(lambda x: adjusted_sent_func(x))\n",
    "pd_sent_topics.unstack(level=0).plot(kind='bar', **plot_params)"
   ]
  },
  {
   "cell_type": "code",
   "execution_count": 184,
   "metadata": {},
   "outputs": [
    {
     "data": {
      "text/plain": [
       "<matplotlib.axes._subplots.AxesSubplot at 0x1a45490550>"
      ]
     },
     "execution_count": 184,
     "metadata": {},
     "output_type": "execute_result"
    },
    {
     "data": {
      "image/png": "[encoded data removed]",
      "text/plain": [
       "<Figure size 432x288 with 1 Axes>"
      ]
     },
     "metadata": {
      "needs_background": "light"
     },
     "output_type": "display_data"
    }
   ],
   "source": [
    "pd_alias_topic = df.groupby(['alias','topic_score']).mean().loc[more_than_N[10:15],['sentiment_score']]\n",
    "pd_alias_topic['sent_adjusted'] = pd_alias_topic.sentiment_score.apply(lambda x: (x*2)-1)\n",
    "pd_alias_topic.sent_adjusted.unstack(level=1).plot(kind='bar', subplots=False, rot=25)"
   ]
  },
  {
   "cell_type": "code",
   "execution_count": 297,
   "metadata": {},
   "outputs": [
    {
     "data": {
      "text/html": [
       "<div>\n",
       "<style scoped>\n",
       "    .dataframe tbody tr th:only-of-type {\n",
       "        vertical-align: middle;\n",
       "    }\n",
       "\n",
       "    .dataframe tbody tr th {\n",
       "        vertical-align: top;\n",
       "    }\n",
       "\n",
       "    .dataframe thead th {\n",
       "        text-align: right;\n",
       "    }\n",
       "</style>\n",
       "<table border=\"1\" class=\"dataframe\">\n",
       "  <thead>\n",
       "    <tr style=\"text-align: right;\">\n",
       "      <th></th>\n",
       "      <th>sum</th>\n",
       "      <th>mean</th>\n",
       "      <th>std</th>\n",
       "    </tr>\n",
       "    <tr>\n",
       "      <th>topic_score</th>\n",
       "      <th></th>\n",
       "      <th></th>\n",
       "      <th></th>\n",
       "    </tr>\n",
       "  </thead>\n",
       "  <tbody>\n",
       "    <tr>\n",
       "      <th>0</th>\n",
       "      <td>34274</td>\n",
       "      <td>0.801150</td>\n",
       "      <td>0.399140</td>\n",
       "    </tr>\n",
       "    <tr>\n",
       "      <th>1</th>\n",
       "      <td>62743</td>\n",
       "      <td>0.854006</td>\n",
       "      <td>0.353102</td>\n",
       "    </tr>\n",
       "    <tr>\n",
       "      <th>2</th>\n",
       "      <td>20381</td>\n",
       "      <td>0.693043</td>\n",
       "      <td>0.461239</td>\n",
       "    </tr>\n",
       "    <tr>\n",
       "      <th>3</th>\n",
       "      <td>10119</td>\n",
       "      <td>0.899147</td>\n",
       "      <td>0.301147</td>\n",
       "    </tr>\n",
       "    <tr>\n",
       "      <th>4</th>\n",
       "      <td>24932</td>\n",
       "      <td>0.641635</td>\n",
       "      <td>0.479526</td>\n",
       "    </tr>\n",
       "  </tbody>\n",
       "</table>\n",
       "</div>"
      ],
      "text/plain": [
       "               sum      mean       std\n",
       "topic_score                           \n",
       "0            34274  0.801150  0.399140\n",
       "1            62743  0.854006  0.353102\n",
       "2            20381  0.693043  0.461239\n",
       "3            10119  0.899147  0.301147\n",
       "4            24932  0.641635  0.479526"
      ]
     },
     "execution_count": 297,
     "metadata": {},
     "output_type": "execute_result"
    }
   ],
   "source": [
    "df.groupby(['topic_score']).sentiment_score.agg([np.sum, np.mean, np.std])"
   ]
  },
  {
   "cell_type": "code",
   "execution_count": null,
   "metadata": {},
   "outputs": [],
   "source": []
  }
 ],
 "metadata": {
  "kernelspec": {
   "display_name": "Python 3",
   "language": "python",
   "name": "python3"
  },
  "language_info": {
   "codemirror_mode": {
    "name": "ipython",
    "version": 3
   },
   "file_extension": ".py",
   "mimetype": "text/x-python",
   "name": "python",
   "nbconvert_exporter": "python",
   "pygments_lexer": "ipython3",
   "version": "3.7.1"
  }
 },
 "nbformat": 4,
 "nbformat_minor": 2
}
