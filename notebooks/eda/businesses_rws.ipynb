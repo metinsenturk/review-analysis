{
 "cells": [
  {
   "cell_type": "code",
   "execution_count": 1,
   "metadata": {},
   "outputs": [],
   "source": [
    "import numpy as np\n",
    "import pandas as pd\n",
    "\n",
    "file_path = \"../../data/raw/yp_competitors_rws.csv\"\n",
    "dataset = pd.read_csv(file_path) "
   ]
  },
  {
   "cell_type": "markdown",
   "metadata": {},
   "source": [
    "## Stats for All"
   ]
  },
  {
   "cell_type": "code",
   "execution_count": 2,
   "metadata": {},
   "outputs": [
    {
     "data": {
      "text/html": [
       "<div>\n",
       "<style scoped>\n",
       "    .dataframe tbody tr th:only-of-type {\n",
       "        vertical-align: middle;\n",
       "    }\n",
       "\n",
       "    .dataframe tbody tr th {\n",
       "        vertical-align: top;\n",
       "    }\n",
       "\n",
       "    .dataframe thead th {\n",
       "        text-align: right;\n",
       "    }\n",
       "</style>\n",
       "<table border=\"1\" class=\"dataframe\">\n",
       "  <thead>\n",
       "    <tr style=\"text-align: right;\">\n",
       "      <th></th>\n",
       "      <th>alias</th>\n",
       "      <th>ratingValue</th>\n",
       "      <th>dataPublished</th>\n",
       "      <th>description</th>\n",
       "      <th>author</th>\n",
       "    </tr>\n",
       "  </thead>\n",
       "  <tbody>\n",
       "    <tr>\n",
       "      <th>0</th>\n",
       "      <td>kimos-maui-lahaina</td>\n",
       "      <td>5</td>\n",
       "      <td>2019-01-06</td>\n",
       "      <td>I stumbled across this great restaurant overlo...</td>\n",
       "      <td>Bella L.</td>\n",
       "    </tr>\n",
       "    <tr>\n",
       "      <th>1</th>\n",
       "      <td>kimos-maui-lahaina</td>\n",
       "      <td>5</td>\n",
       "      <td>2019-01-04</td>\n",
       "      <td>Excellent view on the ocean at sunset.\\nExcell...</td>\n",
       "      <td>Rachou A.</td>\n",
       "    </tr>\n",
       "    <tr>\n",
       "      <th>2</th>\n",
       "      <td>kimos-maui-lahaina</td>\n",
       "      <td>3</td>\n",
       "      <td>2018-12-25</td>\n",
       "      <td>This place was not what the reviews portrayed ...</td>\n",
       "      <td>Ozzetta B.</td>\n",
       "    </tr>\n",
       "    <tr>\n",
       "      <th>3</th>\n",
       "      <td>kimos-maui-lahaina</td>\n",
       "      <td>2</td>\n",
       "      <td>2018-12-08</td>\n",
       "      <td>We were excited to repeat our Keoki's (in Kaua...</td>\n",
       "      <td>Arleen C.</td>\n",
       "    </tr>\n",
       "    <tr>\n",
       "      <th>4</th>\n",
       "      <td>kimos-maui-lahaina</td>\n",
       "      <td>3</td>\n",
       "      <td>2018-11-29</td>\n",
       "      <td>If you're looking for a tourist spot, this is ...</td>\n",
       "      <td>Carol B.</td>\n",
       "    </tr>\n",
       "  </tbody>\n",
       "</table>\n",
       "</div>"
      ],
      "text/plain": [
       "                alias  ratingValue dataPublished  \\\n",
       "0  kimos-maui-lahaina            5    2019-01-06   \n",
       "1  kimos-maui-lahaina            5    2019-01-04   \n",
       "2  kimos-maui-lahaina            3    2018-12-25   \n",
       "3  kimos-maui-lahaina            2    2018-12-08   \n",
       "4  kimos-maui-lahaina            3    2018-11-29   \n",
       "\n",
       "                                         description      author  \n",
       "0  I stumbled across this great restaurant overlo...    Bella L.  \n",
       "1  Excellent view on the ocean at sunset.\\nExcell...   Rachou A.  \n",
       "2  This place was not what the reviews portrayed ...  Ozzetta B.  \n",
       "3  We were excited to repeat our Keoki's (in Kaua...   Arleen C.  \n",
       "4  If you're looking for a tourist spot, this is ...    Carol B.  "
      ]
     },
     "execution_count": 2,
     "metadata": {},
     "output_type": "execute_result"
    }
   ],
   "source": [
    "dataset.head()"
   ]
  },
  {
   "cell_type": "code",
   "execution_count": 3,
   "metadata": {},
   "outputs": [
    {
     "data": {
      "text/plain": [
       "4.18671784625092"
      ]
     },
     "execution_count": 3,
     "metadata": {},
     "output_type": "execute_result"
    }
   ],
   "source": [
    "dataset.ratingValue.mean()"
   ]
  },
  {
   "cell_type": "code",
   "execution_count": 63,
   "metadata": {},
   "outputs": [
    {
     "data": {
      "text/plain": [
       "5    11050\n",
       "4     3970\n",
       "3     1669\n",
       "1     1172\n",
       "2     1157\n",
       "Name: ratingValue, dtype: int64"
      ]
     },
     "execution_count": 63,
     "metadata": {},
     "output_type": "execute_result"
    }
   ],
   "source": [
    "dataset.ratingValue.value_counts()"
   ]
  },
  {
   "cell_type": "code",
   "execution_count": 5,
   "metadata": {},
   "outputs": [
    {
     "data": {
      "text/plain": [
       "ululanis-hawaiian-shave-ice-lahaina    2611\n",
       "kimos-maui-lahaina                     2568\n",
       "lahaina-fish-lahaina                   1943\n",
       "lahaina-grill-lahaina                  1845\n",
       "808-grindz-cafe-lahaina-2              1772\n",
       "fleetwoods-lahaina-5                   1250\n",
       "lahaina-luna-cafe-lahaina              1032\n",
       "longhis-lahaina                         638\n",
       "lahaina-pizza-company-lahaina           637\n",
       "sale-pepe-lahaina                       632\n",
       "Name: alias, dtype: int64"
      ]
     },
     "execution_count": 5,
     "metadata": {},
     "output_type": "execute_result"
    }
   ],
   "source": [
    "dataset.alias.value_counts()[:10]"
   ]
  },
  {
   "cell_type": "code",
   "execution_count": 10,
   "metadata": {},
   "outputs": [],
   "source": [
    "from nltk import word_tokenize\n",
    "from nltk import Text\n",
    "from nltk.corpus import stopwords\n",
    "from nltk import sent_tokenize, word_tokenize\n",
    "\n",
    "# using nltk.Text object\n",
    "def create_text(reviews):\n",
    "    result = []\n",
    "    for review in reviews:\n",
    "        result.extend(word_tokenize(review))\n",
    "    return Text(result)\n",
    "\n",
    "def lexical_diversity(text):\n",
    "    return len(set(text)) / len(text)\n",
    "\n",
    "def vocabulary_size(text):\n",
    "    text.tokens = [x.lower() for x in text.tokens if x.isalpha()]\n",
    "    vocab = len(set(text))\n",
    "    return vocab\n",
    "\n",
    "def content_size(tokens):\n",
    "    sw_list = stopwords.words('english')\n",
    "    content = [w for w in tokens if w.lower() not in sw_list]\n",
    "    return round(len(content) / len(tokens), 5)"
   ]
  },
  {
   "cell_type": "code",
   "execution_count": 9,
   "metadata": {},
   "outputs": [
    {
     "data": {
      "text/plain": [
       "<Text: I stumbled across this great restaurant overlooking the...>"
      ]
     },
     "execution_count": 9,
     "metadata": {},
     "output_type": "execute_result"
    }
   ],
   "source": [
    "reviews = create_text(dataset.description)\n",
    "reviews"
   ]
  },
  {
   "cell_type": "code",
   "execution_count": 11,
   "metadata": {},
   "outputs": [],
   "source": [
    "_text = \"\".join(dataset.description)"
   ]
  },
  {
   "cell_type": "code",
   "execution_count": 12,
   "metadata": {},
   "outputs": [
    {
     "data": {
      "text/plain": [
       "1900597"
      ]
     },
     "execution_count": 12,
     "metadata": {},
     "output_type": "execute_result"
    }
   ],
   "source": [
    "len(word_tokenize(_text))"
   ]
  },
  {
   "cell_type": "code",
   "execution_count": 14,
   "metadata": {},
   "outputs": [
    {
     "data": {
      "text/plain": [
       "1924253"
      ]
     },
     "execution_count": 14,
     "metadata": {},
     "output_type": "execute_result"
    }
   ],
   "source": [
    "len(reviews.tokens)"
   ]
  },
  {
   "cell_type": "code",
   "execution_count": 13,
   "metadata": {},
   "outputs": [
    {
     "data": {
      "text/plain": [
       "117031"
      ]
     },
     "execution_count": 13,
     "metadata": {},
     "output_type": "execute_result"
    }
   ],
   "source": [
    "len(sent_tokenize(_text))"
   ]
  },
  {
   "cell_type": "code",
   "execution_count": 15,
   "metadata": {},
   "outputs": [
    {
     "data": {
      "text/plain": [
       "20609"
      ]
     },
     "execution_count": 15,
     "metadata": {},
     "output_type": "execute_result"
    }
   ],
   "source": [
    "vocabulary_size(reviews)"
   ]
  },
  {
   "cell_type": "code",
   "execution_count": 16,
   "metadata": {},
   "outputs": [
    {
     "data": {
      "text/plain": [
       "0.012566509389668499"
      ]
     },
     "execution_count": 16,
     "metadata": {},
     "output_type": "execute_result"
    }
   ],
   "source": [
    "lexical_diversity(reviews)"
   ]
  },
  {
   "cell_type": "code",
   "execution_count": 17,
   "metadata": {},
   "outputs": [
    {
     "data": {
      "text/plain": [
       "[('we', 26568),\n",
       " ('was', 39260),\n",
       " ('to', 33786),\n",
       " ('the', 94474),\n",
       " ('of', 22990),\n",
       " ('it', 26174),\n",
       " ('i', 33958),\n",
       " ('for', 19429),\n",
       " ('and', 60152),\n",
       " ('a', 40103)]"
      ]
     },
     "execution_count": 17,
     "metadata": {},
     "output_type": "execute_result"
    }
   ],
   "source": [
    "sorted(reviews.vocab().most_common(10), reverse=True)"
   ]
  },
  {
   "cell_type": "code",
   "execution_count": 58,
   "metadata": {},
   "outputs": [
    {
     "data": {
      "text/plain": [
       "['thecriticalsimoncowellyelper', 'thecriticalsimoncowellyelper']"
      ]
     },
     "execution_count": 58,
     "metadata": {},
     "output_type": "execute_result"
    }
   ],
   "source": [
    "maxlen = max(len(word) for word in reviews.tokens)\n",
    "[word for word in reviews.tokens if len(word) == (maxlen)]"
   ]
  },
  {
   "cell_type": "code",
   "execution_count": 44,
   "metadata": {},
   "outputs": [
    {
     "name": "stdout",
     "output_type": "stream",
     "text": [
      "  1   5.76% the\n",
      "  2   9.43% and\n",
      "  3  11.87% a\n",
      "  4  14.27% was\n",
      "  5  16.34% i\n",
      "  6  18.40% to\n",
      "  7  20.02% we\n",
      "  8  21.61% it\n",
      "  9  23.02% of\n",
      " 10  24.20% for\n",
      " 11  25.37% is\n"
     ]
    }
   ],
   "source": [
    "fd = reviews.vocab()\n",
    "cumulative = 0\n",
    "most_common_words = [word for (word, count) in fd.most_common()]\n",
    "for rank, word in enumerate(most_common_words):\n",
    "    cumulative += fd.freq(word)\n",
    "    print(\"%3d %6.2f%% %s\" % (rank + 1, cumulative * 100, word))\n",
    "    if cumulative > 0.25:\n",
    "        break"
   ]
  },
  {
   "cell_type": "code",
   "execution_count": 18,
   "metadata": {},
   "outputs": [
    {
     "data": {
      "text/plain": [
       "<Figure size 640x480 with 1 Axes>"
      ]
     },
     "metadata": {},
     "output_type": "display_data"
    }
   ],
   "source": [
    "reviews.vocab().plot(20, cumulative=50)"
   ]
  },
  {
   "cell_type": "code",
   "execution_count": 19,
   "metadata": {},
   "outputs": [
    {
     "data": {
      "text/plain": [
       "35"
      ]
     },
     "execution_count": 19,
     "metadata": {},
     "output_type": "execute_result"
    }
   ],
   "source": [
    "reviews.vocab()[\"common\"]"
   ]
  },
  {
   "cell_type": "code",
   "execution_count": 20,
   "metadata": {},
   "outputs": [
    {
     "data": {
      "text/plain": [
       "0.51308"
      ]
     },
     "execution_count": 20,
     "metadata": {},
     "output_type": "execute_result"
    }
   ],
   "source": [
    "content_size(reviews.tokens)"
   ]
  },
  {
   "cell_type": "code",
   "execution_count": 23,
   "metadata": {},
   "outputs": [
    {
     "name": "stdout",
     "output_type": "stream",
     "text": [
      "['about', 'also', 'amazing', 'an', 'by', 'did', 'dinner', 'do', 'go', 'got', 'he', 'lahaina', 'nice', 'or', 'ordered', 'restaurant', 'their', 'up', 'view', 'what', 'when', 'will', 'your']\n"
     ]
    }
   ],
   "source": [
    "some_words_freq = sorted(w for w in set(reviews.vocab()) if reviews.vocab()[w] > 3000 and reviews.vocab()[w] < 4000)\n",
    "print(some_words_freq)"
   ]
  },
  {
   "cell_type": "code",
   "execution_count": 24,
   "metadata": {},
   "outputs": [
    {
     "data": {
      "image/png": "[encoded data removed]",
      "text/plain": [
       "<Figure size 432x288 with 1 Axes>"
      ]
     },
     "metadata": {
      "needs_background": "light"
     },
     "output_type": "display_data"
    }
   ],
   "source": [
    "from nltk import FreqDist\n",
    "word_lengths = FreqDist(len(w) for w in reviews)\n",
    "word_lengths.plot()"
   ]
  },
  {
   "cell_type": "code",
   "execution_count": 92,
   "metadata": {},
   "outputs": [
    {
     "data": {
      "image/png": "[encoded data removed]",
      "text/plain": [
       "<Figure size 432x288 with 1 Axes>"
      ]
     },
     "metadata": {
      "needs_background": "light"
     },
     "output_type": "display_data"
    }
   ],
   "source": [
    "from numpy import arange\n",
    "from matplotlib import pyplot\n",
    "import nltk\n",
    "colors = 'rgbcmyk' # red, green, blue, cyan, magenta, yellow, black\n",
    "\n",
    "def bar_chart(categories, words, counts):\n",
    "    \"Plot a bar chart showing counts for each word by category\"\n",
    "    ind = arange(len(words))\n",
    "    width = 1 / (len(categories) + 1)\n",
    "    bar_groups = []\n",
    "    for c in range(len(categories)):\n",
    "        bars = pyplot.bar(ind+c*width, counts[categories[c]], width, color=colors[c % len(colors)])\n",
    "        bar_groups.append(bars)\n",
    "    pyplot.xticks(ind+width, words)\n",
    "    pyplot.legend([b[0] for b in bar_groups], categories, loc='upper left')\n",
    "    pyplot.ylabel('Frequency')\n",
    "    pyplot.title('Frequency of Six Modal Verbs by Rating')\n",
    "    pyplot.show()\n",
    "    \n",
    "modals = ['can', 'could', 'may', 'might', 'must', 'will']\n",
    "cfdist = ConditionalFreqDist(\n",
    "    (row.ratingValue, word)\n",
    "    for i, row in dataset.iterrows()\n",
    "    for word in word_tokenize(row.description)\n",
    "    if word in modals\n",
    ")\n",
    "counts = {}\n",
    "for i in range(1, 6):\n",
    "    counts[i] = [cfdist[i][word] for word in modals]\n",
    "bar_chart(range(1, 6), modals, counts)"
   ]
  },
  {
   "cell_type": "code",
   "execution_count": 105,
   "metadata": {},
   "outputs": [
    {
     "name": "stdout",
     "output_type": "stream",
     "text": [
      "                                                   Monday   Tuesday Wednesday  Thursday    Friday  Saturday    Sunday \n",
      "                      808-grindz-cafe-lahaina-2       181       271       261       250       253       293       263 \n",
      "                    aloha-kacoffeeaka-lahaina-4         1         0         0         0         1         0         0 \n",
      "        beach-sunset-yoga-hawaii-maui-lahaina-3         1         0         0         0         0         0         0 \n",
      "                               blu-maui-lahaina         0         1         0         0         0         0         0 \n",
      "                      bobs-dogs-of-maui-lahaina         4         3         4         2         1         7         5 \n",
      "                 bubba-gump-shrimp-co-lahaina-3        87        84        73        80        63        87        95 \n",
      "                         cafe-cafe-maui-lahaina        42        25        25        26        31        23        30 \n",
      "             cheeseburger-in-paradise-lahaina-2        67        45        72        50        49        61        47 \n",
      "       cioccolato-amore-chocolate-aloha-lahaina         0         0         1         0         0         0         0 \n",
      "                           fleetwoods-lahaina-5       185       195       149       136       182       216       187 \n",
      "                                 fro-yo-lahaina         0         0         0         0         0         0         1 \n",
      "                     gerards-restaurant-lahaina        23        43        45        35        34        35        39 \n",
      "                   kaanapali-beach-park-lahaina         4         5         1         6         4         3         4 \n",
      "                                  kakes-lahaina         0         1         0         0         0         0         0 \n",
      "                             kimos-maui-lahaina       360       357       372       360       368       353       398 \n",
      "                       kusina-ni-jayboy-lahaina        17         7         5         9        10         7        29 \n",
      "              l-and-l-hawaiian-barbecue-lahaina         2         0         3         3         5         2         0 \n",
      "                 l-and-l-hawaiian-bbq-lahaina-3         2         1         1         2         6         4         6 \n",
      "                           lahaina-fish-lahaina       289       277       290       270       247       267       303 \n",
      "                          lahaina-grill-lahaina       282       292       239       239       254       265       274 \n",
      "                      lahaina-luna-cafe-lahaina       149       165       132       130       124       174       158 \n",
      "                  lahaina-pizza-company-lahaina       101       102        82        86        84        87        95 \n",
      "                     lahaina-sports-bar-lahaina        38        28        17        28        20        28        40 \n",
      "                     lahaina-sushi-ko-lahaina-2        11        15        16        21        20        20        14 \n",
      "                                longhis-lahaina        93        94        92        79        76        94       110 \n",
      "                            mcdonalds-lahaina-3         9         7         7         6         8         9         4 \n",
      "                            mr-sub-deli-lahaina         4         5         4         0         6         3         2 \n",
      "                 nagasako-okazu-ya-deli-lahaina        16        20        16        18        19        11        12 \n",
      "            noodle-bar-vietnamese-pho-lahaina-2        11         8         8        11        11         5         8 \n",
      "                 old-lahaina-shaved-ice-lahaina         0         0         0         0         0         1         0 \n",
      "                       oneloa-bay-beach-lahaina         1         1         0         0         1         0         0 \n",
      "                     ono-gelato-company-lahaina        70        64        60        51        61        59        61 \n",
      "                          paradice-eats-lahaina         0         0         0         0         1         0         0 \n",
      "                    pi-artisan-pizzeria-lahaina        64        47        54        54        57        58        68 \n",
      "                ruths-chris-steak-house-lahaina        31        40        37        33        44        37        48 \n",
      "                              sale-pepe-lahaina        75       106       102        93        73       115        68 \n",
      "                       santa-fe-cantina-lahaina         3         2         0         1         1         0         1 \n",
      "sly-and-robbie-oye-concert-maui-theatre-lahaina         0         2         0         0         0         0         1 \n",
      "                            starbucks-lahaina-2         3         9         6         6         4         4         3 \n",
      "                          surf-ripper-lahaina-5        11         7         9         7         9        10         4 \n",
      "                  sweet-emotions-bakery-lahaina         0         0         0         0         0         0         1 \n",
      "                             taquereata-lahaina        17        13        22        19        14        10        17 \n",
      "                 thai-chef-restaurant-lahaina-3        28        56        31        52        34        28        27 \n",
      "                       the-dirty-monkey-lahaina        47        38        33        47        24        51        49 \n",
      "                tiki-terrace-restaurant-lahaina         0         0         1         0         2         0         2 \n",
      "                     ula-ula-food-truck-lahaina         0         2         1         4         1         1         0 \n",
      "            ululanis-hawaiian-shave-ice-lahaina       413       366       379       366       347       367       373 \n",
      "                  uncle-bens-hana-tacos-lahaina         0         0         1         0         0         0         0 \n",
      "                         wo-hing-museum-lahaina         1         1         4         0         1         3         4 \n",
      "                                  yaziz-lahaina         7         3         6         7        10         1         2 \n"
     ]
    }
   ],
   "source": [
    "from nltk import ConditionalFreqDist\n",
    "import datetime\n",
    "dataset.dataPublished = pd.to_datetime(dataset.dataPublished)\n",
    "dataset[\"day\"] = dataset.dataPublished.apply(lambda x: x.strftime(\"%A\"))\n",
    "cfd = ConditionalFreqDist(\n",
    "    (business.alias, business.day) \n",
    "    for index, business in dataset.iterrows()\n",
    ")\n",
    "days = [\"Monday\", \"Tuesday\", \"Wednesday\", \"Thursday\", \"Friday\", \"Saturday\", \"Sunday\"]\n",
    "cfd.tabulate(samples=days)"
   ]
  },
  {
   "cell_type": "code",
   "execution_count": 116,
   "metadata": {},
   "outputs": [
    {
     "data": {
      "image/png": "[encoded data removed]",
      "text/plain": [
       "<Figure size 432x288 with 1 Axes>"
      ]
     },
     "metadata": {
      "needs_background": "light"
     },
     "output_type": "display_data"
    }
   ],
   "source": [
    "cfd.plot(conditions=[\n",
    "    \"808-grindz-cafe-lahaina-2\", \n",
    "    \"ululanis-hawaiian-shave-ice-lahaina\", \n",
    "    \"kimos-maui-lahaina\",\n",
    "    \"lahaina-fish-lahaina\"]\n",
    ")"
   ]
  },
  {
   "cell_type": "code",
   "execution_count": 30,
   "metadata": {},
   "outputs": [
    {
     "data": {
      "image/png": "[encoded data removed]",
      "text/plain": [
       "<Figure size 432x288 with 1 Axes>"
      ]
     },
     "metadata": {
      "needs_background": "light"
     },
     "output_type": "display_data"
    }
   ],
   "source": [
    "reviews.dispersion_plot([\"yum\", \"parking\", \"terrible\", \"hate\", \"clean\", \"kitchen\", \"staff\", \"manager\"])"
   ]
  },
  {
   "cell_type": "markdown",
   "metadata": {},
   "source": [
    "## Stats for Individual Records"
   ]
  },
  {
   "cell_type": "code",
   "execution_count": 34,
   "metadata": {},
   "outputs": [
    {
     "data": {
      "text/plain": [
       "<matplotlib.axes._subplots.AxesSubplot at 0x1a269555c0>"
      ]
     },
     "execution_count": 34,
     "metadata": {},
     "output_type": "execute_result"
    },
    {
     "data": {
      "image/png": "[encoded data removed]",
      "text/plain": [
       "<Figure size 1224x360 with 1 Axes>"
      ]
     },
     "metadata": {
      "needs_background": "light"
     },
     "output_type": "display_data"
    }
   ],
   "source": [
    "import datetime\n",
    "dataset.dataPublished = pd.to_datetime(dataset.dataPublished)\n",
    "dataset['Date'] = pd.to_datetime(dataset['dataPublished']) - pd.to_timedelta(5, unit='d')\n",
    "a = dataset.loc[dataset.alias == 'kimos-maui-lahaina'].groupby([pd.Grouper(key=\"Date\", freq=\"W-MON\")])['ratingValue'].sum()\n",
    "# a.plot('line', figsize=(15, 10))\n",
    "a[a.index > datetime.datetime(2017, 1, 1)].plot('line', figsize=(17, 5))"
   ]
  },
  {
   "cell_type": "code",
   "execution_count": 33,
   "metadata": {},
   "outputs": [
    {
     "data": {
      "text/plain": [
       "<matplotlib.axes._subplots.AxesSubplot at 0x1a28d5a278>"
      ]
     },
     "execution_count": 33,
     "metadata": {},
     "output_type": "execute_result"
    },
    {
     "data": {
      "image/png": "[encoded data removed]",
      "text/plain": [
       "<Figure size 1224x360 with 1 Axes>"
      ]
     },
     "metadata": {
      "needs_background": "light"
     },
     "output_type": "display_data"
    }
   ],
   "source": [
    "a = dataset.Date.apply(lambda t: t.to_period(freq='y')).value_counts()\n",
    "a.plot('line', figsize=(17, 5))"
   ]
  },
  {
   "cell_type": "code",
   "execution_count": 36,
   "metadata": {},
   "outputs": [],
   "source": [
    "businesses = set(dataset.alias)\n",
    "results = []\n",
    "for business in businesses:\n",
    "    data = dataset.loc[dataset.alias == business]\n",
    "    _concataneted = \"\".join(data.description)\n",
    "    text = create_text(data.description)\n",
    "    word_len = len(word_tokenize(_concataneted))\n",
    "    sent_len = len(sent_tokenize(_concataneted))\n",
    "    results.append({\n",
    "        \"rating_cnt\": len(data),\n",
    "        \"rating_avg\": data.ratingValue.mean(),\n",
    "        \"rating_sum\": data.ratingValue.sum(),\n",
    "        \"lexical_diversity\": lexical_diversity(text),\n",
    "        \"tokens_size\": len(text),\n",
    "        \"vocabulary_size\": vocabulary_size(text),\n",
    "        \"words_in_sent_avg\": word_len / sent_len,\n",
    "        \"word_tokenize\": word_len,\n",
    "        \"sent_tokenize\": sent_len,\n",
    "        \"content_size\": content_size(text.tokens)\n",
    "    })"
   ]
  },
  {
   "cell_type": "code",
   "execution_count": 37,
   "metadata": {},
   "outputs": [
    {
     "data": {
      "text/html": [
       "<div>\n",
       "<style scoped>\n",
       "    .dataframe tbody tr th:only-of-type {\n",
       "        vertical-align: middle;\n",
       "    }\n",
       "\n",
       "    .dataframe tbody tr th {\n",
       "        vertical-align: top;\n",
       "    }\n",
       "\n",
       "    .dataframe thead th {\n",
       "        text-align: right;\n",
       "    }\n",
       "</style>\n",
       "<table border=\"1\" class=\"dataframe\">\n",
       "  <thead>\n",
       "    <tr style=\"text-align: right;\">\n",
       "      <th></th>\n",
       "      <th>content_size</th>\n",
       "      <th>lexical_diversity</th>\n",
       "      <th>rating_avg</th>\n",
       "      <th>rating_cnt</th>\n",
       "      <th>rating_sum</th>\n",
       "      <th>sent_tokenize</th>\n",
       "      <th>tokens_size</th>\n",
       "      <th>vocabulary_size</th>\n",
       "      <th>word_tokenize</th>\n",
       "      <th>words_in_sent_avg</th>\n",
       "    </tr>\n",
       "  </thead>\n",
       "  <tbody>\n",
       "    <tr>\n",
       "      <th>kimos-maui-lahaina</th>\n",
       "      <td>0.51152</td>\n",
       "      <td>0.039341</td>\n",
       "      <td>4.027648</td>\n",
       "      <td>2568</td>\n",
       "      <td>10343</td>\n",
       "      <td>16306</td>\n",
       "      <td>268705</td>\n",
       "      <td>7473</td>\n",
       "      <td>265309</td>\n",
       "      <td>16.270637</td>\n",
       "    </tr>\n",
       "    <tr>\n",
       "      <th>lahaina-grill-lahaina</th>\n",
       "      <td>0.51006</td>\n",
       "      <td>0.043691</td>\n",
       "      <td>4.546883</td>\n",
       "      <td>1845</td>\n",
       "      <td>8389</td>\n",
       "      <td>14713</td>\n",
       "      <td>247806</td>\n",
       "      <td>7748</td>\n",
       "      <td>245498</td>\n",
       "      <td>16.685788</td>\n",
       "    </tr>\n",
       "    <tr>\n",
       "      <th>ululanis-hawaiian-shave-ice-lahaina</th>\n",
       "      <td>0.51994</td>\n",
       "      <td>0.037418</td>\n",
       "      <td>4.790885</td>\n",
       "      <td>2611</td>\n",
       "      <td>12509</td>\n",
       "      <td>14625</td>\n",
       "      <td>244430</td>\n",
       "      <td>6450</td>\n",
       "      <td>241616</td>\n",
       "      <td>16.520752</td>\n",
       "    </tr>\n",
       "    <tr>\n",
       "      <th>lahaina-fish-lahaina</th>\n",
       "      <td>0.51960</td>\n",
       "      <td>0.049239</td>\n",
       "      <td>3.985589</td>\n",
       "      <td>1943</td>\n",
       "      <td>7744</td>\n",
       "      <td>10670</td>\n",
       "      <td>169094</td>\n",
       "      <td>6046</td>\n",
       "      <td>166645</td>\n",
       "      <td>15.618088</td>\n",
       "    </tr>\n",
       "    <tr>\n",
       "      <th>808-grindz-cafe-lahaina-2</th>\n",
       "      <td>0.51225</td>\n",
       "      <td>0.043341</td>\n",
       "      <td>4.537810</td>\n",
       "      <td>1772</td>\n",
       "      <td>8041</td>\n",
       "      <td>10702</td>\n",
       "      <td>168246</td>\n",
       "      <td>5055</td>\n",
       "      <td>166168</td>\n",
       "      <td>15.526817</td>\n",
       "    </tr>\n",
       "  </tbody>\n",
       "</table>\n",
       "</div>"
      ],
      "text/plain": [
       "                                     content_size  lexical_diversity  \\\n",
       "kimos-maui-lahaina                        0.51152           0.039341   \n",
       "lahaina-grill-lahaina                     0.51006           0.043691   \n",
       "ululanis-hawaiian-shave-ice-lahaina       0.51994           0.037418   \n",
       "lahaina-fish-lahaina                      0.51960           0.049239   \n",
       "808-grindz-cafe-lahaina-2                 0.51225           0.043341   \n",
       "\n",
       "                                     rating_avg  rating_cnt  rating_sum  \\\n",
       "kimos-maui-lahaina                     4.027648        2568       10343   \n",
       "lahaina-grill-lahaina                  4.546883        1845        8389   \n",
       "ululanis-hawaiian-shave-ice-lahaina    4.790885        2611       12509   \n",
       "lahaina-fish-lahaina                   3.985589        1943        7744   \n",
       "808-grindz-cafe-lahaina-2              4.537810        1772        8041   \n",
       "\n",
       "                                     sent_tokenize  tokens_size  \\\n",
       "kimos-maui-lahaina                           16306       268705   \n",
       "lahaina-grill-lahaina                        14713       247806   \n",
       "ululanis-hawaiian-shave-ice-lahaina          14625       244430   \n",
       "lahaina-fish-lahaina                         10670       169094   \n",
       "808-grindz-cafe-lahaina-2                    10702       168246   \n",
       "\n",
       "                                     vocabulary_size  word_tokenize  \\\n",
       "kimos-maui-lahaina                              7473         265309   \n",
       "lahaina-grill-lahaina                           7748         245498   \n",
       "ululanis-hawaiian-shave-ice-lahaina             6450         241616   \n",
       "lahaina-fish-lahaina                            6046         166645   \n",
       "808-grindz-cafe-lahaina-2                       5055         166168   \n",
       "\n",
       "                                     words_in_sent_avg  \n",
       "kimos-maui-lahaina                           16.270637  \n",
       "lahaina-grill-lahaina                        16.685788  \n",
       "ululanis-hawaiian-shave-ice-lahaina          16.520752  \n",
       "lahaina-fish-lahaina                         15.618088  \n",
       "808-grindz-cafe-lahaina-2                    15.526817  "
      ]
     },
     "execution_count": 37,
     "metadata": {},
     "output_type": "execute_result"
    }
   ],
   "source": [
    "pd.DataFrame(results, index=businesses).sort_values(\"tokens_size\", ascending=False).head()"
   ]
  },
  {
   "cell_type": "code",
   "execution_count": null,
   "metadata": {},
   "outputs": [],
   "source": [
    "\"sdfa\".isalpha()"
   ]
  },
  {
   "cell_type": "code",
   "execution_count": null,
   "metadata": {},
   "outputs": [],
   "source": [
    "len(reviews)"
   ]
  },
  {
   "cell_type": "code",
   "execution_count": null,
   "metadata": {},
   "outputs": [],
   "source": [
    "len(reviews.tokens)"
   ]
  },
  {
   "cell_type": "code",
   "execution_count": null,
   "metadata": {},
   "outputs": [],
   "source": []
  }
 ],
 "metadata": {
  "kernelspec": {
   "display_name": "Python 3",
   "language": "python",
   "name": "python3"
  },
  "language_info": {
   "codemirror_mode": {
    "name": "ipython",
    "version": 3
   },
   "file_extension": ".py",
   "mimetype": "text/x-python",
   "name": "python",
   "nbconvert_exporter": "python",
   "pygments_lexer": "ipython3",
   "version": "3.6.8"
  },
  "toc": {
   "base_numbering": 1,
   "nav_menu": {},
   "number_sections": true,
   "sideBar": true,
   "skip_h1_title": false,
   "title_cell": "Table of Contents",
   "title_sidebar": "Contents",
   "toc_cell": false,
   "toc_position": {},
   "toc_section_display": true,
   "toc_window_display": false
  }
 },
 "nbformat": 4,
 "nbformat_minor": 2
}
