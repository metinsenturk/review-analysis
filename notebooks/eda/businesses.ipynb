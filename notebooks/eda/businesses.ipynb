{
 "cells": [
  {
   "cell_type": "code",
   "execution_count": 32,
   "metadata": {},
   "outputs": [
    {
     "data": {
      "text/html": [
       "<div>\n",
       "<style scoped>\n",
       "    .dataframe tbody tr th:only-of-type {\n",
       "        vertical-align: middle;\n",
       "    }\n",
       "\n",
       "    .dataframe tbody tr th {\n",
       "        vertical-align: top;\n",
       "    }\n",
       "\n",
       "    .dataframe thead th {\n",
       "        text-align: right;\n",
       "    }\n",
       "</style>\n",
       "<table border=\"1\" class=\"dataframe\">\n",
       "  <thead>\n",
       "    <tr style=\"text-align: right;\">\n",
       "      <th></th>\n",
       "      <th>alias</th>\n",
       "      <th>categories</th>\n",
       "      <th>coordinates</th>\n",
       "      <th>display_phone</th>\n",
       "      <th>dist_to_alias</th>\n",
       "      <th>distance</th>\n",
       "      <th>id</th>\n",
       "      <th>image_url</th>\n",
       "      <th>is_closed</th>\n",
       "      <th>location</th>\n",
       "      <th>name</th>\n",
       "      <th>phone</th>\n",
       "      <th>price</th>\n",
       "      <th>rating</th>\n",
       "      <th>review_count</th>\n",
       "      <th>transactions</th>\n",
       "      <th>url</th>\n",
       "    </tr>\n",
       "  </thead>\n",
       "  <tbody>\n",
       "    <tr>\n",
       "      <th>0</th>\n",
       "      <td>kimos-maui-lahaina</td>\n",
       "      <td>[{'alias': 'seafood', 'title': 'Seafood'}, {'a...</td>\n",
       "      <td>{'latitude': 20.87595, 'longitude': -156.68056}</td>\n",
       "      <td>(808) 661-4811</td>\n",
       "      <td>kimos-maui-lahaina</td>\n",
       "      <td>4.279984</td>\n",
       "      <td>Xi1rLxy0nRtnRCeLVO-Dlw</td>\n",
       "      <td>https://s3-media2.fl.yelpcdn.com/bphoto/hpFDMF...</td>\n",
       "      <td>False</td>\n",
       "      <td>{'address1': '845 Front St', 'address2': 'Ste ...</td>\n",
       "      <td>Kimo's Maui</td>\n",
       "      <td>+18086614811</td>\n",
       "      <td>$$</td>\n",
       "      <td>4.0</td>\n",
       "      <td>2567</td>\n",
       "      <td>[]</td>\n",
       "      <td>https://www.yelp.com/biz/kimos-maui-lahaina?ad...</td>\n",
       "    </tr>\n",
       "    <tr>\n",
       "      <th>1</th>\n",
       "      <td>lahaina-fish-lahaina</td>\n",
       "      <td>[{'alias': 'seafood', 'title': 'Seafood'}, {'a...</td>\n",
       "      <td>{'latitude': 20.8760421040478, 'longitude': -1...</td>\n",
       "      <td>(808) 661-3472</td>\n",
       "      <td>kimos-maui-lahaina</td>\n",
       "      <td>10.241855</td>\n",
       "      <td>ncPIDj9ybOeOESkhIdUkQQ</td>\n",
       "      <td>https://s3-media4.fl.yelpcdn.com/bphoto/gntAYO...</td>\n",
       "      <td>False</td>\n",
       "      <td>{'address1': '831 Front St', 'address2': '', '...</td>\n",
       "      <td>Lahaina Fish</td>\n",
       "      <td>+18086613472</td>\n",
       "      <td>$$</td>\n",
       "      <td>4.0</td>\n",
       "      <td>1947</td>\n",
       "      <td>[]</td>\n",
       "      <td>https://www.yelp.com/biz/lahaina-fish-lahaina?...</td>\n",
       "    </tr>\n",
       "    <tr>\n",
       "      <th>2</th>\n",
       "      <td>blu-maui-lahaina</td>\n",
       "      <td>[{'alias': 'restaurants', 'title': 'Restaurant...</td>\n",
       "      <td>{'latitude': 20.87581, 'longitude': -156.68044}</td>\n",
       "      <td>(808) 661-9591</td>\n",
       "      <td>kimos-maui-lahaina</td>\n",
       "      <td>14.320386</td>\n",
       "      <td>9I_XJDk_q1HVWRDiwRTwsg</td>\n",
       "      <td></td>\n",
       "      <td>False</td>\n",
       "      <td>{'address1': '839 Front St', 'address2': None,...</td>\n",
       "      <td>Blu Maui</td>\n",
       "      <td>+18086619591</td>\n",
       "      <td>NaN</td>\n",
       "      <td>4.0</td>\n",
       "      <td>1</td>\n",
       "      <td>[]</td>\n",
       "      <td>https://www.yelp.com/biz/blu-maui-lahaina?adju...</td>\n",
       "    </tr>\n",
       "    <tr>\n",
       "      <th>3</th>\n",
       "      <td>the-dirty-monkey-lahaina</td>\n",
       "      <td>[{'alias': 'sportsbars', 'title': 'Sports Bars...</td>\n",
       "      <td>{'latitude': 20.87614, 'longitude': -156.68013}</td>\n",
       "      <td>(808) 419-6268</td>\n",
       "      <td>kimos-maui-lahaina</td>\n",
       "      <td>51.873763</td>\n",
       "      <td>4UH_LSVtf41B1Cr6lx2-5g</td>\n",
       "      <td>https://s3-media1.fl.yelpcdn.com/bphoto/tLyR3z...</td>\n",
       "      <td>False</td>\n",
       "      <td>{'address1': '844 Front St', 'address2': 'Upst...</td>\n",
       "      <td>The Dirty Monkey</td>\n",
       "      <td>+18084196268</td>\n",
       "      <td>$$</td>\n",
       "      <td>4.0</td>\n",
       "      <td>287</td>\n",
       "      <td>[]</td>\n",
       "      <td>https://www.yelp.com/biz/the-dirty-monkey-laha...</td>\n",
       "    </tr>\n",
       "    <tr>\n",
       "      <th>4</th>\n",
       "      <td>lahaina-sushi-ko-lahaina-2</td>\n",
       "      <td>[{'alias': 'sushi', 'title': 'Sushi Bars'}, {'...</td>\n",
       "      <td>{'latitude': 20.87614, 'longitude': -156.68013}</td>\n",
       "      <td>(808) 214-5352</td>\n",
       "      <td>kimos-maui-lahaina</td>\n",
       "      <td>51.873763</td>\n",
       "      <td>aeG9ZSWgTV4AEA11ev3Gtw</td>\n",
       "      <td>https://s3-media3.fl.yelpcdn.com/bphoto/Mi_AFu...</td>\n",
       "      <td>False</td>\n",
       "      <td>{'address1': '844 Front St', 'address2': 'Ste ...</td>\n",
       "      <td>Lahaina Sushi Ko</td>\n",
       "      <td>+18082145352</td>\n",
       "      <td>$$</td>\n",
       "      <td>4.5</td>\n",
       "      <td>118</td>\n",
       "      <td>[]</td>\n",
       "      <td>https://www.yelp.com/biz/lahaina-sushi-ko-laha...</td>\n",
       "    </tr>\n",
       "  </tbody>\n",
       "</table>\n",
       "</div>"
      ],
      "text/plain": [
       "                        alias  \\\n",
       "0          kimos-maui-lahaina   \n",
       "1        lahaina-fish-lahaina   \n",
       "2            blu-maui-lahaina   \n",
       "3    the-dirty-monkey-lahaina   \n",
       "4  lahaina-sushi-ko-lahaina-2   \n",
       "\n",
       "                                          categories  \\\n",
       "0  [{'alias': 'seafood', 'title': 'Seafood'}, {'a...   \n",
       "1  [{'alias': 'seafood', 'title': 'Seafood'}, {'a...   \n",
       "2  [{'alias': 'restaurants', 'title': 'Restaurant...   \n",
       "3  [{'alias': 'sportsbars', 'title': 'Sports Bars...   \n",
       "4  [{'alias': 'sushi', 'title': 'Sushi Bars'}, {'...   \n",
       "\n",
       "                                         coordinates   display_phone  \\\n",
       "0    {'latitude': 20.87595, 'longitude': -156.68056}  (808) 661-4811   \n",
       "1  {'latitude': 20.8760421040478, 'longitude': -1...  (808) 661-3472   \n",
       "2    {'latitude': 20.87581, 'longitude': -156.68044}  (808) 661-9591   \n",
       "3    {'latitude': 20.87614, 'longitude': -156.68013}  (808) 419-6268   \n",
       "4    {'latitude': 20.87614, 'longitude': -156.68013}  (808) 214-5352   \n",
       "\n",
       "        dist_to_alias   distance                      id  \\\n",
       "0  kimos-maui-lahaina   4.279984  Xi1rLxy0nRtnRCeLVO-Dlw   \n",
       "1  kimos-maui-lahaina  10.241855  ncPIDj9ybOeOESkhIdUkQQ   \n",
       "2  kimos-maui-lahaina  14.320386  9I_XJDk_q1HVWRDiwRTwsg   \n",
       "3  kimos-maui-lahaina  51.873763  4UH_LSVtf41B1Cr6lx2-5g   \n",
       "4  kimos-maui-lahaina  51.873763  aeG9ZSWgTV4AEA11ev3Gtw   \n",
       "\n",
       "                                           image_url  is_closed  \\\n",
       "0  https://s3-media2.fl.yelpcdn.com/bphoto/hpFDMF...      False   \n",
       "1  https://s3-media4.fl.yelpcdn.com/bphoto/gntAYO...      False   \n",
       "2                                                         False   \n",
       "3  https://s3-media1.fl.yelpcdn.com/bphoto/tLyR3z...      False   \n",
       "4  https://s3-media3.fl.yelpcdn.com/bphoto/Mi_AFu...      False   \n",
       "\n",
       "                                            location              name  \\\n",
       "0  {'address1': '845 Front St', 'address2': 'Ste ...       Kimo's Maui   \n",
       "1  {'address1': '831 Front St', 'address2': '', '...      Lahaina Fish   \n",
       "2  {'address1': '839 Front St', 'address2': None,...          Blu Maui   \n",
       "3  {'address1': '844 Front St', 'address2': 'Upst...  The Dirty Monkey   \n",
       "4  {'address1': '844 Front St', 'address2': 'Ste ...  Lahaina Sushi Ko   \n",
       "\n",
       "          phone price  rating  review_count transactions  \\\n",
       "0  +18086614811    $$     4.0          2567           []   \n",
       "1  +18086613472    $$     4.0          1947           []   \n",
       "2  +18086619591   NaN     4.0             1           []   \n",
       "3  +18084196268    $$     4.0           287           []   \n",
       "4  +18082145352    $$     4.5           118           []   \n",
       "\n",
       "                                                 url  \n",
       "0  https://www.yelp.com/biz/kimos-maui-lahaina?ad...  \n",
       "1  https://www.yelp.com/biz/lahaina-fish-lahaina?...  \n",
       "2  https://www.yelp.com/biz/blu-maui-lahaina?adju...  \n",
       "3  https://www.yelp.com/biz/the-dirty-monkey-laha...  \n",
       "4  https://www.yelp.com/biz/lahaina-sushi-ko-laha...  "
      ]
     },
     "execution_count": 32,
     "metadata": {},
     "output_type": "execute_result"
    }
   ],
   "source": [
    "import os\n",
    "import json\n",
    "\n",
    "import numpy as np\n",
    "import pandas as pd\n",
    "from pandas.io.json import json_normalize   \n",
    "\n",
    "file_path = \"../../data/raw/yp_competitors.json\"\n",
    "if os.path.exists(file_path):    \n",
    "    dataset = pd.read_json(file_path, orient='columns')    \n",
    "else: \n",
    "    print(\"file not yet created\")\n",
    "    \n",
    "dataset.head()"
   ]
  },
  {
   "cell_type": "code",
   "execution_count": 33,
   "metadata": {},
   "outputs": [
    {
     "name": "stdout",
     "output_type": "stream",
     "text": [
      "6662\n",
      "6662\n"
     ]
    }
   ],
   "source": [
    "print(f\"{len(dataset)}\")\n",
    "print(f\"{len(dataset.alias.unique())}\")"
   ]
  },
  {
   "cell_type": "code",
   "execution_count": 34,
   "metadata": {},
   "outputs": [
    {
     "data": {
      "text/html": [
       "<div>\n",
       "<style scoped>\n",
       "    .dataframe tbody tr th:only-of-type {\n",
       "        vertical-align: middle;\n",
       "    }\n",
       "\n",
       "    .dataframe tbody tr th {\n",
       "        vertical-align: top;\n",
       "    }\n",
       "\n",
       "    .dataframe thead th {\n",
       "        text-align: right;\n",
       "    }\n",
       "</style>\n",
       "<table border=\"1\" class=\"dataframe\">\n",
       "  <thead>\n",
       "    <tr style=\"text-align: right;\">\n",
       "      <th></th>\n",
       "      <th>alias</th>\n",
       "      <th>categories</th>\n",
       "      <th>coordinates</th>\n",
       "      <th>display_phone</th>\n",
       "      <th>dist_to_alias</th>\n",
       "      <th>distance</th>\n",
       "      <th>id</th>\n",
       "      <th>image_url</th>\n",
       "      <th>is_closed</th>\n",
       "      <th>location</th>\n",
       "      <th>name</th>\n",
       "      <th>phone</th>\n",
       "      <th>price</th>\n",
       "      <th>rating</th>\n",
       "      <th>review_count</th>\n",
       "      <th>transactions</th>\n",
       "      <th>url</th>\n",
       "    </tr>\n",
       "  </thead>\n",
       "  <tbody>\n",
       "    <tr>\n",
       "      <th>0</th>\n",
       "      <td>kimos-maui-lahaina</td>\n",
       "      <td>[{'alias': 'seafood', 'title': 'Seafood'}, {'a...</td>\n",
       "      <td>{'latitude': 20.87595, 'longitude': -156.68056}</td>\n",
       "      <td>(808) 661-4811</td>\n",
       "      <td>kimos-maui-lahaina</td>\n",
       "      <td>4.279984</td>\n",
       "      <td>Xi1rLxy0nRtnRCeLVO-Dlw</td>\n",
       "      <td>https://s3-media2.fl.yelpcdn.com/bphoto/hpFDMF...</td>\n",
       "      <td>False</td>\n",
       "      <td>{'address1': '845 Front St', 'address2': 'Ste ...</td>\n",
       "      <td>Kimo's Maui</td>\n",
       "      <td>+18086614811</td>\n",
       "      <td>$$</td>\n",
       "      <td>4.0</td>\n",
       "      <td>2567</td>\n",
       "      <td>[]</td>\n",
       "      <td>https://www.yelp.com/biz/kimos-maui-lahaina?ad...</td>\n",
       "    </tr>\n",
       "  </tbody>\n",
       "</table>\n",
       "</div>"
      ],
      "text/plain": [
       "                alias                                         categories  \\\n",
       "0  kimos-maui-lahaina  [{'alias': 'seafood', 'title': 'Seafood'}, {'a...   \n",
       "\n",
       "                                       coordinates   display_phone  \\\n",
       "0  {'latitude': 20.87595, 'longitude': -156.68056}  (808) 661-4811   \n",
       "\n",
       "        dist_to_alias  distance                      id  \\\n",
       "0  kimos-maui-lahaina  4.279984  Xi1rLxy0nRtnRCeLVO-Dlw   \n",
       "\n",
       "                                           image_url  is_closed  \\\n",
       "0  https://s3-media2.fl.yelpcdn.com/bphoto/hpFDMF...      False   \n",
       "\n",
       "                                            location         name  \\\n",
       "0  {'address1': '845 Front St', 'address2': 'Ste ...  Kimo's Maui   \n",
       "\n",
       "          phone price  rating  review_count transactions  \\\n",
       "0  +18086614811    $$     4.0          2567           []   \n",
       "\n",
       "                                                 url  \n",
       "0  https://www.yelp.com/biz/kimos-maui-lahaina?ad...  "
      ]
     },
     "execution_count": 34,
     "metadata": {},
     "output_type": "execute_result"
    }
   ],
   "source": [
    "dataset[dataset.alias == \"kimos-maui-lahaina\"]"
   ]
  },
  {
   "cell_type": "code",
   "execution_count": 35,
   "metadata": {},
   "outputs": [
    {
     "data": {
      "image/png": "[encoded data removed]",
      "text/plain": [
       "<Figure size 432x288 with 1 Axes>"
      ]
     },
     "metadata": {},
     "output_type": "display_data"
    }
   ],
   "source": [
    "import matplotlib.pyplot as plt\n",
    "dataset.review_count.plot()\n",
    "plt.show()"
   ]
  },
  {
   "cell_type": "code",
   "execution_count": 37,
   "metadata": {},
   "outputs": [
    {
     "data": {
      "text/plain": [
       "['kimos-maui-lahaina',\n",
       " 'leilanis-lahaina-2',\n",
       " 'hula-grill-kaanapali-lahaina-2',\n",
       " 'dukes-beach-house-lahaina',\n",
       " 'sunnyside-tahoe-city-2',\n",
       " 'dukes-huntington-beach-huntington-beach-2',\n",
       " 'dukes-la-jolla-la-jolla',\n",
       " 'dukes-malibu-malibu-2',\n",
       " 'dukes-kauai-lihue-3',\n",
       " 'keokis-paradise-koloa',\n",
       " 'dukes-waikiki-honolulu-2',\n",
       " 'hula-grill-waikiki-honolulu-3']"
      ]
     },
     "execution_count": 37,
     "metadata": {},
     "output_type": "execute_result"
    }
   ],
   "source": [
    "yelp_branches = [\n",
    "    'kimos-maui-lahaina',\n",
    "    'sunnyside-tahoe-city-2',\n",
    "    'dukes-huntington-beach-huntington-beach-2',\n",
    "    'dukes-la-jolla-la-jolla',\n",
    "    'dukes-malibu-malibu-2',\n",
    "    'dukes-beach-house-lahaina',\n",
    "    'dukes-kauai-lihue-3',\n",
    "    'dukes-waikiki-honolulu-2',\n",
    "    'hula-grill-waikiki-honolulu-3',\n",
    "    'hula-grill-kaanapali-lahaina-2',\n",
    "    'keokis-paradise-koloa',\n",
    "    'leilanis-lahaina-2'\n",
    "]\n",
    "[i for i in dataset.alias.values if i in yelp_branches]"
   ]
  },
  {
   "cell_type": "code",
   "execution_count": 38,
   "metadata": {},
   "outputs": [
    {
     "data": {
      "text/plain": [
       "0"
      ]
     },
     "execution_count": 38,
     "metadata": {},
     "output_type": "execute_result"
    }
   ],
   "source": [
    "dataset.is_closed[dataset.is_closed == True].count()"
   ]
  },
  {
   "cell_type": "code",
   "execution_count": 39,
   "metadata": {},
   "outputs": [
    {
     "data": {
      "text/plain": [
       "$$      2515\n",
       "$       1953\n",
       "$$$      312\n",
       "$$$$      71\n",
       "Name: price, dtype: int64"
      ]
     },
     "execution_count": 39,
     "metadata": {},
     "output_type": "execute_result"
    }
   ],
   "source": [
    "dataset.price.value_counts()"
   ]
  },
  {
   "cell_type": "code",
   "execution_count": 40,
   "metadata": {},
   "outputs": [
    {
     "data": {
      "text/plain": [
       "$$    12\n",
       "Name: price, dtype: int64"
      ]
     },
     "execution_count": 40,
     "metadata": {},
     "output_type": "execute_result"
    }
   ],
   "source": [
    "dataset.loc[dataset.alias.isin(yelp_branches)].price.value_counts()"
   ]
  },
  {
   "cell_type": "code",
   "execution_count": 44,
   "metadata": {},
   "outputs": [
    {
     "name": "stdout",
     "output_type": "stream",
     "text": [
      "26357\n",
      "2196.4166666666665\n"
     ]
    }
   ],
   "source": [
    "print(dataset.loc[dataset.alias.isin(yelp_branches)].review_count.sum())\n",
    "print(dataset.loc[dataset.alias.isin(yelp_branches)].review_count.mean())"
   ]
  },
  {
   "cell_type": "code",
   "execution_count": 43,
   "metadata": {},
   "outputs": [
    {
     "name": "stdout",
     "output_type": "stream",
     "text": [
      "sum : 1414988\n",
      "mean: 212.39687781447012\n"
     ]
    }
   ],
   "source": [
    "print(f\"sum : {dataset.review_count.sum()}\")\n",
    "print(f\"mean: {dataset.review_count.mean()}\")"
   ]
  },
  {
   "cell_type": "code",
   "execution_count": 42,
   "metadata": {},
   "outputs": [
    {
     "data": {
      "text/plain": [
       "6662"
      ]
     },
     "execution_count": 42,
     "metadata": {},
     "output_type": "execute_result"
    }
   ],
   "source": [
    "len(dataset)"
   ]
  }
 ],
 "metadata": {
  "kernelspec": {
   "display_name": "Python 3",
   "language": "python",
   "name": "python3"
  },
  "language_info": {
   "codemirror_mode": {
    "name": "ipython",
    "version": 3
   },
   "file_extension": ".py",
   "mimetype": "text/x-python",
   "name": "python",
   "nbconvert_exporter": "python",
   "pygments_lexer": "ipython3",
   "version": "3.6.5"
  },
  "toc": {
   "base_numbering": 1,
   "nav_menu": {},
   "number_sections": true,
   "sideBar": true,
   "skip_h1_title": false,
   "title_cell": "Table of Contents",
   "title_sidebar": "Contents",
   "toc_cell": false,
   "toc_position": {},
   "toc_section_display": true,
   "toc_window_display": false
  }
 },
 "nbformat": 4,
 "nbformat_minor": 2
}
