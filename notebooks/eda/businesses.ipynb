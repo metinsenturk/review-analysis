{
 "cells": [
  {
   "cell_type": "code",
   "execution_count": 68,
   "metadata": {},
   "outputs": [
    {
     "data": {
      "text/html": [
       "<div>\n",
       "<style scoped>\n",
       "    .dataframe tbody tr th:only-of-type {\n",
       "        vertical-align: middle;\n",
       "    }\n",
       "\n",
       "    .dataframe tbody tr th {\n",
       "        vertical-align: top;\n",
       "    }\n",
       "\n",
       "    .dataframe thead th {\n",
       "        text-align: right;\n",
       "    }\n",
       "</style>\n",
       "<table border=\"1\" class=\"dataframe\">\n",
       "  <thead>\n",
       "    <tr style=\"text-align: right;\">\n",
       "      <th></th>\n",
       "      <th>alias</th>\n",
       "      <th>categories</th>\n",
       "      <th>coordinates</th>\n",
       "      <th>display_phone</th>\n",
       "      <th>dist_to_alias</th>\n",
       "      <th>distance</th>\n",
       "      <th>id</th>\n",
       "      <th>image_url</th>\n",
       "      <th>is_closed</th>\n",
       "      <th>location</th>\n",
       "      <th>name</th>\n",
       "      <th>phone</th>\n",
       "      <th>price</th>\n",
       "      <th>rating</th>\n",
       "      <th>review_count</th>\n",
       "      <th>transactions</th>\n",
       "      <th>url</th>\n",
       "    </tr>\n",
       "  </thead>\n",
       "  <tbody>\n",
       "    <tr>\n",
       "      <th>0</th>\n",
       "      <td>kimos-maui-lahaina</td>\n",
       "      <td>[{'alias': 'seafood', 'title': 'Seafood'}, {'a...</td>\n",
       "      <td>{'latitude': 20.87595, 'longitude': -156.68056}</td>\n",
       "      <td>(808) 661-4811</td>\n",
       "      <td>kimos-maui-lahaina</td>\n",
       "      <td>4.279984</td>\n",
       "      <td>Xi1rLxy0nRtnRCeLVO-Dlw</td>\n",
       "      <td>https://s3-media2.fl.yelpcdn.com/bphoto/hpFDMF...</td>\n",
       "      <td>False</td>\n",
       "      <td>{'address1': '845 Front St', 'address2': 'Ste ...</td>\n",
       "      <td>Kimo's Maui</td>\n",
       "      <td>+18086614811</td>\n",
       "      <td>$$</td>\n",
       "      <td>4.0</td>\n",
       "      <td>2571</td>\n",
       "      <td>[]</td>\n",
       "      <td>https://www.yelp.com/biz/kimos-maui-lahaina?ad...</td>\n",
       "    </tr>\n",
       "    <tr>\n",
       "      <th>1</th>\n",
       "      <td>lahaina-fish-lahaina</td>\n",
       "      <td>[{'alias': 'seafood', 'title': 'Seafood'}, {'a...</td>\n",
       "      <td>{'latitude': 20.8760421040478, 'longitude': -1...</td>\n",
       "      <td>(808) 661-3472</td>\n",
       "      <td>kimos-maui-lahaina</td>\n",
       "      <td>10.241855</td>\n",
       "      <td>ncPIDj9ybOeOESkhIdUkQQ</td>\n",
       "      <td>https://s3-media4.fl.yelpcdn.com/bphoto/gntAYO...</td>\n",
       "      <td>False</td>\n",
       "      <td>{'address1': '831 Front St', 'address2': '', '...</td>\n",
       "      <td>Lahaina Fish</td>\n",
       "      <td>+18086613472</td>\n",
       "      <td>$$</td>\n",
       "      <td>4.0</td>\n",
       "      <td>1947</td>\n",
       "      <td>[]</td>\n",
       "      <td>https://www.yelp.com/biz/lahaina-fish-lahaina?...</td>\n",
       "    </tr>\n",
       "    <tr>\n",
       "      <th>2</th>\n",
       "      <td>blu-maui-lahaina</td>\n",
       "      <td>[{'alias': 'restaurants', 'title': 'Restaurant...</td>\n",
       "      <td>{'latitude': 20.87581, 'longitude': -156.68044}</td>\n",
       "      <td>(808) 661-9591</td>\n",
       "      <td>kimos-maui-lahaina</td>\n",
       "      <td>14.320386</td>\n",
       "      <td>9I_XJDk_q1HVWRDiwRTwsg</td>\n",
       "      <td></td>\n",
       "      <td>False</td>\n",
       "      <td>{'address1': '839 Front St', 'address2': None,...</td>\n",
       "      <td>Blu Maui</td>\n",
       "      <td>+18086619591</td>\n",
       "      <td>NaN</td>\n",
       "      <td>4.0</td>\n",
       "      <td>1</td>\n",
       "      <td>[]</td>\n",
       "      <td>https://www.yelp.com/biz/blu-maui-lahaina?adju...</td>\n",
       "    </tr>\n",
       "    <tr>\n",
       "      <th>3</th>\n",
       "      <td>the-dirty-monkey-lahaina</td>\n",
       "      <td>[{'alias': 'sportsbars', 'title': 'Sports Bars...</td>\n",
       "      <td>{'latitude': 20.87614, 'longitude': -156.68013}</td>\n",
       "      <td>(808) 419-6268</td>\n",
       "      <td>kimos-maui-lahaina</td>\n",
       "      <td>51.873763</td>\n",
       "      <td>4UH_LSVtf41B1Cr6lx2-5g</td>\n",
       "      <td>https://s3-media1.fl.yelpcdn.com/bphoto/tLyR3z...</td>\n",
       "      <td>False</td>\n",
       "      <td>{'address1': '844 Front St', 'address2': 'Upst...</td>\n",
       "      <td>The Dirty Monkey</td>\n",
       "      <td>+18084196268</td>\n",
       "      <td>$$</td>\n",
       "      <td>4.0</td>\n",
       "      <td>289</td>\n",
       "      <td>[]</td>\n",
       "      <td>https://www.yelp.com/biz/the-dirty-monkey-laha...</td>\n",
       "    </tr>\n",
       "    <tr>\n",
       "      <th>4</th>\n",
       "      <td>lahaina-sushi-ko-lahaina-2</td>\n",
       "      <td>[{'alias': 'sushi', 'title': 'Sushi Bars'}, {'...</td>\n",
       "      <td>{'latitude': 20.87614, 'longitude': -156.68013}</td>\n",
       "      <td>(808) 214-5352</td>\n",
       "      <td>kimos-maui-lahaina</td>\n",
       "      <td>51.873763</td>\n",
       "      <td>aeG9ZSWgTV4AEA11ev3Gtw</td>\n",
       "      <td>https://s3-media3.fl.yelpcdn.com/bphoto/Mi_AFu...</td>\n",
       "      <td>False</td>\n",
       "      <td>{'address1': '844 Front St', 'address2': 'Ste ...</td>\n",
       "      <td>Lahaina Sushi Ko</td>\n",
       "      <td>+18082145352</td>\n",
       "      <td>$$</td>\n",
       "      <td>4.5</td>\n",
       "      <td>118</td>\n",
       "      <td>[]</td>\n",
       "      <td>https://www.yelp.com/biz/lahaina-sushi-ko-laha...</td>\n",
       "    </tr>\n",
       "  </tbody>\n",
       "</table>\n",
       "</div>"
      ],
      "text/plain": [
       "                        alias  \\\n",
       "0          kimos-maui-lahaina   \n",
       "1        lahaina-fish-lahaina   \n",
       "2            blu-maui-lahaina   \n",
       "3    the-dirty-monkey-lahaina   \n",
       "4  lahaina-sushi-ko-lahaina-2   \n",
       "\n",
       "                                          categories  \\\n",
       "0  [{'alias': 'seafood', 'title': 'Seafood'}, {'a...   \n",
       "1  [{'alias': 'seafood', 'title': 'Seafood'}, {'a...   \n",
       "2  [{'alias': 'restaurants', 'title': 'Restaurant...   \n",
       "3  [{'alias': 'sportsbars', 'title': 'Sports Bars...   \n",
       "4  [{'alias': 'sushi', 'title': 'Sushi Bars'}, {'...   \n",
       "\n",
       "                                         coordinates   display_phone  \\\n",
       "0    {'latitude': 20.87595, 'longitude': -156.68056}  (808) 661-4811   \n",
       "1  {'latitude': 20.8760421040478, 'longitude': -1...  (808) 661-3472   \n",
       "2    {'latitude': 20.87581, 'longitude': -156.68044}  (808) 661-9591   \n",
       "3    {'latitude': 20.87614, 'longitude': -156.68013}  (808) 419-6268   \n",
       "4    {'latitude': 20.87614, 'longitude': -156.68013}  (808) 214-5352   \n",
       "\n",
       "        dist_to_alias   distance                      id  \\\n",
       "0  kimos-maui-lahaina   4.279984  Xi1rLxy0nRtnRCeLVO-Dlw   \n",
       "1  kimos-maui-lahaina  10.241855  ncPIDj9ybOeOESkhIdUkQQ   \n",
       "2  kimos-maui-lahaina  14.320386  9I_XJDk_q1HVWRDiwRTwsg   \n",
       "3  kimos-maui-lahaina  51.873763  4UH_LSVtf41B1Cr6lx2-5g   \n",
       "4  kimos-maui-lahaina  51.873763  aeG9ZSWgTV4AEA11ev3Gtw   \n",
       "\n",
       "                                           image_url  is_closed  \\\n",
       "0  https://s3-media2.fl.yelpcdn.com/bphoto/hpFDMF...      False   \n",
       "1  https://s3-media4.fl.yelpcdn.com/bphoto/gntAYO...      False   \n",
       "2                                                         False   \n",
       "3  https://s3-media1.fl.yelpcdn.com/bphoto/tLyR3z...      False   \n",
       "4  https://s3-media3.fl.yelpcdn.com/bphoto/Mi_AFu...      False   \n",
       "\n",
       "                                            location              name  \\\n",
       "0  {'address1': '845 Front St', 'address2': 'Ste ...       Kimo's Maui   \n",
       "1  {'address1': '831 Front St', 'address2': '', '...      Lahaina Fish   \n",
       "2  {'address1': '839 Front St', 'address2': None,...          Blu Maui   \n",
       "3  {'address1': '844 Front St', 'address2': 'Upst...  The Dirty Monkey   \n",
       "4  {'address1': '844 Front St', 'address2': 'Ste ...  Lahaina Sushi Ko   \n",
       "\n",
       "          phone price  rating  review_count transactions  \\\n",
       "0  +18086614811    $$     4.0          2571           []   \n",
       "1  +18086613472    $$     4.0          1947           []   \n",
       "2  +18086619591   NaN     4.0             1           []   \n",
       "3  +18084196268    $$     4.0           289           []   \n",
       "4  +18082145352    $$     4.5           118           []   \n",
       "\n",
       "                                                 url  \n",
       "0  https://www.yelp.com/biz/kimos-maui-lahaina?ad...  \n",
       "1  https://www.yelp.com/biz/lahaina-fish-lahaina?...  \n",
       "2  https://www.yelp.com/biz/blu-maui-lahaina?adju...  \n",
       "3  https://www.yelp.com/biz/the-dirty-monkey-laha...  \n",
       "4  https://www.yelp.com/biz/lahaina-sushi-ko-laha...  "
      ]
     },
     "execution_count": 68,
     "metadata": {},
     "output_type": "execute_result"
    }
   ],
   "source": [
    "import os\n",
    "import json\n",
    "\n",
    "import numpy as np\n",
    "import pandas as pd\n",
    "from pandas.io.json import json_normalize   \n",
    "\n",
    "file_path = \"../../data/raw/yp_competitors.json\"\n",
    "if os.path.exists(file_path):    \n",
    "    dataset = pd.read_json(file_path, orient='columns')    \n",
    "else: \n",
    "    print(\"file not yet created\")\n",
    "    \n",
    "dataset.head()"
   ]
  },
  {
   "cell_type": "code",
   "execution_count": 72,
   "metadata": {},
   "outputs": [
    {
     "data": {
      "text/plain": [
       "0    [seafood, hawaiian, newamerican]\n",
       "1      [seafood, steak, tradamerican]\n",
       "2                       [restaurants]\n",
       "3                                  []\n",
       "4                                  []\n",
       "5                                  []\n",
       "6                                  []\n",
       "7                                  []\n",
       "8     [thai, vegetarian, gluten_free]\n",
       "9        [icecream, desserts, coffee]\n",
       "Name: categories, dtype: object"
      ]
     },
     "execution_count": 72,
     "metadata": {},
     "output_type": "execute_result"
    }
   ],
   "source": [
    "# restaurants, 'seafood', 'desserts', 'vegetarian', \n",
    "# if i['alias'] in ['restaurants', 'seafood', 'desserts', 'vegetarian']\n",
    "categ = dataset.categories.apply(lambda x: [i['alias'] for i in x])\n",
    "\n",
    "categ2 = categ.apply(\n",
    "    lambda x: \n",
    "    x \n",
    "    if len([i for i in x if i in ['restaurants', 'seafood', 'desserts', 'vegetarian']]) > 0 \n",
    "    else []\n",
    ")\n",
    "\n",
    "categ2[:10]"
   ]
  },
  {
   "cell_type": "code",
   "execution_count": 73,
   "metadata": {},
   "outputs": [
    {
     "data": {
      "text/plain": [
       "740"
      ]
     },
     "execution_count": 73,
     "metadata": {},
     "output_type": "execute_result"
    }
   ],
   "source": [
    "len([i for i in categ2 if len(i) > 0])"
   ]
  },
  {
   "cell_type": "code",
   "execution_count": 74,
   "metadata": {},
   "outputs": [],
   "source": [
    "# fixing columns\n",
    "# transactions \n",
    "dataset.transactions = dataset.transactions.apply(lambda x: ','.join(x))\n",
    "\n",
    "# category\n",
    "pd_categories_alias = dataset.categories.apply(lambda x: ', '.join([i['alias'] for i in x]))\n",
    "pd_categories_title = dataset.categories.apply(lambda x: ', '.join([i['title'] for i in x]))\n",
    "pd_categories_alias.name = 'category_' + 'alias'\n",
    "pd_categories_title.name = 'category_' + 'title'"
   ]
  },
  {
   "cell_type": "code",
   "execution_count": 75,
   "metadata": {},
   "outputs": [],
   "source": [
    "# expanding json columns\n",
    "# coordinate\n",
    "pd_coordinates = dataset.coordinates.apply(pd.Series)\n",
    "pd_coordinates.columns = 'coordinate_' + pd_coordinates.columns\n",
    "\n",
    "# location\n",
    "pd_location = dataset.location.apply(pd.Series)\n",
    "pd_location.display_address = pd_location.display_address.apply(lambda x: ','.join(x))\n",
    "pd_location.columns = 'location_' + pd_location.columns"
   ]
  },
  {
   "cell_type": "code",
   "execution_count": 76,
   "metadata": {},
   "outputs": [],
   "source": [
    "# merging all in one\n",
    "dataset2 = pd.concat(\n",
    "    [dataset, pd_categories_alias, pd_categories_title, pd_coordinates, pd_location], \n",
    "    axis=1\n",
    ").drop(['categories', 'location', 'coordinates'], axis=1)\n",
    "dataset2.columns\n",
    "dataset = dataset2"
   ]
  },
  {
   "cell_type": "code",
   "execution_count": 35,
   "metadata": {},
   "outputs": [
    {
     "data": {
      "text/html": [
       "<div>\n",
       "<style scoped>\n",
       "    .dataframe tbody tr th:only-of-type {\n",
       "        vertical-align: middle;\n",
       "    }\n",
       "\n",
       "    .dataframe tbody tr th {\n",
       "        vertical-align: top;\n",
       "    }\n",
       "\n",
       "    .dataframe thead th {\n",
       "        text-align: right;\n",
       "    }\n",
       "</style>\n",
       "<table border=\"1\" class=\"dataframe\">\n",
       "  <thead>\n",
       "    <tr style=\"text-align: right;\">\n",
       "      <th></th>\n",
       "      <th>alias</th>\n",
       "      <th>display_phone</th>\n",
       "      <th>dist_to_alias</th>\n",
       "      <th>distance</th>\n",
       "      <th>id</th>\n",
       "      <th>image_url</th>\n",
       "      <th>is_closed</th>\n",
       "      <th>name</th>\n",
       "      <th>phone</th>\n",
       "      <th>price</th>\n",
       "      <th>...</th>\n",
       "      <th>coordinate_latitude</th>\n",
       "      <th>coordinate_longitude</th>\n",
       "      <th>location_address1</th>\n",
       "      <th>location_address2</th>\n",
       "      <th>location_address3</th>\n",
       "      <th>location_city</th>\n",
       "      <th>location_zip_code</th>\n",
       "      <th>location_country</th>\n",
       "      <th>location_state</th>\n",
       "      <th>location_display_address</th>\n",
       "    </tr>\n",
       "  </thead>\n",
       "  <tbody>\n",
       "    <tr>\n",
       "      <th>0</th>\n",
       "      <td>kimos-maui-lahaina</td>\n",
       "      <td>(808) 661-4811</td>\n",
       "      <td>kimos-maui-lahaina</td>\n",
       "      <td>4.279984</td>\n",
       "      <td>Xi1rLxy0nRtnRCeLVO-Dlw</td>\n",
       "      <td>https://s3-media2.fl.yelpcdn.com/bphoto/hpFDMF...</td>\n",
       "      <td>False</td>\n",
       "      <td>Kimo's Maui</td>\n",
       "      <td>1.808661e+10</td>\n",
       "      <td>$$</td>\n",
       "      <td>...</td>\n",
       "      <td>20.875950</td>\n",
       "      <td>-156.680560</td>\n",
       "      <td>845 Front St</td>\n",
       "      <td>Ste A</td>\n",
       "      <td>NaN</td>\n",
       "      <td>Lahaina</td>\n",
       "      <td>96761.0</td>\n",
       "      <td>US</td>\n",
       "      <td>HI</td>\n",
       "      <td>845 Front St,Ste A,Lahaina, HI 96761</td>\n",
       "    </tr>\n",
       "    <tr>\n",
       "      <th>1</th>\n",
       "      <td>lahaina-fish-lahaina</td>\n",
       "      <td>(808) 661-3472</td>\n",
       "      <td>kimos-maui-lahaina</td>\n",
       "      <td>10.241855</td>\n",
       "      <td>ncPIDj9ybOeOESkhIdUkQQ</td>\n",
       "      <td>https://s3-media4.fl.yelpcdn.com/bphoto/gntAYO...</td>\n",
       "      <td>False</td>\n",
       "      <td>Lahaina Fish</td>\n",
       "      <td>1.808661e+10</td>\n",
       "      <td>$$</td>\n",
       "      <td>...</td>\n",
       "      <td>20.876042</td>\n",
       "      <td>-156.680561</td>\n",
       "      <td>831 Front St</td>\n",
       "      <td>NaN</td>\n",
       "      <td>NaN</td>\n",
       "      <td>Lahaina</td>\n",
       "      <td>96761.0</td>\n",
       "      <td>US</td>\n",
       "      <td>HI</td>\n",
       "      <td>831 Front St,Lahaina, HI 96761</td>\n",
       "    </tr>\n",
       "    <tr>\n",
       "      <th>2</th>\n",
       "      <td>blu-maui-lahaina</td>\n",
       "      <td>(808) 661-9591</td>\n",
       "      <td>kimos-maui-lahaina</td>\n",
       "      <td>14.320386</td>\n",
       "      <td>9I_XJDk_q1HVWRDiwRTwsg</td>\n",
       "      <td>NaN</td>\n",
       "      <td>False</td>\n",
       "      <td>Blu Maui</td>\n",
       "      <td>1.808662e+10</td>\n",
       "      <td>NaN</td>\n",
       "      <td>...</td>\n",
       "      <td>20.875810</td>\n",
       "      <td>-156.680440</td>\n",
       "      <td>839 Front St</td>\n",
       "      <td>NaN</td>\n",
       "      <td>NaN</td>\n",
       "      <td>Lahaina</td>\n",
       "      <td>96767.0</td>\n",
       "      <td>US</td>\n",
       "      <td>HI</td>\n",
       "      <td>839 Front St,Lahaina, HI 96767</td>\n",
       "    </tr>\n",
       "    <tr>\n",
       "      <th>3</th>\n",
       "      <td>the-dirty-monkey-lahaina</td>\n",
       "      <td>(808) 419-6268</td>\n",
       "      <td>kimos-maui-lahaina</td>\n",
       "      <td>51.873763</td>\n",
       "      <td>4UH_LSVtf41B1Cr6lx2-5g</td>\n",
       "      <td>https://s3-media1.fl.yelpcdn.com/bphoto/tLyR3z...</td>\n",
       "      <td>False</td>\n",
       "      <td>The Dirty Monkey</td>\n",
       "      <td>1.808420e+10</td>\n",
       "      <td>$$</td>\n",
       "      <td>...</td>\n",
       "      <td>20.876140</td>\n",
       "      <td>-156.680130</td>\n",
       "      <td>844 Front St</td>\n",
       "      <td>Upstairs</td>\n",
       "      <td>NaN</td>\n",
       "      <td>Lahaina</td>\n",
       "      <td>96761.0</td>\n",
       "      <td>US</td>\n",
       "      <td>HI</td>\n",
       "      <td>844 Front St,Upstairs,Lahaina, HI 96761</td>\n",
       "    </tr>\n",
       "    <tr>\n",
       "      <th>4</th>\n",
       "      <td>lahaina-sushi-ko-lahaina-2</td>\n",
       "      <td>(808) 214-5352</td>\n",
       "      <td>kimos-maui-lahaina</td>\n",
       "      <td>51.873763</td>\n",
       "      <td>aeG9ZSWgTV4AEA11ev3Gtw</td>\n",
       "      <td>https://s3-media3.fl.yelpcdn.com/bphoto/Mi_AFu...</td>\n",
       "      <td>False</td>\n",
       "      <td>Lahaina Sushi Ko</td>\n",
       "      <td>1.808215e+10</td>\n",
       "      <td>$$</td>\n",
       "      <td>...</td>\n",
       "      <td>20.876140</td>\n",
       "      <td>-156.680130</td>\n",
       "      <td>844 Front St</td>\n",
       "      <td>Ste 106</td>\n",
       "      <td>NaN</td>\n",
       "      <td>Lahaina</td>\n",
       "      <td>96761.0</td>\n",
       "      <td>US</td>\n",
       "      <td>HI</td>\n",
       "      <td>844 Front St,Ste 106,Lahaina, HI 96761</td>\n",
       "    </tr>\n",
       "  </tbody>\n",
       "</table>\n",
       "<p>5 rows × 26 columns</p>\n",
       "</div>"
      ],
      "text/plain": [
       "                        alias   display_phone       dist_to_alias   distance  \\\n",
       "0          kimos-maui-lahaina  (808) 661-4811  kimos-maui-lahaina   4.279984   \n",
       "1        lahaina-fish-lahaina  (808) 661-3472  kimos-maui-lahaina  10.241855   \n",
       "2            blu-maui-lahaina  (808) 661-9591  kimos-maui-lahaina  14.320386   \n",
       "3    the-dirty-monkey-lahaina  (808) 419-6268  kimos-maui-lahaina  51.873763   \n",
       "4  lahaina-sushi-ko-lahaina-2  (808) 214-5352  kimos-maui-lahaina  51.873763   \n",
       "\n",
       "                       id                                          image_url  \\\n",
       "0  Xi1rLxy0nRtnRCeLVO-Dlw  https://s3-media2.fl.yelpcdn.com/bphoto/hpFDMF...   \n",
       "1  ncPIDj9ybOeOESkhIdUkQQ  https://s3-media4.fl.yelpcdn.com/bphoto/gntAYO...   \n",
       "2  9I_XJDk_q1HVWRDiwRTwsg                                                NaN   \n",
       "3  4UH_LSVtf41B1Cr6lx2-5g  https://s3-media1.fl.yelpcdn.com/bphoto/tLyR3z...   \n",
       "4  aeG9ZSWgTV4AEA11ev3Gtw  https://s3-media3.fl.yelpcdn.com/bphoto/Mi_AFu...   \n",
       "\n",
       "   is_closed              name         phone price  ...  coordinate_latitude  \\\n",
       "0      False       Kimo's Maui  1.808661e+10    $$  ...            20.875950   \n",
       "1      False      Lahaina Fish  1.808661e+10    $$  ...            20.876042   \n",
       "2      False          Blu Maui  1.808662e+10   NaN  ...            20.875810   \n",
       "3      False  The Dirty Monkey  1.808420e+10    $$  ...            20.876140   \n",
       "4      False  Lahaina Sushi Ko  1.808215e+10    $$  ...            20.876140   \n",
       "\n",
       "   coordinate_longitude location_address1 location_address2 location_address3  \\\n",
       "0           -156.680560      845 Front St             Ste A               NaN   \n",
       "1           -156.680561      831 Front St               NaN               NaN   \n",
       "2           -156.680440      839 Front St               NaN               NaN   \n",
       "3           -156.680130      844 Front St          Upstairs               NaN   \n",
       "4           -156.680130      844 Front St           Ste 106               NaN   \n",
       "\n",
       "  location_city  location_zip_code  location_country location_state  \\\n",
       "0       Lahaina            96761.0                US             HI   \n",
       "1       Lahaina            96761.0                US             HI   \n",
       "2       Lahaina            96767.0                US             HI   \n",
       "3       Lahaina            96761.0                US             HI   \n",
       "4       Lahaina            96761.0                US             HI   \n",
       "\n",
       "                  location_display_address  \n",
       "0     845 Front St,Ste A,Lahaina, HI 96761  \n",
       "1           831 Front St,Lahaina, HI 96761  \n",
       "2           839 Front St,Lahaina, HI 96767  \n",
       "3  844 Front St,Upstairs,Lahaina, HI 96761  \n",
       "4   844 Front St,Ste 106,Lahaina, HI 96761  \n",
       "\n",
       "[5 rows x 26 columns]"
      ]
     },
     "execution_count": 35,
     "metadata": {},
     "output_type": "execute_result"
    }
   ],
   "source": [
    "# from JSON to CSV\n",
    "dataset2.to_csv('../../data/raw/yp_competitors.csv', index=False)\n",
    "pd.read_csv('../../data/raw/yp_competitors.csv').head()"
   ]
  },
  {
   "cell_type": "markdown",
   "metadata": {},
   "source": [
    "## Examining Total Category List"
   ]
  },
  {
   "cell_type": "code",
   "execution_count": 148,
   "metadata": {},
   "outputs": [
    {
     "name": "stdout",
     "output_type": "stream",
     "text": [
      "['acaibowls', 'accessories', 'active', 'afghani', 'airportlounges', 'amateursportsteams', 'amusementparks', 'antiques', 'aquariums', 'aquariumservices', 'arabian', 'arcades', 'argentine', 'artclasses', 'artmuseums', 'artsandcrafts', 'asianfusion', 'australian', 'bagels', 'bakeries', 'banks', 'bars', 'baseballfields', 'basketballcourts', 'basque', 'bbq', 'beachequipmentrental', 'beaches', 'beer_and_wine', 'beerbar', 'beergardens', 'bike_repair_maintenance', 'bikerentals', 'bikes', 'biketours', 'boatcharters', 'boating', 'boattours', 'bookstores', 'bootcamps', 'bowling', 'brasseries', 'brazilian', 'breakfast_brunch', 'breweries', 'brewpubs', 'british', 'bubbletea', 'buffets', 'burgers', 'burmese', 'butcher', 'cafes', 'cafeteria', 'cajun', 'cakeshop', 'campgrounds', 'candy', 'cantonese', 'caribbean', 'casinos', 'catering', 'cheese', 'cheesesteaks', 'chicken_wings', 'chickenshop', 'childrensmuseums', 'chinese', 'chocolate', 'cideries', 'cigarbars', 'climbing', 'clubcrawl', 'cocktailbars', 'coffee', 'coffeeroasteries', 'collegeuniv', 'colombian', 'comedyclubs', 'comfortfood', 'convenience', 'conveyorsushi', 'cookingclasses', 'cosmetics', 'countryclubs', 'countrydancehalls', 'couriers', 'creperies', 'cuban', 'cupcakes', 'customcakes', 'czech', 'danceclubs', 'daycamps', 'delis', 'desserts', 'dimsum', 'diners', 'dinnertheater', 'discgolf', 'divebars', 'diving', 'diyfood', 'dog_parks', 'donuts', 'drugstores', 'education', 'educationservices', 'empanadas', 'eventplanning', 'fabricstores', 'falafel', 'farmersmarket', 'festivals', 'filipino', 'fishing', 'fishnchips', 'fitness', 'fleamarkets', 'flowers', 'fondue', 'food', 'food_court', 'fooddeliveryservices', 'foodstands', 'foodtours', 'foodtrucks', 'football', 'french', 'galleries', 'gardens', 'gastropubs', 'gaybars', 'gelato', 'german', 'giftshops', 'gluten_free', 'golf', 'golfequipment', 'golflessons', 'gourmet', 'greek', 'grocery', 'halal', 'hauntedhouses', 'hawaiian', 'headshops', 'healthmarkets', 'healthtrainers', 'herbsandspices', 'hiking', 'himalayan', 'hindu_temples', 'hkcafe', 'hobbyshops', 'homestaging', 'honey', 'hookah_bars', 'horsebackriding', 'hostels', 'hotdog', 'hotdogs', 'hotels', 'hotpot', 'icecream', 'importedfood', 'indpak', 'internetcafe', 'intlgrocery', 'irish', 'irish_pubs', 'italian', 'izakaya', 'japacurry', 'japanese', 'jazzandblues', 'jewelry', 'juicebars', 'karaoke', 'kebab', 'kids_activities', 'kombucha', 'korean', 'kosher', 'lakes', 'landmarks', 'laotian', 'lasertag', 'latin', 'lebanese', 'localflavor', 'localservices', 'lounges', 'macarons', 'markets', 'massage', 'massage_therapy', 'matchmakers', 'meats', 'medcenters', 'media', 'meditationcenters', 'mediterranean', 'menscloth', 'mexican', 'mideastern', 'modern_european', 'mongolian', 'mountainbiking', 'museums', 'musicvenues', 'newamerican', 'newmexican', 'nightlife', 'nonprofit', 'noodles', 'oliveoil', 'organic_stores', 'outdoorgear', 'outdoormovies', 'paddleboarding', 'paintyourownpottery', 'pakistani', 'panasian', 'parks', 'partysupplies', 'pastashops', 'patiocoverings', 'persian', 'personalchefs', 'peruvian', 'pets', 'pettingzoos', 'pizza', 'playgrounds', 'poke', 'polish', 'polynesian', 'poolhalls', 'poolservice', 'popcorn', 'popuprestaurants', 'portuguese', 'publicart', 'publicservicesgovt', 'pubs', 'puertorican', 'rafting', 'ramen', 'raw_food', 'recreation', 'religiousitems', 'resorts', 'restaurants', 'rock_climbing', 'russian', 'salad', 'salvadoran', 'sandwiches', 'scottish', 'scuba', 'seafood', 'seafoodmarkets', 'servicestations', 'shanghainese', 'shavedice', 'shopping', 'shoppingcenters', 'sicilian', 'singaporean', 'skate_parks', 'skiresorts', 'sledding', 'smokehouse', 'snorkeling', 'social_clubs', 'soulfood', 'soup', 'southern', 'souvenirs', 'spanish', 'speakeasies', 'specialtyschools', 'spiritual_shop', 'sportgoods', 'sports_clubs', 'sportsbars', 'sportswear', 'srilankan', 'stationery', 'steak', 'streetvendors', 'summer_camps', 'surfing', 'surfshop', 'sushi', 'swimmingpools', 'szechuan', 'tacos', 'taiwanese', 'tapas', 'tapasmallplates', 'tcm', 'tea', 'tennis', 'teppanyaki', 'tex-mex', 'thai', 'theater', 'themedcafes', 'tikibars', 'tobaccoshops', 'tours', 'toys', 'tradamerican', 'trampoline', 'travelagents', 'travelservices', 'tubing', 'turkish', 'ukrainian', 'unofficialyelpevents', 'vacation_rentals', 'vapeshops', 'vegan', 'vegetarian', 'venues', 'vietnamese', 'vitaminssupplements', 'waffles', 'walkingtours', 'waterstores', 'wedding_planning', 'whiskeybars', 'wholesale_stores', 'wine_bars', 'womenscloth', 'wraps', 'yelpevents', 'yoga', 'zipline', 'zoos']\n"
     ]
    }
   ],
   "source": [
    "# restaurants categories in the dataset: all\n",
    "print(sorted(set(', '.join(dataset.category_alias).split(', '))))"
   ]
  },
  {
   "cell_type": "code",
   "execution_count": 149,
   "metadata": {},
   "outputs": [
    {
     "name": "stdout",
     "output_type": "stream",
     "text": [
      "{'newamerican', 'nightfood', 'salad', 'bistros', 'beergarden', 'popuprestaurants', 'freiduria', 'schnitzel', 'eastern_european', 'beisl', 'british', 'korean', 'guamanian', 'russian', 'turkish', 'uzbek', 'pakistani', 'delis', 'hungarian', 'singaporean', 'tex-mex', 'latin', 'honduran', 'portuguese', 'scottish', 'african', 'diners', 'brasseries', 'czechslovakian', 'breakfast_brunch', 'yugoslav', 'cafeteria', 'international', 'newmexican', 'trattorie', 'cajun', 'signature_cuisine', 'swabian', 'cafes', 'norwegian', 'tapas', 'flatbread', 'cheesesteaks', 'iberian', 'kurdish', 'fischbroetchen', 'raw_food', 'parma', 'halal', 'peruvian', 'comfortfood', 'israeli', 'argentine', 'taiwanese', 'danish', 'waffles', 'dumplings', 'irish', 'french', 'asianfusion', 'filipino', 'tapasmallplates', 'fishnchips', 'bavarian', 'greek', 'japanese', 'himalayan', 'vegetarian', 'newzealand', 'foodstands', 'ukrainian', 'malaysian', 'hkcafe', 'moroccan', 'catalan', 'galician', 'meatballs', 'somali', 'traditional_swedish', 'bbq', 'newcanadian', 'persian', 'gamemeat', 'australian', 'laos', 'potatoes', 'fondue', 'gluten_free', 'cambodian', 'lyonnais', 'sandwiches', 'kopitiam', 'seafood', 'soulfood', 'wraps', 'milkbars', 'venison', 'giblets', 'beerhall', 'vegan', 'hawaiian', 'italian', 'swedish', 'tradamerican', 'currysausage', 'asturian', 'hotdog', 'arabian', 'jewish', 'steak', 'pizza', 'nicaraguan', 'slovakian', 'hotpot', 'tavolacalda', 'panasian', 'eritrean', 'pfcomercial', 'czech', 'dinnertheater', 'brazilian', 'burmese', 'creperies', 'burgers', 'kosher', 'corsican', 'polynesian', 'canteen', 'rotisserie_chicken', 'serbocroatian', 'georgian', 'wok', 'food_court', 'srilankan', 'ethiopian', 'sud_ouest', 'vietnamese', 'blacksea', 'caribbean', 'german', 'kebab', 'southern', 'cuban', 'cypriot', 'mideastern', 'laotian', 'belgian', 'nikkei', 'noodles', 'bangladeshi', 'bulgarian', 'gastropubs', 'hotdogs', 'opensandwiches', 'chicken_wings', 'indonesian', 'basque', 'sushi', 'thai', 'norcinerie', 'oriental', 'swissfood', 'austrian', 'mongolian', 'romanian', 'heuriger', 'soup', 'chinese', 'poutineries', 'armenian', 'island_pub', 'baguettes', 'chickenshop', 'mediterranean', 'supperclubs', 'buffets', 'syrian', 'modern_australian', 'afghani', 'chilean', 'indpak', 'riceshop', 'pita', 'spanish', 'andalusian', 'tabernas', 'mexican', 'pubfood', 'scandinavian', 'modern_european', 'polish'}\n"
     ]
    }
   ],
   "source": [
    "yelp_categories = pd.read_json(\"../../data/raw/categories.json\")\n",
    "\n",
    "# select only one parent categories\n",
    "yelp_categories = yelp_categories[yelp_categories.parents.apply(lambda x: len(x) == 1) == True]\n",
    "res_list = yelp_categories[yelp_categories.parents.apply(lambda x: len([i for i in x if i in 'restaurants']) > 0)]\n",
    "res_list = res_list.alias\n",
    "print(set(res_list))"
   ]
  },
  {
   "cell_type": "code",
   "execution_count": 150,
   "metadata": {},
   "outputs": [
    {
     "data": {
      "text/plain": [
       "True"
      ]
     },
     "execution_count": 150,
     "metadata": {},
     "output_type": "execute_result"
    }
   ],
   "source": [
    "'arabian' in res_list.values"
   ]
  },
  {
   "cell_type": "code",
   "execution_count": 151,
   "metadata": {},
   "outputs": [
    {
     "data": {
      "text/plain": [
       "0          seafood, hawaiian, newamerican\n",
       "1            seafood, steak, tradamerican\n",
       "2                             restaurants\n",
       "3    sportsbars, whiskeybars, musicvenues\n",
       "4                         sushi, japanese\n",
       "Name: category_alias, dtype: object"
      ]
     },
     "execution_count": 151,
     "metadata": {},
     "output_type": "execute_result"
    }
   ],
   "source": [
    "dataset.category_alias.head()"
   ]
  },
  {
   "cell_type": "code",
   "execution_count": 154,
   "metadata": {},
   "outputs": [
    {
     "data": {
      "text/plain": [
       "4209"
      ]
     },
     "execution_count": 154,
     "metadata": {},
     "output_type": "execute_result"
    }
   ],
   "source": [
    "df_res_list = dataset[dataset.category_alias.apply(lambda x: len([i for i in x.split(', ') if i in res_list.values]) > 0)]\n",
    "len(df_res_list)"
   ]
  },
  {
   "cell_type": "code",
   "execution_count": 155,
   "metadata": {},
   "outputs": [
    {
     "data": {
      "text/html": [
       "<div>\n",
       "<style scoped>\n",
       "    .dataframe tbody tr th:only-of-type {\n",
       "        vertical-align: middle;\n",
       "    }\n",
       "\n",
       "    .dataframe tbody tr th {\n",
       "        vertical-align: top;\n",
       "    }\n",
       "\n",
       "    .dataframe thead th {\n",
       "        text-align: right;\n",
       "    }\n",
       "</style>\n",
       "<table border=\"1\" class=\"dataframe\">\n",
       "  <thead>\n",
       "    <tr style=\"text-align: right;\">\n",
       "      <th></th>\n",
       "      <th>alias</th>\n",
       "      <th>display_phone</th>\n",
       "      <th>dist_to_alias</th>\n",
       "      <th>distance</th>\n",
       "      <th>id</th>\n",
       "      <th>image_url</th>\n",
       "      <th>is_closed</th>\n",
       "      <th>name</th>\n",
       "      <th>phone</th>\n",
       "      <th>price</th>\n",
       "      <th>...</th>\n",
       "      <th>coordinate_latitude</th>\n",
       "      <th>coordinate_longitude</th>\n",
       "      <th>location_address1</th>\n",
       "      <th>location_address2</th>\n",
       "      <th>location_address3</th>\n",
       "      <th>location_city</th>\n",
       "      <th>location_zip_code</th>\n",
       "      <th>location_country</th>\n",
       "      <th>location_state</th>\n",
       "      <th>location_display_address</th>\n",
       "    </tr>\n",
       "  </thead>\n",
       "  <tbody>\n",
       "    <tr>\n",
       "      <th>0</th>\n",
       "      <td>kimos-maui-lahaina</td>\n",
       "      <td>(808) 661-4811</td>\n",
       "      <td>kimos-maui-lahaina</td>\n",
       "      <td>4.279984</td>\n",
       "      <td>Xi1rLxy0nRtnRCeLVO-Dlw</td>\n",
       "      <td>https://s3-media2.fl.yelpcdn.com/bphoto/hpFDMF...</td>\n",
       "      <td>False</td>\n",
       "      <td>Kimo's Maui</td>\n",
       "      <td>+18086614811</td>\n",
       "      <td>$$</td>\n",
       "      <td>...</td>\n",
       "      <td>20.875950</td>\n",
       "      <td>-156.680560</td>\n",
       "      <td>845 Front St</td>\n",
       "      <td>Ste A</td>\n",
       "      <td></td>\n",
       "      <td>Lahaina</td>\n",
       "      <td>96761</td>\n",
       "      <td>US</td>\n",
       "      <td>HI</td>\n",
       "      <td>845 Front St,Ste A,Lahaina, HI 96761</td>\n",
       "    </tr>\n",
       "    <tr>\n",
       "      <th>1</th>\n",
       "      <td>lahaina-fish-lahaina</td>\n",
       "      <td>(808) 661-3472</td>\n",
       "      <td>kimos-maui-lahaina</td>\n",
       "      <td>10.241855</td>\n",
       "      <td>ncPIDj9ybOeOESkhIdUkQQ</td>\n",
       "      <td>https://s3-media4.fl.yelpcdn.com/bphoto/gntAYO...</td>\n",
       "      <td>False</td>\n",
       "      <td>Lahaina Fish</td>\n",
       "      <td>+18086613472</td>\n",
       "      <td>$$</td>\n",
       "      <td>...</td>\n",
       "      <td>20.876042</td>\n",
       "      <td>-156.680561</td>\n",
       "      <td>831 Front St</td>\n",
       "      <td></td>\n",
       "      <td></td>\n",
       "      <td>Lahaina</td>\n",
       "      <td>96761</td>\n",
       "      <td>US</td>\n",
       "      <td>HI</td>\n",
       "      <td>831 Front St,Lahaina, HI 96761</td>\n",
       "    </tr>\n",
       "    <tr>\n",
       "      <th>4</th>\n",
       "      <td>lahaina-sushi-ko-lahaina-2</td>\n",
       "      <td>(808) 214-5352</td>\n",
       "      <td>kimos-maui-lahaina</td>\n",
       "      <td>51.873763</td>\n",
       "      <td>aeG9ZSWgTV4AEA11ev3Gtw</td>\n",
       "      <td>https://s3-media3.fl.yelpcdn.com/bphoto/Mi_AFu...</td>\n",
       "      <td>False</td>\n",
       "      <td>Lahaina Sushi Ko</td>\n",
       "      <td>+18082145352</td>\n",
       "      <td>$$</td>\n",
       "      <td>...</td>\n",
       "      <td>20.876140</td>\n",
       "      <td>-156.680130</td>\n",
       "      <td>844 Front St</td>\n",
       "      <td>Ste 106</td>\n",
       "      <td></td>\n",
       "      <td>Lahaina</td>\n",
       "      <td>96761</td>\n",
       "      <td>US</td>\n",
       "      <td>HI</td>\n",
       "      <td>844 Front St,Ste 106,Lahaina, HI 96761</td>\n",
       "    </tr>\n",
       "    <tr>\n",
       "      <th>6</th>\n",
       "      <td>cheeseburger-in-paradise-lahaina-2</td>\n",
       "      <td>(808) 661-4855</td>\n",
       "      <td>kimos-maui-lahaina</td>\n",
       "      <td>67.341773</td>\n",
       "      <td>II4S0jgLBQng1lVY1ks4Sg</td>\n",
       "      <td>https://s3-media2.fl.yelpcdn.com/bphoto/w4cnrS...</td>\n",
       "      <td>False</td>\n",
       "      <td>Cheeseburger In Paradise</td>\n",
       "      <td>+18086614855</td>\n",
       "      <td>$$</td>\n",
       "      <td>...</td>\n",
       "      <td>20.875471</td>\n",
       "      <td>-156.680163</td>\n",
       "      <td>811 Front St</td>\n",
       "      <td></td>\n",
       "      <td>None</td>\n",
       "      <td>Lahaina</td>\n",
       "      <td>96761</td>\n",
       "      <td>US</td>\n",
       "      <td>HI</td>\n",
       "      <td>811 Front St,Lahaina, HI 96761</td>\n",
       "    </tr>\n",
       "    <tr>\n",
       "      <th>7</th>\n",
       "      <td>surf-ripper-lahaina-5</td>\n",
       "      <td>(808) 635-2903</td>\n",
       "      <td>kimos-maui-lahaina</td>\n",
       "      <td>68.105631</td>\n",
       "      <td>S5wFd_xBN0dKq6MA6opqag</td>\n",
       "      <td>https://s3-media2.fl.yelpcdn.com/bphoto/UIHOh1...</td>\n",
       "      <td>False</td>\n",
       "      <td>Surf Ripper</td>\n",
       "      <td>+18086352903</td>\n",
       "      <td>$</td>\n",
       "      <td>...</td>\n",
       "      <td>20.875387</td>\n",
       "      <td>-156.680109</td>\n",
       "      <td>819 Front St</td>\n",
       "      <td>None</td>\n",
       "      <td></td>\n",
       "      <td>Lahaina</td>\n",
       "      <td>96761</td>\n",
       "      <td>US</td>\n",
       "      <td>HI</td>\n",
       "      <td>819 Front St,Lahaina, HI 96761</td>\n",
       "    </tr>\n",
       "  </tbody>\n",
       "</table>\n",
       "<p>5 rows × 26 columns</p>\n",
       "</div>"
      ],
      "text/plain": [
       "                                alias   display_phone       dist_to_alias  \\\n",
       "0                  kimos-maui-lahaina  (808) 661-4811  kimos-maui-lahaina   \n",
       "1                lahaina-fish-lahaina  (808) 661-3472  kimos-maui-lahaina   \n",
       "4          lahaina-sushi-ko-lahaina-2  (808) 214-5352  kimos-maui-lahaina   \n",
       "6  cheeseburger-in-paradise-lahaina-2  (808) 661-4855  kimos-maui-lahaina   \n",
       "7               surf-ripper-lahaina-5  (808) 635-2903  kimos-maui-lahaina   \n",
       "\n",
       "    distance                      id  \\\n",
       "0   4.279984  Xi1rLxy0nRtnRCeLVO-Dlw   \n",
       "1  10.241855  ncPIDj9ybOeOESkhIdUkQQ   \n",
       "4  51.873763  aeG9ZSWgTV4AEA11ev3Gtw   \n",
       "6  67.341773  II4S0jgLBQng1lVY1ks4Sg   \n",
       "7  68.105631  S5wFd_xBN0dKq6MA6opqag   \n",
       "\n",
       "                                           image_url  is_closed  \\\n",
       "0  https://s3-media2.fl.yelpcdn.com/bphoto/hpFDMF...      False   \n",
       "1  https://s3-media4.fl.yelpcdn.com/bphoto/gntAYO...      False   \n",
       "4  https://s3-media3.fl.yelpcdn.com/bphoto/Mi_AFu...      False   \n",
       "6  https://s3-media2.fl.yelpcdn.com/bphoto/w4cnrS...      False   \n",
       "7  https://s3-media2.fl.yelpcdn.com/bphoto/UIHOh1...      False   \n",
       "\n",
       "                       name         phone price  ...  coordinate_latitude  \\\n",
       "0               Kimo's Maui  +18086614811    $$  ...            20.875950   \n",
       "1              Lahaina Fish  +18086613472    $$  ...            20.876042   \n",
       "4          Lahaina Sushi Ko  +18082145352    $$  ...            20.876140   \n",
       "6  Cheeseburger In Paradise  +18086614855    $$  ...            20.875471   \n",
       "7               Surf Ripper  +18086352903     $  ...            20.875387   \n",
       "\n",
       "   coordinate_longitude location_address1 location_address2 location_address3  \\\n",
       "0           -156.680560      845 Front St             Ste A                     \n",
       "1           -156.680561      831 Front St                                       \n",
       "4           -156.680130      844 Front St           Ste 106                     \n",
       "6           -156.680163      811 Front St                                None   \n",
       "7           -156.680109      819 Front St              None                     \n",
       "\n",
       "  location_city  location_zip_code  location_country location_state  \\\n",
       "0       Lahaina              96761                US             HI   \n",
       "1       Lahaina              96761                US             HI   \n",
       "4       Lahaina              96761                US             HI   \n",
       "6       Lahaina              96761                US             HI   \n",
       "7       Lahaina              96761                US             HI   \n",
       "\n",
       "                 location_display_address  \n",
       "0    845 Front St,Ste A,Lahaina, HI 96761  \n",
       "1          831 Front St,Lahaina, HI 96761  \n",
       "4  844 Front St,Ste 106,Lahaina, HI 96761  \n",
       "6          811 Front St,Lahaina, HI 96761  \n",
       "7          819 Front St,Lahaina, HI 96761  \n",
       "\n",
       "[5 rows x 26 columns]"
      ]
     },
     "execution_count": 155,
     "metadata": {},
     "output_type": "execute_result"
    }
   ],
   "source": [
    "df_res_list.head()"
   ]
  },
  {
   "cell_type": "code",
   "execution_count": 112,
   "metadata": {},
   "outputs": [
    {
     "data": {
      "text/plain": [
       "{'', 'delivery', 'pickup', 'restaurant_reservation'}"
      ]
     },
     "execution_count": 112,
     "metadata": {},
     "output_type": "execute_result"
    }
   ],
   "source": [
    "from itertools import chain\n",
    "set(chain(*[i.split(',') for i in set(dataset.transactions)]))"
   ]
  },
  {
   "cell_type": "code",
   "execution_count": 158,
   "metadata": {},
   "outputs": [
    {
     "data": {
      "text/plain": [
       "1019"
      ]
     },
     "execution_count": 158,
     "metadata": {},
     "output_type": "execute_result"
    }
   ],
   "source": [
    "df_transactions = dataset[dataset.transactions.apply(lambda x: len(x) > 0)]\n",
    "len(df_transactions)"
   ]
  },
  {
   "cell_type": "code",
   "execution_count": 83,
   "metadata": {},
   "outputs": [
    {
     "data": {
      "text/plain": [
       "5645"
      ]
     },
     "execution_count": 83,
     "metadata": {},
     "output_type": "execute_result"
    }
   ],
   "source": [
    "df_transactions_not = dataset[dataset.transactions.apply(lambda x: len(x) == 0)]\n",
    "len(df_transactions_not)"
   ]
  },
  {
   "cell_type": "code",
   "execution_count": 44,
   "metadata": {},
   "outputs": [
    {
     "name": "stdout",
     "output_type": "stream",
     "text": [
      "{'newamerican', 'salad', 'breweries', 'british', 'korean', 'turkish', 'russian', 'pakistani', 'delis', 'singaporean', 'tex-mex', 'latin', 'cupcakes', 'seafoodmarkets', 'teppanyaki', 'bagels', 'diners', 'lounges', 'brasseries', 'oliveoil', 'breakfast_brunch', 'poke', 'newmexican', 'healthmarkets', 'shavedice', 'bakeries', 'cajun', 'tea', 'cafes', 'tapas', 'gelato', 'cocktailbars', 'cheesesteaks', 'raw_food', 'peruvian', 'halal', 'comfortfood', 'argentine', 'meats', 'taiwanese', 'icecream', 'waffles', 'wine_bars', 'izakaya', 'irish', 'beer_and_wine', 'french', 'asianfusion', 'tapasmallplates', 'bubbletea', 'sportsbars', 'fishnchips', 'greek', 'catering', 'japanese', 'vegetarian', 'himalayan', 'divebars', 'foodstands', 'vapeshops', 'hkcafe', 'szechuan', 'bbq', 'persian', 'australian', 'poolhalls', 'customcakes', 'gluten_free', 'sandwiches', 'seafood', 'wraps', 'vegan', 'italian', 'hawaiian', 'tradamerican', 'tacos', 'donuts', 'acaibowls', 'steak', 'pizza', 'lebanese', 'cakeshop', 'sicilian', 'hotpot', 'japacurry', 'panasian', 'dinnertheater', 'brazilian', 'creperies', 'burgers', 'grocery', 'beerbar', 'salvadoran', 'vitaminssupplements', 'desserts', 'diyfood', 'vietnamese', 'german', 'caribbean', 'southern', 'cuban', 'irish_pubs', 'mideastern', 'foodtrucks', 'laotian', 'pastashops', 'empanadas', 'countrydancehalls', 'noodles', 'tikibars', 'gastropubs', 'hotdogs', 'chicken_wings', 'sushi', 'basque', 'thai', 'ramen', 'hookah_bars', 'venues', 'musicvenues', 'pubs', 'candy', 'whiskeybars', 'internetcafe', 'coffee', 'falafel', 'bars', 'soup', 'beergardens', 'chinese', 'chickenshop', 'mediterranean', 'buffets', 'dimsum', 'afghani', 'indpak', 'importedfood', 'spanish', 'mexican', 'juicebars', 'modern_european', 'polish', 'eventplanning', 'organic_stores'}\n"
     ]
    }
   ],
   "source": [
    "# restaurants? [BUSINESSES with TRANSACTION]\n",
    "print(set(', '.join(df_transactions.category_alias).split(', ')))"
   ]
  },
  {
   "cell_type": "code",
   "execution_count": 45,
   "metadata": {},
   "outputs": [
    {
     "name": "stdout",
     "output_type": "stream",
     "text": [
      "{'newamerican', 'poolservice', 'salad', 'museums', 'breweries', 'golflessons', 'stationery', 'countryclubs', 'yoga', 'education', 'airportlounges', 'playgrounds', 'waterstores', 'drugstores', 'popuprestaurants', 'specialtyschools', 'arcades', 'meditationcenters', 'beachequipmentrental', 'rafting', 'toys', 'british', 'markets', 'korean', 'turkish', 'trampoline', 'russian', 'pakistani', 'delis', 'healthtrainers', 'summer_camps', 'outdoormovies', 'tex-mex', 'nightlife', 'herbsandspices', 'localservices', 'artsandcrafts', 'latin', 'travelagents', 'cupcakes', 'daycamps', 'seafoodmarkets', 'shanghainese', 'portuguese', 'gaybars', 'horsebackriding', 'teppanyaki', 'travelservices', 'mountainbiking', 'outdoorgear', 'scottish', 'active', 'bagels', 'lounges', 'diners', 'sledding', 'yelpevents', 'breakfast_brunch', 'sports_clubs', 'chocolate', 'pets', 'cafeteria', 'fooddeliveryservices', 'beaches', 'poke', 'discgolf', 'newmexican', 'souvenirs', 'healthmarkets', 'shavedice', 'bakeries', 'giftshops', 'cajun', 'hobbyshops', 'unofficialyelpevents', 'basque', 'medcenters', 'menscloth', 'popcorn', 'tea', 'intlgrocery', 'cafes', 'cideries', 'gelato', 'tapas', 'cocktailbars', 'cheesesteaks', 'publicservicesgovt', 'shoppingcenters', 'hindu_temples', 'raw_food', 'peruvian', 'halal', 'biketours', 'comfortfood', 'scuba', 'gardens', 'massage', 'argentine', 'meats', 'tours', 'taiwanese', 'icecream', 'waffles', 'wine_bars', 'karaoke', 'foodtours', 'casinos', 'bike_repair_maintenance', 'artmuseums', 'izakaya', 'irish', 'bikes', 'womenscloth', 'beer_and_wine', 'theater', 'french', 'asianfusion', 'filipino', 'tapasmallplates', 'butcher', 'bubbletea', 'sportsbars', 'restaurants', 'greek', 'catering', 'japanese', 'vegetarian', 'fishnchips', 'divebars', 'foodstands', 'dog_parks', 'fishing', 'cantonese', 'ukrainian', 'szechuan', 'campgrounds', 'smokehouse', 'social_clubs', 'bbq', 'golf', 'amusementparks', 'football', 'food', 'cheese', 'persian', 'lasertag', 'conveyorsushi', 'australian', 'boattours', 'poolhalls', 'fondue', 'customcakes', 'gluten_free', 'sandwiches', 'recreation', 'seafood', 'comedyclubs', 'parks', 'soulfood', 'rock_climbing', 'boatcharters', 'wraps', 'galleries', 'media', 'skiresorts', 'sportswear', 'vegan', 'hawaiian', 'tacos', 'tradamerican', 'italian', 'donuts', 'skate_parks', 'coffeeroasteries', 'spiritual_shop', 'educationservices', 'hotdog', 'acaibowls', 'arabian', 'steak', 'vacation_rentals', 'pizza', 'streetvendors', 'cigarbars', 'lakes', 'cakeshop', 'flowers', 'colombian', 'macarons', 'hotpot', 'homestaging', 'sicilian', 'surfshop', 'festivals', 'japacurry', 'swimmingpools', 'servicestations', 'cookingclasses', 'brewpubs', 'jewelry', 'partysupplies', 'panasian', 'fleamarkets', 'dinnertheater', 'golfequipment', 'czech', 'resorts', 'creperies', 'burgers', 'brazilian', 'kosher', 'polynesian', 'sportgoods', 'headshops', 'burmese', 'grocery', 'paddleboarding', 'clubcrawl', 'hotels', 'surfing', 'publicart', 'gourmet', 'food_court', 'srilankan', 'beerbar', 'themedcafes', 'fabricstores', 'salvadoran', 'hostels', 'fitness', 'walkingtours', 'bootcamps', 'aquariumservices', 'desserts', 'diyfood', 'vietnamese', 'german', 'caribbean', 'southern', 'kebab', 'religiousitems', 'cuban', 'irish_pubs', 'mideastern', 'foodtrucks', 'pastashops', 'tcm', 'eventplanning', 'countrydancehalls', 'snorkeling', 'localflavor', 'bookstores', 'noodles', 'tikibars', 'danceclubs', 'gastropubs', 'hotdogs', 'farmersmarket', 'bikerentals', 'banks', 'landmarks', 'chicken_wings', 'sushi', 'couriers', 'tubing', 'matchmakers', 'thai', 'boating', 'kombucha', 'ramen', 'diving', 'speakeasies', 'patiocoverings', 'wholesale_stores', 'honey', 'wedding_planning', 'hookah_bars', 'bowling', 'venues', 'mongolian', 'zoos', 'musicvenues', 'candy', 'whiskeybars', 'pubs', 'artclasses', 'antiques', 'paintyourownpottery', 'internetcafe', 'shopping', 'coffee', 'falafel', 'baseballfields', 'accessories', 'kids_activities', 'bars', 'massage_therapy', 'hiking', 'soup', 'beergardens', 'chinese', 'amateursportsteams', 'nonprofit', 'chickenshop', 'mediterranean', 'aquariums', 'puertorican', 'buffets', 'cosmetics', 'jazzandblues', 'zipline', 'dimsum', 'indpak', 'tobaccoshops', 'climbing', 'hauntedhouses', 'importedfood', 'childrensmuseums', 'convenience', 'basketballcourts', 'spanish', 'mexican', 'tennis', 'juicebars', 'modern_european', 'collegeuniv', 'pettingzoos', 'organic_stores', 'personalchefs'}\n"
     ]
    }
   ],
   "source": [
    "# not restaurants? [BUSINESSES w/o TRANSACTION]\n",
    "print(set(', '.join(df_transactions_not.category_alias).split(', ')))"
   ]
  },
  {
   "cell_type": "code",
   "execution_count": 114,
   "metadata": {},
   "outputs": [
    {
     "name": "stdout",
     "output_type": "stream",
     "text": [
      "6664\n",
      "6664\n"
     ]
    }
   ],
   "source": [
    "print(f\"{len(dataset)}\")\n",
    "print(f\"{len(dataset.alias.unique())}\")"
   ]
  },
  {
   "cell_type": "code",
   "execution_count": 115,
   "metadata": {
    "scrolled": true
   },
   "outputs": [
    {
     "data": {
      "text/html": [
       "<div>\n",
       "<style scoped>\n",
       "    .dataframe tbody tr th:only-of-type {\n",
       "        vertical-align: middle;\n",
       "    }\n",
       "\n",
       "    .dataframe tbody tr th {\n",
       "        vertical-align: top;\n",
       "    }\n",
       "\n",
       "    .dataframe thead th {\n",
       "        text-align: right;\n",
       "    }\n",
       "</style>\n",
       "<table border=\"1\" class=\"dataframe\">\n",
       "  <thead>\n",
       "    <tr style=\"text-align: right;\">\n",
       "      <th></th>\n",
       "      <th>alias</th>\n",
       "      <th>display_phone</th>\n",
       "      <th>dist_to_alias</th>\n",
       "      <th>distance</th>\n",
       "      <th>id</th>\n",
       "      <th>image_url</th>\n",
       "      <th>is_closed</th>\n",
       "      <th>name</th>\n",
       "      <th>phone</th>\n",
       "      <th>price</th>\n",
       "      <th>...</th>\n",
       "      <th>coordinate_latitude</th>\n",
       "      <th>coordinate_longitude</th>\n",
       "      <th>location_address1</th>\n",
       "      <th>location_address2</th>\n",
       "      <th>location_address3</th>\n",
       "      <th>location_city</th>\n",
       "      <th>location_zip_code</th>\n",
       "      <th>location_country</th>\n",
       "      <th>location_state</th>\n",
       "      <th>location_display_address</th>\n",
       "    </tr>\n",
       "  </thead>\n",
       "  <tbody>\n",
       "    <tr>\n",
       "      <th>0</th>\n",
       "      <td>kimos-maui-lahaina</td>\n",
       "      <td>(808) 661-4811</td>\n",
       "      <td>kimos-maui-lahaina</td>\n",
       "      <td>4.279984</td>\n",
       "      <td>Xi1rLxy0nRtnRCeLVO-Dlw</td>\n",
       "      <td>https://s3-media2.fl.yelpcdn.com/bphoto/hpFDMF...</td>\n",
       "      <td>False</td>\n",
       "      <td>Kimo's Maui</td>\n",
       "      <td>+18086614811</td>\n",
       "      <td>$$</td>\n",
       "      <td>...</td>\n",
       "      <td>20.875950</td>\n",
       "      <td>-156.680560</td>\n",
       "      <td>845 Front St</td>\n",
       "      <td>Ste A</td>\n",
       "      <td></td>\n",
       "      <td>Lahaina</td>\n",
       "      <td>96761</td>\n",
       "      <td>US</td>\n",
       "      <td>HI</td>\n",
       "      <td>[845 Front St, Ste A, Lahaina, HI 96761]</td>\n",
       "    </tr>\n",
       "    <tr>\n",
       "      <th>1</th>\n",
       "      <td>lahaina-fish-lahaina</td>\n",
       "      <td>(808) 661-3472</td>\n",
       "      <td>kimos-maui-lahaina</td>\n",
       "      <td>10.241855</td>\n",
       "      <td>ncPIDj9ybOeOESkhIdUkQQ</td>\n",
       "      <td>https://s3-media4.fl.yelpcdn.com/bphoto/gntAYO...</td>\n",
       "      <td>False</td>\n",
       "      <td>Lahaina Fish</td>\n",
       "      <td>+18086613472</td>\n",
       "      <td>$$</td>\n",
       "      <td>...</td>\n",
       "      <td>20.876042</td>\n",
       "      <td>-156.680561</td>\n",
       "      <td>831 Front St</td>\n",
       "      <td></td>\n",
       "      <td></td>\n",
       "      <td>Lahaina</td>\n",
       "      <td>96761</td>\n",
       "      <td>US</td>\n",
       "      <td>HI</td>\n",
       "      <td>[831 Front St, Lahaina, HI 96761]</td>\n",
       "    </tr>\n",
       "    <tr>\n",
       "      <th>2</th>\n",
       "      <td>blu-maui-lahaina</td>\n",
       "      <td>(808) 661-9591</td>\n",
       "      <td>kimos-maui-lahaina</td>\n",
       "      <td>14.320386</td>\n",
       "      <td>9I_XJDk_q1HVWRDiwRTwsg</td>\n",
       "      <td></td>\n",
       "      <td>False</td>\n",
       "      <td>Blu Maui</td>\n",
       "      <td>+18086619591</td>\n",
       "      <td>NaN</td>\n",
       "      <td>...</td>\n",
       "      <td>20.875810</td>\n",
       "      <td>-156.680440</td>\n",
       "      <td>839 Front St</td>\n",
       "      <td>None</td>\n",
       "      <td></td>\n",
       "      <td>Lahaina</td>\n",
       "      <td>96767</td>\n",
       "      <td>US</td>\n",
       "      <td>HI</td>\n",
       "      <td>[839 Front St, Lahaina, HI 96767]</td>\n",
       "    </tr>\n",
       "  </tbody>\n",
       "</table>\n",
       "<p>3 rows × 26 columns</p>\n",
       "</div>"
      ],
      "text/plain": [
       "                  alias   display_phone       dist_to_alias   distance  \\\n",
       "0    kimos-maui-lahaina  (808) 661-4811  kimos-maui-lahaina   4.279984   \n",
       "1  lahaina-fish-lahaina  (808) 661-3472  kimos-maui-lahaina  10.241855   \n",
       "2      blu-maui-lahaina  (808) 661-9591  kimos-maui-lahaina  14.320386   \n",
       "\n",
       "                       id                                          image_url  \\\n",
       "0  Xi1rLxy0nRtnRCeLVO-Dlw  https://s3-media2.fl.yelpcdn.com/bphoto/hpFDMF...   \n",
       "1  ncPIDj9ybOeOESkhIdUkQQ  https://s3-media4.fl.yelpcdn.com/bphoto/gntAYO...   \n",
       "2  9I_XJDk_q1HVWRDiwRTwsg                                                      \n",
       "\n",
       "   is_closed          name         phone price  ...  coordinate_latitude  \\\n",
       "0      False   Kimo's Maui  +18086614811    $$  ...            20.875950   \n",
       "1      False  Lahaina Fish  +18086613472    $$  ...            20.876042   \n",
       "2      False      Blu Maui  +18086619591   NaN  ...            20.875810   \n",
       "\n",
       "   coordinate_longitude location_address1 location_address2 location_address3  \\\n",
       "0           -156.680560      845 Front St             Ste A                     \n",
       "1           -156.680561      831 Front St                                       \n",
       "2           -156.680440      839 Front St              None                     \n",
       "\n",
       "  location_city  location_zip_code  location_country location_state  \\\n",
       "0       Lahaina              96761                US             HI   \n",
       "1       Lahaina              96761                US             HI   \n",
       "2       Lahaina              96767                US             HI   \n",
       "\n",
       "                   location_display_address  \n",
       "0  [845 Front St, Ste A, Lahaina, HI 96761]  \n",
       "1         [831 Front St, Lahaina, HI 96761]  \n",
       "2         [839 Front St, Lahaina, HI 96767]  \n",
       "\n",
       "[3 rows x 26 columns]"
      ]
     },
     "execution_count": 115,
     "metadata": {},
     "output_type": "execute_result"
    }
   ],
   "source": [
    "dataset[dataset.alias == \"kimos-maui-lahaina\"]\n",
    "dataset[(dataset.dist_to_alias == \"kimos-maui-lahaina\") & (dataset.distance < 50)]\n"
   ]
  },
  {
   "cell_type": "code",
   "execution_count": 75,
   "metadata": {},
   "outputs": [
    {
     "data": {
      "text/plain": [
       "Index(['loc_address1', 'loc_address2', 'loc_address3', 'loc_city',\n",
       "       'loc_zip_code', 'loc_country', 'loc_state', 'loc_display_address'],\n",
       "      dtype='object')"
      ]
     },
     "execution_count": 75,
     "metadata": {},
     "output_type": "execute_result"
    }
   ],
   "source": [
    "pd_location.columns = 'loc_' + pd_location.columns\n",
    "pd_location.columns"
   ]
  },
  {
   "cell_type": "code",
   "execution_count": 10,
   "metadata": {},
   "outputs": [
    {
     "data": {
      "image/png": "[encoded data removed]",
      "text/plain": [
       "<Figure size 432x288 with 1 Axes>"
      ]
     },
     "metadata": {
      "needs_background": "light"
     },
     "output_type": "display_data"
    }
   ],
   "source": [
    "import matplotlib.pyplot as plt\n",
    "dataset.review_count.plot()\n",
    "plt.show()"
   ]
  },
  {
   "cell_type": "code",
   "execution_count": 11,
   "metadata": {},
   "outputs": [
    {
     "data": {
      "text/plain": [
       "['kimos-maui-lahaina',\n",
       " 'leilanis-lahaina-2',\n",
       " 'hula-grill-kaanapali-lahaina-2',\n",
       " 'dukes-beach-house-lahaina',\n",
       " 'sunnyside-tahoe-city-2',\n",
       " 'dukes-huntington-beach-huntington-beach-2',\n",
       " 'dukes-la-jolla-la-jolla',\n",
       " 'dukes-malibu-malibu-2',\n",
       " 'dukes-kauai-lihue-3',\n",
       " 'keokis-paradise-koloa',\n",
       " 'dukes-waikiki-honolulu-2',\n",
       " 'hula-grill-waikiki-honolulu-3']"
      ]
     },
     "execution_count": 11,
     "metadata": {},
     "output_type": "execute_result"
    }
   ],
   "source": [
    "yelp_branches = [\n",
    "    'kimos-maui-lahaina',\n",
    "    'sunnyside-tahoe-city-2',\n",
    "    'dukes-huntington-beach-huntington-beach-2',\n",
    "    'dukes-la-jolla-la-jolla',\n",
    "    'dukes-malibu-malibu-2',\n",
    "    'dukes-beach-house-lahaina',\n",
    "    'dukes-kauai-lihue-3',\n",
    "    'dukes-waikiki-honolulu-2',\n",
    "    'hula-grill-waikiki-honolulu-3',\n",
    "    'hula-grill-kaanapali-lahaina-2',\n",
    "    'keokis-paradise-koloa',\n",
    "    'leilanis-lahaina-2'\n",
    "]\n",
    "[i for i in dataset.alias.values if i in yelp_branches]"
   ]
  },
  {
   "cell_type": "markdown",
   "metadata": {},
   "source": [
    "## Exploratory Data Analysis"
   ]
  },
  {
   "cell_type": "code",
   "execution_count": 212,
   "metadata": {},
   "outputs": [
    {
     "name": "stdout",
     "output_type": "stream",
     "text": [
      "47.5\n",
      "3.9583333333333335\n"
     ]
    }
   ],
   "source": [
    "print(dataset.loc[dataset.alias.isin(yelp_branches)].rating.sum())\n",
    "print(dataset.loc[dataset.alias.isin(yelp_branches)].rating.mean())"
   ]
  },
  {
   "cell_type": "code",
   "execution_count": 70,
   "metadata": {},
   "outputs": [
    {
     "data": {
      "text/plain": [
       "6664"
      ]
     },
     "execution_count": 70,
     "metadata": {},
     "output_type": "execute_result"
    }
   ],
   "source": [
    "len(dataset)"
   ]
  },
  {
   "cell_type": "code",
   "execution_count": 123,
   "metadata": {},
   "outputs": [
    {
     "data": {
      "text/plain": [
       "0"
      ]
     },
     "execution_count": 123,
     "metadata": {},
     "output_type": "execute_result"
    }
   ],
   "source": [
    "dataset.is_closed[dataset.is_closed == True].count()"
   ]
  },
  {
   "cell_type": "code",
   "execution_count": 194,
   "metadata": {},
   "outputs": [
    {
     "data": {
      "text/plain": [
       "$$      2516\n",
       "$       1952\n",
       "$$$      312\n",
       "$$$$      70\n",
       "Name: price, dtype: int64"
      ]
     },
     "execution_count": 194,
     "metadata": {},
     "output_type": "execute_result"
    }
   ],
   "source": [
    "dataset.price.value_counts()"
   ]
  },
  {
   "cell_type": "code",
   "execution_count": 127,
   "metadata": {},
   "outputs": [
    {
     "name": "stdout",
     "output_type": "stream",
     "text": [
      "sum : 1416734\n",
      "mean: 212.5951380552221\n"
     ]
    }
   ],
   "source": [
    "print(f\"sum : {dataset.review_count.sum()}\")\n",
    "print(f\"mean: {dataset.review_count.mean()}\")"
   ]
  },
  {
   "cell_type": "code",
   "execution_count": 199,
   "metadata": {},
   "outputs": [
    {
     "name": "stdout",
     "output_type": "stream",
     "text": [
      "sum : 25611.5\n",
      "mean: 3.8432623049219687\n"
     ]
    }
   ],
   "source": [
    "print(f\"sum : {dataset.rating.sum()}\")\n",
    "print(f\"mean: {dataset.rating.mean()}\")"
   ]
  },
  {
   "cell_type": "code",
   "execution_count": 171,
   "metadata": {},
   "outputs": [
    {
     "data": {
      "text/plain": [
       "$$    12\n",
       "Name: price, dtype: int64"
      ]
     },
     "execution_count": 171,
     "metadata": {},
     "output_type": "execute_result"
    }
   ],
   "source": [
    "dataset.loc[dataset.alias.isin(yelp_branches)].price.value_counts()"
   ]
  },
  {
   "cell_type": "code",
   "execution_count": 126,
   "metadata": {},
   "outputs": [
    {
     "name": "stdout",
     "output_type": "stream",
     "text": [
      "26365\n",
      "2197.0833333333335\n"
     ]
    }
   ],
   "source": [
    "print(dataset.loc[dataset.alias.isin(yelp_branches)].review_count.sum())\n",
    "print(dataset.loc[dataset.alias.isin(yelp_branches)].review_count.mean())"
   ]
  },
  {
   "cell_type": "code",
   "execution_count": 181,
   "metadata": {},
   "outputs": [],
   "source": [
    "import math\n",
    "\n",
    "\n",
    "def distance(origin, destination):\n",
    "    \"\"\"\n",
    "    Calculate the Haversine distance.\n",
    "\n",
    "    Parameters\n",
    "    ----------\n",
    "    origin : tuple of float\n",
    "        (lat, long)\n",
    "    destination : tuple of float\n",
    "        (lat, long)\n",
    "\n",
    "    Returns\n",
    "    -------\n",
    "    distance_in_km : float\n",
    "\n",
    "    Examples\n",
    "    --------\n",
    "    >>> origin = (48.1372, 11.5756)  # Munich\n",
    "    >>> destination = (52.5186, 13.4083)  # Berlin\n",
    "    >>> round(distance(origin, destination), 1)\n",
    "    504.2\n",
    "    \"\"\"\n",
    "    lat1, lon1 = origin\n",
    "    lat2, lon2 = destination\n",
    "    radius = 6371  # km\n",
    "\n",
    "    dlat = math.radians(lat2 - lat1)\n",
    "    dlon = math.radians(lon2 - lon1)\n",
    "    a = (math.sin(dlat / 2) * math.sin(dlat / 2) +\n",
    "         math.cos(math.radians(lat1)) * math.cos(math.radians(lat2)) *\n",
    "         math.sin(dlon / 2) * math.sin(dlon / 2))\n",
    "    c = 2 * math.atan2(math.sqrt(a), math.sqrt(1 - a))\n",
    "    d = radius * c\n",
    "    return d"
   ]
  },
  {
   "cell_type": "code",
   "execution_count": 186,
   "metadata": {},
   "outputs": [
    {
     "data": {
      "text/plain": [
       "49.41870324385432"
      ]
     },
     "execution_count": 186,
     "metadata": {},
     "output_type": "execute_result"
    }
   ],
   "source": [
    "origin = dataset.iloc[0].coordinate_latitude, dataset.iloc[0].coordinate_longitude\n",
    "destination = dataset.iloc[4].coordinate_latitude, dataset.iloc[4].coordinate_longitude\n",
    "distance(origin, destination) * 1000"
   ]
  },
  {
   "cell_type": "code",
   "execution_count": 160,
   "metadata": {},
   "outputs": [
    {
     "data": {
      "image/png": "[encoded data removed]",
      "text/plain": [
       "<Figure size 432x288 with 1 Axes>"
      ]
     },
     "metadata": {
      "needs_background": "light"
     },
     "output_type": "display_data"
    }
   ],
   "source": [
    "bins = [0, 100, 500, 1000, 2000, 3000, 5000, 10000, 20000]\n",
    "lbls = [1, 2, 3, 4, 5, 6, 7, 8, 9]\n",
    "pd_bins = pd.cut(dataset.review_count, bins, lbls).value_counts()\n",
    "pd_bins.plot(title='Binned Review Count').tick_params(axis='x', labelrotation=45)"
   ]
  },
  {
   "cell_type": "code",
   "execution_count": 164,
   "metadata": {
    "scrolled": true
   },
   "outputs": [
    {
     "data": {
      "image/png": "[encoded data removed]",
      "text/plain": [
       "<Figure size 432x288 with 1 Axes>"
      ]
     },
     "metadata": {
      "needs_background": "light"
     },
     "output_type": "display_data"
    }
   ],
   "source": [
    "bins = [0, 0.5, 1, 1.5, 2, 2.5, 3, 3.5, 4, 4.5, 5]\n",
    "pd_bins = pd.cut(dataset.rating, bins).value_counts()\n",
    "pd_bins.plot(title='Binned Rating').tick_params(axis='x', labelrotation=45)"
   ]
  },
  {
   "cell_type": "code",
   "execution_count": 232,
   "metadata": {},
   "outputs": [
    {
     "data": {
      "text/plain": [
       "(3.5, 4.0]    2061\n",
       "(4.0, 4.5]    1396\n",
       "(3.0, 3.5]    1192\n",
       "(2.5, 3.0]     707\n",
       "(4.5, 5.0]     694\n",
       "(2.0, 2.5]     349\n",
       "(1.5, 2.0]     173\n",
       "(0.5, 1.0]      65\n",
       "(1.0, 1.5]      26\n",
       "(0.0, 0.5]       0\n",
       "Name: rating, dtype: int64"
      ]
     },
     "execution_count": 232,
     "metadata": {},
     "output_type": "execute_result"
    }
   ],
   "source": [
    "pd_bins"
   ]
  },
  {
   "cell_type": "code",
   "execution_count": null,
   "metadata": {},
   "outputs": [],
   "source": []
  }
 ],
 "metadata": {
  "kernelspec": {
   "display_name": "Python 3",
   "language": "python",
   "name": "python3"
  },
  "language_info": {
   "codemirror_mode": {
    "name": "ipython",
    "version": 3
   },
   "file_extension": ".py",
   "mimetype": "text/x-python",
   "name": "python",
   "nbconvert_exporter": "python",
   "pygments_lexer": "ipython3",
   "version": "3.6.8"
  },
  "toc": {
   "base_numbering": 1,
   "nav_menu": {},
   "number_sections": true,
   "sideBar": true,
   "skip_h1_title": false,
   "title_cell": "Table of Contents",
   "title_sidebar": "Contents",
   "toc_cell": false,
   "toc_position": {},
   "toc_section_display": true,
   "toc_window_display": false
  }
 },
 "nbformat": 4,
 "nbformat_minor": 2
}
