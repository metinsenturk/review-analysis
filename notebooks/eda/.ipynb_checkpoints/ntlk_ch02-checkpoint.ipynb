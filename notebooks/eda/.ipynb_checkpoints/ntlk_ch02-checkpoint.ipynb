{
 "cells": [
  {
   "cell_type": "code",
   "execution_count": 2,
   "metadata": {},
   "outputs": [
    {
     "data": {
      "text/plain": [
       "['austen-emma.txt',\n",
       " 'austen-persuasion.txt',\n",
       " 'austen-sense.txt',\n",
       " 'bible-kjv.txt',\n",
       " 'blake-poems.txt',\n",
       " 'bryant-stories.txt',\n",
       " 'burgess-busterbrown.txt',\n",
       " 'carroll-alice.txt',\n",
       " 'chesterton-ball.txt',\n",
       " 'chesterton-brown.txt',\n",
       " 'chesterton-thursday.txt',\n",
       " 'edgeworth-parents.txt',\n",
       " 'melville-moby_dick.txt',\n",
       " 'milton-paradise.txt',\n",
       " 'shakespeare-caesar.txt',\n",
       " 'shakespeare-hamlet.txt',\n",
       " 'shakespeare-macbeth.txt',\n",
       " 'whitman-leaves.txt']"
      ]
     },
     "execution_count": 2,
     "metadata": {},
     "output_type": "execute_result"
    }
   ],
   "source": [
    "import nltk\n",
    "nltk.corpus.gutenberg.fileids()"
   ]
  },
  {
   "cell_type": "code",
   "execution_count": 6,
   "metadata": {},
   "outputs": [],
   "source": [
    "emma = nltk.Text(nltk.corpus.gutenberg.words('austen-emma.txt'))"
   ]
  },
  {
   "cell_type": "code",
   "execution_count": 7,
   "metadata": {},
   "outputs": [
    {
     "data": {
      "text/plain": [
       "192427"
      ]
     },
     "execution_count": 7,
     "metadata": {},
     "output_type": "execute_result"
    }
   ],
   "source": [
    "len(emma)"
   ]
  },
  {
   "cell_type": "code",
   "execution_count": 9,
   "metadata": {},
   "outputs": [
    {
     "name": "stdout",
     "output_type": "stream",
     "text": [
      "Displaying 1 of 1 matches:\n",
      ", that Emma could not but feel some surprise , and a little displeasure , on hea\n"
     ]
    }
   ],
   "source": [
    "emma.concordance(\"surprise\")"
   ]
  },
  {
   "cell_type": "code",
   "execution_count": 11,
   "metadata": {},
   "outputs": [
    {
     "name": "stdout",
     "output_type": "stream",
     "text": [
      "['austen-emma.txt', 'austen-persuasion.txt', 'austen-sense.txt', 'bible-kjv.txt', 'blake-poems.txt', 'bryant-stories.txt', 'burgess-busterbrown.txt', 'carroll-alice.txt', 'chesterton-ball.txt', 'chesterton-brown.txt', 'chesterton-thursday.txt', 'edgeworth-parents.txt', 'melville-moby_dick.txt', 'milton-paradise.txt', 'shakespeare-caesar.txt', 'shakespeare-hamlet.txt', 'shakespeare-macbeth.txt', 'whitman-leaves.txt']\n"
     ]
    }
   ],
   "source": [
    "from nltk.corpus import gutenberg\n",
    "print(gutenberg.fileids())\n",
    "emma = gutenberg.words(\"austen-emma.txt\")"
   ]
  },
  {
   "cell_type": "code",
   "execution_count": 13,
   "metadata": {},
   "outputs": [
    {
     "name": "stdout",
     "output_type": "stream",
     "text": [
      "chr: 887071 wor: 192427 sen: 7752 voc: 7344 austen-emma.txt\n",
      "5 25 26 austen-emma.txt\n",
      "chr: 466292 wor: 98171 sen: 3747 voc: 5835 austen-persuasion.txt\n",
      "5 26 17 austen-persuasion.txt\n",
      "chr: 673022 wor: 141576 sen: 4999 voc: 6403 austen-sense.txt\n",
      "5 28 22 austen-sense.txt\n",
      "chr: 4332554 wor: 1010654 sen: 30103 voc: 12767 bible-kjv.txt\n",
      "4 34 79 bible-kjv.txt\n",
      "chr: 38153 wor: 8354 sen: 438 voc: 1535 blake-poems.txt\n",
      "5 19 5 blake-poems.txt\n",
      "chr: 249439 wor: 55563 sen: 2863 voc: 3940 bryant-stories.txt\n",
      "4 19 14 bryant-stories.txt\n",
      "chr: 84663 wor: 18963 sen: 1054 voc: 1559 burgess-busterbrown.txt\n",
      "4 18 12 burgess-busterbrown.txt\n",
      "chr: 144395 wor: 34110 sen: 1703 voc: 2636 carroll-alice.txt\n",
      "4 20 13 carroll-alice.txt\n",
      "chr: 457450 wor: 96996 sen: 4779 voc: 8335 chesterton-ball.txt\n",
      "5 20 12 chesterton-ball.txt\n",
      "chr: 406629 wor: 86063 sen: 3806 voc: 7794 chesterton-brown.txt\n",
      "5 23 11 chesterton-brown.txt\n",
      "chr: 320525 wor: 69213 sen: 3742 voc: 6349 chesterton-thursday.txt\n",
      "5 18 11 chesterton-thursday.txt\n",
      "chr: 935158 wor: 210663 sen: 10230 voc: 8447 edgeworth-parents.txt\n",
      "4 21 25 edgeworth-parents.txt\n",
      "chr: 1242990 wor: 260819 sen: 10059 voc: 17231 melville-moby_dick.txt\n",
      "5 26 15 melville-moby_dick.txt\n",
      "chr: 468220 wor: 96825 sen: 1851 voc: 9021 milton-paradise.txt\n",
      "5 52 11 milton-paradise.txt\n",
      "chr: 112310 wor: 25833 sen: 2163 voc: 3032 shakespeare-caesar.txt\n",
      "4 12 9 shakespeare-caesar.txt\n",
      "chr: 162881 wor: 37360 sen: 3106 voc: 4716 shakespeare-hamlet.txt\n",
      "4 12 8 shakespeare-hamlet.txt\n",
      "chr: 100351 wor: 23140 sen: 1907 voc: 3464 shakespeare-macbeth.txt\n",
      "4 12 7 shakespeare-macbeth.txt\n",
      "chr: 711215 wor: 154883 sen: 4250 voc: 12452 whitman-leaves.txt\n",
      "5 36 12 whitman-leaves.txt\n"
     ]
    }
   ],
   "source": [
    "for fileid in gutenberg.fileids():\n",
    "    n_chars = len(gutenberg.raw(fileid))\n",
    "    n_words = len(gutenberg.words(fileid))\n",
    "    n_sents = len(gutenberg.sents(fileid))\n",
    "    n_vocab = len(set(w.lower() for w in gutenberg.words(fileid)))\n",
    "    print(f\"chr: {n_chars} wor: {n_words} sen: {n_sents} voc: {n_vocab} {fileid}\")\n",
    "    print(round(n_chars/n_words), round(n_words/n_sents), round(n_words/n_vocab), fileid)"
   ]
  },
  {
   "cell_type": "code",
   "execution_count": 15,
   "metadata": {},
   "outputs": [
    {
     "data": {
      "text/plain": [
       "[['[', 'The', 'Tragedie', 'of', 'Macbeth', 'by', 'William', 'Shakespeare', '1603', ']'], ['Actus', 'Primus', '.'], ...]"
      ]
     },
     "execution_count": 15,
     "metadata": {},
     "output_type": "execute_result"
    }
   ],
   "source": [
    "gutenberg.sents(\"shakespeare-macbeth.txt\")"
   ]
  },
  {
   "cell_type": "code",
   "execution_count": null,
   "metadata": {},
   "outputs": [],
   "source": []
  },
  {
   "cell_type": "code",
   "execution_count": null,
   "metadata": {},
   "outputs": [],
   "source": []
  },
  {
   "cell_type": "code",
   "execution_count": null,
   "metadata": {},
   "outputs": [],
   "source": []
  },
  {
   "cell_type": "markdown",
   "metadata": {},
   "source": []
  },
  {
   "cell_type": "markdown",
   "metadata": {},
   "source": []
  },
  {
   "cell_type": "markdown",
   "metadata": {},
   "source": []
  }
 ],
 "metadata": {
  "kernelspec": {
   "display_name": "Python 3",
   "language": "python",
   "name": "python3"
  },
  "language_info": {
   "codemirror_mode": {
    "name": "ipython",
    "version": 3
   },
   "file_extension": ".py",
   "mimetype": "text/x-python",
   "name": "python",
   "nbconvert_exporter": "python",
   "pygments_lexer": "ipython3",
   "version": "3.6.5"
  },
  "toc": {
   "base_numbering": 1,
   "nav_menu": {},
   "number_sections": true,
   "sideBar": true,
   "skip_h1_title": false,
   "title_cell": "Table of Contents",
   "title_sidebar": "Contents",
   "toc_cell": false,
   "toc_position": {},
   "toc_section_display": true,
   "toc_window_display": false
  }
 },
 "nbformat": 4,
 "nbformat_minor": 2
}
