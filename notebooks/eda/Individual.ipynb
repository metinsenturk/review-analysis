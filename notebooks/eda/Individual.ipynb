{
 "cells": [
  {
   "cell_type": "code",
   "execution_count": 200,
   "metadata": {},
   "outputs": [],
   "source": [
    "import datetime\n",
    "import numpy as np\n",
    "import pandas as pd\n",
    "import matplotlib.pyplot as plt"
   ]
  },
  {
   "cell_type": "code",
   "execution_count": 5,
   "metadata": {},
   "outputs": [],
   "source": [
    "# commented are not in the list :/\n",
    "conditions=[\n",
    "    'kimos-maui-lahaina',\n",
    "    'sunnyside-tahoe-city-2',\n",
    "    'dukes-huntington-beach-huntington-beach-2',\n",
    "    # 'dukes-la-jolla-la-jolla',\n",
    "    # 'dukes-malibu-malibu-2',\n",
    "    'dukes-beach-house-lahaina',\n",
    "    # 'dukes-kauai-lihue-3',\n",
    "    # 'dukes-waikiki-honolulu-2',\n",
    "    # 'hula-grill-waikiki-honolulu-3',\n",
    "    'hula-grill-kaanapali-lahaina-2',\n",
    "    # 'keokis-paradise-koloa',\n",
    "    'leilanis-lahaina-2'\n",
    "]"
   ]
  },
  {
   "cell_type": "markdown",
   "metadata": {},
   "source": [
    "## Ratings Data"
   ]
  },
  {
   "cell_type": "code",
   "execution_count": 208,
   "metadata": {},
   "outputs": [
    {
     "data": {
      "text/plain": [
       "array(['kimos-maui-lahaina', 'lahaina-fish-lahaina', 'blu-maui-lahaina',\n",
       "       ..., 'kualapuu-cookhouse-kualapuu', 'okina-adventures-kula-3',\n",
       "       'hoapili-trail-wailea'], dtype=object)"
      ]
     },
     "execution_count": 208,
     "metadata": {},
     "output_type": "execute_result"
    }
   ],
   "source": [
    "file_path1 =  \"../../data/processed/hi_rws_0001_0256_complete.csv\"\n",
    "dataset1 = pd.read_csv(file_path1) \n",
    "dataset1.alias.unique()"
   ]
  },
  {
   "cell_type": "code",
   "execution_count": 283,
   "metadata": {},
   "outputs": [],
   "source": [
    "df = dataset1.loc[dataset1.alias == 'leilanis-lahaina-2']"
   ]
  },
  {
   "cell_type": "code",
   "execution_count": 285,
   "metadata": {},
   "outputs": [],
   "source": [
    "df.loc[:, ['dataPublished']] = df.dataPublished.apply( lambda x: pd.to_datetime(x))\n",
    "df.loc[:, 'rating_high'] = df.ratingValue >= 4\n",
    "df.loc[:, 'rating_low'] = df.ratingValue <= 2"
   ]
  },
  {
   "cell_type": "code",
   "execution_count": 286,
   "metadata": {},
   "outputs": [
    {
     "data": {
      "text/plain": [
       "Timestamp('2019-01-15 00:00:00')"
      ]
     },
     "execution_count": 286,
     "metadata": {},
     "output_type": "execute_result"
    }
   ],
   "source": [
    "df.dataPublished.iloc[0]"
   ]
  },
  {
   "cell_type": "code",
   "execution_count": 287,
   "metadata": {},
   "outputs": [
    {
     "data": {
      "text/html": [
       "<div>\n",
       "<style scoped>\n",
       "    .dataframe tbody tr th:only-of-type {\n",
       "        vertical-align: middle;\n",
       "    }\n",
       "\n",
       "    .dataframe tbody tr th {\n",
       "        vertical-align: top;\n",
       "    }\n",
       "\n",
       "    .dataframe thead th {\n",
       "        text-align: right;\n",
       "    }\n",
       "</style>\n",
       "<table border=\"1\" class=\"dataframe\">\n",
       "  <thead>\n",
       "    <tr style=\"text-align: right;\">\n",
       "      <th></th>\n",
       "      <th>alias</th>\n",
       "      <th>ratingValue</th>\n",
       "      <th>dataPublished</th>\n",
       "      <th>description</th>\n",
       "      <th>author</th>\n",
       "      <th>sentiment</th>\n",
       "      <th>word_count</th>\n",
       "      <th>sent_count</th>\n",
       "      <th>chr_count</th>\n",
       "      <th>avg_word_len</th>\n",
       "      <th>...</th>\n",
       "      <th>word_tokens_doc</th>\n",
       "      <th>norm_tokens_doc</th>\n",
       "      <th>word_tokens</th>\n",
       "      <th>norm_tokens</th>\n",
       "      <th>sent_topics</th>\n",
       "      <th>topic_mode</th>\n",
       "      <th>topic_list</th>\n",
       "      <th>svm_classifier</th>\n",
       "      <th>rating_high</th>\n",
       "      <th>rating_low</th>\n",
       "    </tr>\n",
       "  </thead>\n",
       "  <tbody>\n",
       "    <tr>\n",
       "      <th>52944</th>\n",
       "      <td>leilanis-lahaina-2</td>\n",
       "      <td>5</td>\n",
       "      <td>2019-01-15</td>\n",
       "      <td>Amazing! First of all, they were VERY accommod...</td>\n",
       "      <td>Sara H.</td>\n",
       "      <td>1</td>\n",
       "      <td>64</td>\n",
       "      <td>6</td>\n",
       "      <td>309</td>\n",
       "      <td>4.000000</td>\n",
       "      <td>...</td>\n",
       "      <td>[('Amazing', '!'), ('First', 'of', 'all', ',',...</td>\n",
       "      <td>[('amaz',), ('first', 'accommod', 'dairi', 'ce...</td>\n",
       "      <td>['Amazing', '!', 'First', 'of', 'all', ',', 't...</td>\n",
       "      <td>['amaz', 'first', 'accommod', 'dairi', 'celiac...</td>\n",
       "      <td>[(5, 0.17131929099559784), (6, 0.1524756103754...</td>\n",
       "      <td>5</td>\n",
       "      <td>5,6,5,5,5,5</td>\n",
       "      <td>1</td>\n",
       "      <td>True</td>\n",
       "      <td>False</td>\n",
       "    </tr>\n",
       "    <tr>\n",
       "      <th>52945</th>\n",
       "      <td>leilanis-lahaina-2</td>\n",
       "      <td>5</td>\n",
       "      <td>2019-01-14</td>\n",
       "      <td>So good! Worth the splurge! Butte stout was de...</td>\n",
       "      <td>Jennifer K.</td>\n",
       "      <td>1</td>\n",
       "      <td>94</td>\n",
       "      <td>11</td>\n",
       "      <td>414</td>\n",
       "      <td>3.542553</td>\n",
       "      <td>...</td>\n",
       "      <td>[('So', 'good', '!'), ('Worth', 'the', 'splurg...</td>\n",
       "      <td>[('good',), ('worth', 'splurg'), ('butt', 'sto...</td>\n",
       "      <td>['So', 'good', '!', 'Worth', 'the', 'splurge',...</td>\n",
       "      <td>['good', 'worth', 'splurg', 'butt', 'stout', '...</td>\n",
       "      <td>[(5, 0.17131929099559784), (5, 0.1962578296661...</td>\n",
       "      <td>5</td>\n",
       "      <td>5,5,5,5,5,5,5,1,5,5,5</td>\n",
       "      <td>1</td>\n",
       "      <td>True</td>\n",
       "      <td>False</td>\n",
       "    </tr>\n",
       "  </tbody>\n",
       "</table>\n",
       "<p>2 rows × 32 columns</p>\n",
       "</div>"
      ],
      "text/plain": [
       "                    alias  ratingValue dataPublished  \\\n",
       "52944  leilanis-lahaina-2            5    2019-01-15   \n",
       "52945  leilanis-lahaina-2            5    2019-01-14   \n",
       "\n",
       "                                             description       author  \\\n",
       "52944  Amazing! First of all, they were VERY accommod...      Sara H.   \n",
       "52945  So good! Worth the splurge! Butte stout was de...  Jennifer K.   \n",
       "\n",
       "       sentiment  word_count  sent_count  chr_count  avg_word_len     ...      \\\n",
       "52944          1          64           6        309      4.000000     ...       \n",
       "52945          1          94          11        414      3.542553     ...       \n",
       "\n",
       "                                         word_tokens_doc  \\\n",
       "52944  [('Amazing', '!'), ('First', 'of', 'all', ',',...   \n",
       "52945  [('So', 'good', '!'), ('Worth', 'the', 'splurg...   \n",
       "\n",
       "                                         norm_tokens_doc  \\\n",
       "52944  [('amaz',), ('first', 'accommod', 'dairi', 'ce...   \n",
       "52945  [('good',), ('worth', 'splurg'), ('butt', 'sto...   \n",
       "\n",
       "                                             word_tokens  \\\n",
       "52944  ['Amazing', '!', 'First', 'of', 'all', ',', 't...   \n",
       "52945  ['So', 'good', '!', 'Worth', 'the', 'splurge',...   \n",
       "\n",
       "                                             norm_tokens  \\\n",
       "52944  ['amaz', 'first', 'accommod', 'dairi', 'celiac...   \n",
       "52945  ['good', 'worth', 'splurg', 'butt', 'stout', '...   \n",
       "\n",
       "                                             sent_topics  topic_mode  \\\n",
       "52944  [(5, 0.17131929099559784), (6, 0.1524756103754...           5   \n",
       "52945  [(5, 0.17131929099559784), (5, 0.1962578296661...           5   \n",
       "\n",
       "                  topic_list  svm_classifier  rating_high  rating_low  \n",
       "52944            5,6,5,5,5,5               1         True       False  \n",
       "52945  5,5,5,5,5,5,5,1,5,5,5               1         True       False  \n",
       "\n",
       "[2 rows x 32 columns]"
      ]
     },
     "execution_count": 287,
     "metadata": {},
     "output_type": "execute_result"
    }
   ],
   "source": [
    "df = df[df.dataPublished > datetime.datetime(2018, 6, 1)]\n",
    "df.head(2)"
   ]
  },
  {
   "cell_type": "markdown",
   "metadata": {},
   "source": [
    "### Time Based Rating Positive / Negative Reviews"
   ]
  },
  {
   "cell_type": "code",
   "execution_count": 399,
   "metadata": {},
   "outputs": [],
   "source": [
    "df_g = df\\\n",
    "    .groupby(pd.Grouper(key=\"dataPublished\", freq=\"W\"))\\\n",
    "    .sum()\\\n",
    "    .loc[:, ['rating_high', 'rating_low']]"
   ]
  },
  {
   "cell_type": "code",
   "execution_count": 400,
   "metadata": {},
   "outputs": [],
   "source": [
    "def normalize(x, series):\n",
    "    min_value = min(series)\n",
    "    max_value = max(series)\n",
    "    \n",
    "    return (x - min_value) / max_value\n",
    "\n",
    "df_g['rating_high_n'] = df_g.rating_high.apply(lambda x: normalize(x, df_g.rating_high))\n",
    "df_g['rating_low_n'] = df_g.rating_low.apply(lambda x: normalize(x, df_g.rating_low))"
   ]
  },
  {
   "cell_type": "code",
   "execution_count": 401,
   "metadata": {},
   "outputs": [],
   "source": [
    "df_g['%_nn'] = df_g.rating_low / (df_g.rating_high + df_g.rating_low) * 100 * (df_g.rating_low_n)\n",
    "df_g['%_n'] = df_g.rating_low / (df_g.rating_high + df_g.rating_low) * 100\n",
    "df_g['%_pn'] = df_g.rating_high / (df_g.rating_high + df_g.rating_low) * 100 * (df_g.rating_high_n)\n",
    "df_g['%_p'] = df_g.rating_high / (df_g.rating_high + df_g.rating_low) * 100"
   ]
  },
  {
   "cell_type": "code",
   "execution_count": 407,
   "metadata": {},
   "outputs": [
    {
     "data": {
      "text/html": [
       "<div>\n",
       "<style scoped>\n",
       "    .dataframe tbody tr th:only-of-type {\n",
       "        vertical-align: middle;\n",
       "    }\n",
       "\n",
       "    .dataframe tbody tr th {\n",
       "        vertical-align: top;\n",
       "    }\n",
       "\n",
       "    .dataframe thead th {\n",
       "        text-align: right;\n",
       "    }\n",
       "</style>\n",
       "<table border=\"1\" class=\"dataframe\">\n",
       "  <thead>\n",
       "    <tr style=\"text-align: right;\">\n",
       "      <th></th>\n",
       "      <th>rating_high</th>\n",
       "      <th>rating_low</th>\n",
       "      <th>rating_high_n</th>\n",
       "      <th>rating_low_n</th>\n",
       "      <th>%_nn</th>\n",
       "      <th>%_n</th>\n",
       "      <th>%_pn</th>\n",
       "      <th>%_p</th>\n",
       "    </tr>\n",
       "    <tr>\n",
       "      <th>dataPublished</th>\n",
       "      <th></th>\n",
       "      <th></th>\n",
       "      <th></th>\n",
       "      <th></th>\n",
       "      <th></th>\n",
       "      <th></th>\n",
       "      <th></th>\n",
       "      <th></th>\n",
       "    </tr>\n",
       "  </thead>\n",
       "  <tbody>\n",
       "    <tr>\n",
       "      <th>2018-12-09</th>\n",
       "      <td>1.0</td>\n",
       "      <td>0.0</td>\n",
       "      <td>0.000000</td>\n",
       "      <td>0.0</td>\n",
       "      <td>0.0</td>\n",
       "      <td>0.0</td>\n",
       "      <td>0.000000</td>\n",
       "      <td>100.0</td>\n",
       "    </tr>\n",
       "    <tr>\n",
       "      <th>2018-09-02</th>\n",
       "      <td>3.0</td>\n",
       "      <td>2.0</td>\n",
       "      <td>0.153846</td>\n",
       "      <td>0.5</td>\n",
       "      <td>20.0</td>\n",
       "      <td>40.0</td>\n",
       "      <td>9.230769</td>\n",
       "      <td>60.0</td>\n",
       "    </tr>\n",
       "    <tr>\n",
       "      <th>2018-10-14</th>\n",
       "      <td>3.0</td>\n",
       "      <td>2.0</td>\n",
       "      <td>0.153846</td>\n",
       "      <td>0.5</td>\n",
       "      <td>20.0</td>\n",
       "      <td>40.0</td>\n",
       "      <td>9.230769</td>\n",
       "      <td>60.0</td>\n",
       "    </tr>\n",
       "  </tbody>\n",
       "</table>\n",
       "</div>"
      ],
      "text/plain": [
       "               rating_high  rating_low  rating_high_n  rating_low_n  %_nn  \\\n",
       "dataPublished                                                               \n",
       "2018-12-09             1.0         0.0       0.000000           0.0   0.0   \n",
       "2018-09-02             3.0         2.0       0.153846           0.5  20.0   \n",
       "2018-10-14             3.0         2.0       0.153846           0.5  20.0   \n",
       "\n",
       "                %_n      %_pn    %_p  \n",
       "dataPublished                         \n",
       "2018-12-09      0.0  0.000000  100.0  \n",
       "2018-09-02     40.0  9.230769   60.0  \n",
       "2018-10-14     40.0  9.230769   60.0  "
      ]
     },
     "execution_count": 407,
     "metadata": {},
     "output_type": "execute_result"
    }
   ],
   "source": [
    "df_g.sample(3)"
   ]
  },
  {
   "cell_type": "code",
   "execution_count": 408,
   "metadata": {},
   "outputs": [
    {
     "data": {
      "text/plain": [
       "<matplotlib.axes._subplots.AxesSubplot at 0x12527c860>"
      ]
     },
     "execution_count": 408,
     "metadata": {},
     "output_type": "execute_result"
    },
    {
     "data": {
      "image/png": "[encoded data removed]",
      "text/plain": [
       "<Figure size 432x288 with 1 Axes>"
      ]
     },
     "metadata": {
      "needs_background": "light"
     },
     "output_type": "display_data"
    }
   ],
   "source": [
    "df_g.loc[:, ['rating_high', 'rating_low']].plot.bar()"
   ]
  },
  {
   "cell_type": "code",
   "execution_count": 409,
   "metadata": {},
   "outputs": [
    {
     "data": {
      "text/plain": [
       "<matplotlib.axes._subplots.AxesSubplot at 0x12542ac50>"
      ]
     },
     "execution_count": 409,
     "metadata": {},
     "output_type": "execute_result"
    },
    {
     "data": {
      "image/png": "[encoded data removed]",
      "text/plain": [
       "<Figure size 432x288 with 1 Axes>"
      ]
     },
     "metadata": {
      "needs_background": "light"
     },
     "output_type": "display_data"
    }
   ],
   "source": [
    "df_g.loc[:, ['%_n', '%_nn']].plot()"
   ]
  },
  {
   "cell_type": "code",
   "execution_count": 410,
   "metadata": {},
   "outputs": [
    {
     "data": {
      "text/plain": [
       "<matplotlib.axes._subplots.AxesSubplot at 0x12542a908>"
      ]
     },
     "execution_count": 410,
     "metadata": {},
     "output_type": "execute_result"
    },
    {
     "data": {
      "image/png": "[encoded data removed]",
      "text/plain": [
       "<Figure size 432x288 with 1 Axes>"
      ]
     },
     "metadata": {
      "needs_background": "light"
     },
     "output_type": "display_data"
    }
   ],
   "source": [
    "df_g.loc[:, ['%_p', '%_pn']].plot()"
   ]
  },
  {
   "cell_type": "markdown",
   "metadata": {},
   "source": [
    "## Topics Data"
   ]
  },
  {
   "cell_type": "code",
   "execution_count": 411,
   "metadata": {},
   "outputs": [
    {
     "data": {
      "text/html": [
       "<div>\n",
       "<style scoped>\n",
       "    .dataframe tbody tr th:only-of-type {\n",
       "        vertical-align: middle;\n",
       "    }\n",
       "\n",
       "    .dataframe tbody tr th {\n",
       "        vertical-align: top;\n",
       "    }\n",
       "\n",
       "    .dataframe thead th {\n",
       "        text-align: right;\n",
       "    }\n",
       "</style>\n",
       "<table border=\"1\" class=\"dataframe\">\n",
       "  <thead>\n",
       "    <tr style=\"text-align: right;\">\n",
       "      <th></th>\n",
       "      <th>alias</th>\n",
       "      <th>ratingValue</th>\n",
       "      <th>dataPublished</th>\n",
       "      <th>description</th>\n",
       "      <th>author</th>\n",
       "      <th>sentiment</th>\n",
       "      <th>word_count</th>\n",
       "      <th>sent_count</th>\n",
       "      <th>chr_count</th>\n",
       "      <th>avg_word_len</th>\n",
       "      <th>...</th>\n",
       "      <th>word_tokens_doc</th>\n",
       "      <th>norm_tokens_doc</th>\n",
       "      <th>word_tokens</th>\n",
       "      <th>norm_tokens</th>\n",
       "      <th>sent_topics</th>\n",
       "      <th>topic_mode</th>\n",
       "      <th>topic_list</th>\n",
       "      <th>svm_classifier</th>\n",
       "      <th>rating_high</th>\n",
       "      <th>rating_low</th>\n",
       "    </tr>\n",
       "  </thead>\n",
       "  <tbody>\n",
       "    <tr>\n",
       "      <th>52944</th>\n",
       "      <td>leilanis-lahaina-2</td>\n",
       "      <td>5</td>\n",
       "      <td>2019-01-15</td>\n",
       "      <td>Amazing! First of all, they were VERY accommod...</td>\n",
       "      <td>Sara H.</td>\n",
       "      <td>1</td>\n",
       "      <td>64</td>\n",
       "      <td>6</td>\n",
       "      <td>309</td>\n",
       "      <td>4.000000</td>\n",
       "      <td>...</td>\n",
       "      <td>[('Amazing', '!'), ('First', 'of', 'all', ',',...</td>\n",
       "      <td>[('amaz',), ('first', 'accommod', 'dairi', 'ce...</td>\n",
       "      <td>['Amazing', '!', 'First', 'of', 'all', ',', 't...</td>\n",
       "      <td>['amaz', 'first', 'accommod', 'dairi', 'celiac...</td>\n",
       "      <td>[(5, 0.17131929099559784), (6, 0.1524756103754...</td>\n",
       "      <td>5</td>\n",
       "      <td>5,6,5,5,5,5</td>\n",
       "      <td>1</td>\n",
       "      <td>True</td>\n",
       "      <td>False</td>\n",
       "    </tr>\n",
       "    <tr>\n",
       "      <th>52945</th>\n",
       "      <td>leilanis-lahaina-2</td>\n",
       "      <td>5</td>\n",
       "      <td>2019-01-14</td>\n",
       "      <td>So good! Worth the splurge! Butte stout was de...</td>\n",
       "      <td>Jennifer K.</td>\n",
       "      <td>1</td>\n",
       "      <td>94</td>\n",
       "      <td>11</td>\n",
       "      <td>414</td>\n",
       "      <td>3.542553</td>\n",
       "      <td>...</td>\n",
       "      <td>[('So', 'good', '!'), ('Worth', 'the', 'splurg...</td>\n",
       "      <td>[('good',), ('worth', 'splurg'), ('butt', 'sto...</td>\n",
       "      <td>['So', 'good', '!', 'Worth', 'the', 'splurge',...</td>\n",
       "      <td>['good', 'worth', 'splurg', 'butt', 'stout', '...</td>\n",
       "      <td>[(5, 0.17131929099559784), (5, 0.1962578296661...</td>\n",
       "      <td>5</td>\n",
       "      <td>5,5,5,5,5,5,5,1,5,5,5</td>\n",
       "      <td>1</td>\n",
       "      <td>True</td>\n",
       "      <td>False</td>\n",
       "    </tr>\n",
       "  </tbody>\n",
       "</table>\n",
       "<p>2 rows × 32 columns</p>\n",
       "</div>"
      ],
      "text/plain": [
       "                    alias  ratingValue dataPublished  \\\n",
       "52944  leilanis-lahaina-2            5    2019-01-15   \n",
       "52945  leilanis-lahaina-2            5    2019-01-14   \n",
       "\n",
       "                                             description       author  \\\n",
       "52944  Amazing! First of all, they were VERY accommod...      Sara H.   \n",
       "52945  So good! Worth the splurge! Butte stout was de...  Jennifer K.   \n",
       "\n",
       "       sentiment  word_count  sent_count  chr_count  avg_word_len     ...      \\\n",
       "52944          1          64           6        309      4.000000     ...       \n",
       "52945          1          94          11        414      3.542553     ...       \n",
       "\n",
       "                                         word_tokens_doc  \\\n",
       "52944  [('Amazing', '!'), ('First', 'of', 'all', ',',...   \n",
       "52945  [('So', 'good', '!'), ('Worth', 'the', 'splurg...   \n",
       "\n",
       "                                         norm_tokens_doc  \\\n",
       "52944  [('amaz',), ('first', 'accommod', 'dairi', 'ce...   \n",
       "52945  [('good',), ('worth', 'splurg'), ('butt', 'sto...   \n",
       "\n",
       "                                             word_tokens  \\\n",
       "52944  ['Amazing', '!', 'First', 'of', 'all', ',', 't...   \n",
       "52945  ['So', 'good', '!', 'Worth', 'the', 'splurge',...   \n",
       "\n",
       "                                             norm_tokens  \\\n",
       "52944  ['amaz', 'first', 'accommod', 'dairi', 'celiac...   \n",
       "52945  ['good', 'worth', 'splurg', 'butt', 'stout', '...   \n",
       "\n",
       "                                             sent_topics  topic_mode  \\\n",
       "52944  [(5, 0.17131929099559784), (6, 0.1524756103754...           5   \n",
       "52945  [(5, 0.17131929099559784), (5, 0.1962578296661...           5   \n",
       "\n",
       "                  topic_list  svm_classifier  rating_high  rating_low  \n",
       "52944            5,6,5,5,5,5               1         True       False  \n",
       "52945  5,5,5,5,5,5,5,1,5,5,5               1         True       False  \n",
       "\n",
       "[2 rows x 32 columns]"
      ]
     },
     "execution_count": 411,
     "metadata": {},
     "output_type": "execute_result"
    }
   ],
   "source": [
    "df.head(2)"
   ]
  },
  {
   "cell_type": "code",
   "execution_count": 414,
   "metadata": {},
   "outputs": [
    {
     "data": {
      "text/plain": [
       "<matplotlib.axes._subplots.AxesSubplot at 0x1258699e8>"
      ]
     },
     "execution_count": 414,
     "metadata": {},
     "output_type": "execute_result"
    },
    {
     "data": {
      "image/png": "[encoded data removed]",
      "text/plain": [
       "<Figure size 432x288 with 1 Axes>"
      ]
     },
     "metadata": {
      "needs_background": "light"
     },
     "output_type": "display_data"
    }
   ],
   "source": [
    "df.pivot_table(index='dataPublished', columns='topic_mode', aggfunc='size')\\\n",
    "    .reset_index()\\\n",
    "    .groupby(pd.Grouper(key=\"dataPublished\", freq=\"W\"))\\\n",
    "    .sum()\\\n",
    "    .plot\\\n",
    "    .bar()"
   ]
  },
  {
   "cell_type": "markdown",
   "metadata": {},
   "source": [
    "### Some Reviews"
   ]
  },
  {
   "cell_type": "code",
   "execution_count": 413,
   "metadata": {},
   "outputs": [
    {
     "data": {
      "text/html": [
       "<div>\n",
       "<style scoped>\n",
       "    .dataframe tbody tr th:only-of-type {\n",
       "        vertical-align: middle;\n",
       "    }\n",
       "\n",
       "    .dataframe tbody tr th {\n",
       "        vertical-align: top;\n",
       "    }\n",
       "\n",
       "    .dataframe thead th {\n",
       "        text-align: right;\n",
       "    }\n",
       "</style>\n",
       "<table border=\"1\" class=\"dataframe\">\n",
       "  <thead>\n",
       "    <tr style=\"text-align: right;\">\n",
       "      <th></th>\n",
       "      <th>description</th>\n",
       "      <th>ratingValue</th>\n",
       "      <th>svm_classifier</th>\n",
       "    </tr>\n",
       "  </thead>\n",
       "  <tbody>\n",
       "    <tr>\n",
       "      <th>53169</th>\n",
       "      <td>We've eaten at Leilani's several times during ...</td>\n",
       "      <td>2</td>\n",
       "      <td>1</td>\n",
       "    </tr>\n",
       "    <tr>\n",
       "      <th>53086</th>\n",
       "      <td>Came here for our last dinner on Maui and we'r...</td>\n",
       "      <td>5</td>\n",
       "      <td>1</td>\n",
       "    </tr>\n",
       "    <tr>\n",
       "      <th>53039</th>\n",
       "      <td>Hawaiian chain type restaurant with pretty dec...</td>\n",
       "      <td>4</td>\n",
       "      <td>1</td>\n",
       "    </tr>\n",
       "  </tbody>\n",
       "</table>\n",
       "</div>"
      ],
      "text/plain": [
       "                                             description  ratingValue  \\\n",
       "53169  We've eaten at Leilani's several times during ...            2   \n",
       "53086  Came here for our last dinner on Maui and we'r...            5   \n",
       "53039  Hawaiian chain type restaurant with pretty dec...            4   \n",
       "\n",
       "       svm_classifier  \n",
       "53169               1  \n",
       "53086               1  \n",
       "53039               1  "
      ]
     },
     "execution_count": 413,
     "metadata": {},
     "output_type": "execute_result"
    }
   ],
   "source": [
    "df.loc[(df.topic_mode == 5) & df.svm_classifier, ['description', 'ratingValue', 'svm_classifier']].sample(3)"
   ]
  },
  {
   "cell_type": "code",
   "execution_count": null,
   "metadata": {},
   "outputs": [],
   "source": []
  },
  {
   "cell_type": "code",
   "execution_count": null,
   "metadata": {},
   "outputs": [],
   "source": []
  }
 ],
 "metadata": {
  "kernelspec": {
   "display_name": "Python 3",
   "language": "python",
   "name": "python3"
  },
  "language_info": {
   "codemirror_mode": {
    "name": "ipython",
    "version": 3
   },
   "file_extension": ".py",
   "mimetype": "text/x-python",
   "name": "python",
   "nbconvert_exporter": "python",
   "pygments_lexer": "ipython3",
   "version": "3.7.1"
  }
 },
 "nbformat": 4,
 "nbformat_minor": 2
}
