{
 "cells": [
  {
   "cell_type": "markdown",
   "metadata": {},
   "source": [
    "## HI business list"
   ]
  },
  {
   "cell_type": "code",
   "execution_count": 29,
   "metadata": {},
   "outputs": [],
   "source": [
    "hi_business_list = []\n",
    "with open('../../data/raw/hi_competitors.csv', 'r') as f:\n",
    "    hi_business_list.extend(f.readlines())\n",
    "hi_business_list = [i.split('\\n')[0] for i in hi_business_list]"
   ]
  },
  {
   "cell_type": "markdown",
   "metadata": {},
   "source": [
    "## Reviews"
   ]
  },
  {
   "cell_type": "code",
   "execution_count": 50,
   "metadata": {},
   "outputs": [
    {
     "name": "stdout",
     "output_type": "stream",
     "text": [
      "<class 'pandas.core.frame.DataFrame'>\n",
      "RangeIndex: 454043 entries, 0 to 454042\n",
      "Data columns (total 30 columns):\n",
      "alias               454043 non-null object\n",
      "ratingValue         454043 non-null int64\n",
      "dataPublished       454043 non-null object\n",
      "description         454043 non-null object\n",
      "author              454043 non-null object\n",
      "sentiment           454043 non-null int64\n",
      "word_count          454043 non-null int64\n",
      "sent_count          454043 non-null int64\n",
      "chr_count           454043 non-null int64\n",
      "avg_word_len        454043 non-null float64\n",
      "avg_sent_len        454043 non-null float64\n",
      "num_of_stopwords    454043 non-null int64\n",
      "num_of_modals       454043 non-null int64\n",
      "hashtags            454043 non-null int64\n",
      "mentions            454043 non-null int64\n",
      "numerics            454043 non-null int64\n",
      "uppercase_cnt       454043 non-null int64\n",
      "punctuation_cnt     454043 non-null int64\n",
      "vocab_cnt           454043 non-null int64\n",
      "ratio_lexical       454043 non-null float64\n",
      "ratio_content       454043 non-null float64\n",
      "sent_tokens         454043 non-null object\n",
      "word_tokens_doc     454043 non-null object\n",
      "norm_tokens_doc     454043 non-null object\n",
      "word_tokens         454043 non-null object\n",
      "norm_tokens         454043 non-null object\n",
      "sent_topics         454043 non-null object\n",
      "topic_mode          454043 non-null int64\n",
      "topic_list          454043 non-null object\n",
      "svm_classifier      454043 non-null int64\n",
      "dtypes: float64(4), int64(15), object(11)\n",
      "memory usage: 103.9+ MB\n"
     ]
    }
   ],
   "source": [
    "import numpy as np\n",
    "import pandas as pd\n",
    "import matplotlib.pyplot as plt\n",
    "\n",
    "file_path = \"../../data/processed/yp_competitors_rws_0001_0256_complete.csv\"\n",
    "df = pd.read_csv(file_path) \n",
    "df.info()"
   ]
  },
  {
   "cell_type": "code",
   "execution_count": 4,
   "metadata": {},
   "outputs": [
    {
     "data": {
      "text/html": [
       "<div>\n",
       "<style scoped>\n",
       "    .dataframe tbody tr th:only-of-type {\n",
       "        vertical-align: middle;\n",
       "    }\n",
       "\n",
       "    .dataframe tbody tr th {\n",
       "        vertical-align: top;\n",
       "    }\n",
       "\n",
       "    .dataframe thead th {\n",
       "        text-align: right;\n",
       "    }\n",
       "</style>\n",
       "<table border=\"1\" class=\"dataframe\">\n",
       "  <thead>\n",
       "    <tr style=\"text-align: right;\">\n",
       "      <th></th>\n",
       "      <th>sent_tokens</th>\n",
       "      <th>word_tokens_doc</th>\n",
       "      <th>norm_tokens_doc</th>\n",
       "      <th>word_tokens</th>\n",
       "      <th>norm_tokens</th>\n",
       "    </tr>\n",
       "  </thead>\n",
       "  <tbody>\n",
       "    <tr>\n",
       "      <th>0</th>\n",
       "      <td>[I stumbled across this great restaurant overl...</td>\n",
       "      <td>[(I, stumbled, across, this, great, restaurant...</td>\n",
       "      <td>[(stumbl, across, great, restaur, overlook, oc...</td>\n",
       "      <td>[I, stumbled, across, this, great, restaurant,...</td>\n",
       "      <td>[stumbl, across, great, restaur, overlook, oce...</td>\n",
       "    </tr>\n",
       "    <tr>\n",
       "      <th>1</th>\n",
       "      <td>[Excellent view on the ocean at sunset., Excel...</td>\n",
       "      <td>[(Excellent, view, on, the, ocean, at, sunset,...</td>\n",
       "      <td>[(excel, view, ocean, sunset), (excel, food), ...</td>\n",
       "      <td>[Excellent, view, on, the, ocean, at, sunset, ...</td>\n",
       "      <td>[excel, view, ocean, sunset, excel, food, fres...</td>\n",
       "    </tr>\n",
       "    <tr>\n",
       "      <th>2</th>\n",
       "      <td>[This place was not what the reviews portrayed...</td>\n",
       "      <td>[(This, place, was, not, what, the, reviews, p...</td>\n",
       "      <td>[(place, review, portray), (starter, walk, sta...</td>\n",
       "      <td>[This, place, was, not, what, the, reviews, po...</td>\n",
       "      <td>[place, review, portray, starter, walk, stair,...</td>\n",
       "    </tr>\n",
       "    <tr>\n",
       "      <th>3</th>\n",
       "      <td>[We were excited to repeat our Keoki's (in Kau...</td>\n",
       "      <td>[(We, were, excited, to, repeat, our, Keoki, '...</td>\n",
       "      <td>[(excit, repeat, keoki, 's, kauai, lovefest, s...</td>\n",
       "      <td>[We, were, excited, to, repeat, our, Keoki, 's...</td>\n",
       "      <td>[excit, repeat, keoki, 's, kauai, lovefest, si...</td>\n",
       "    </tr>\n",
       "    <tr>\n",
       "      <th>4</th>\n",
       "      <td>[If you're looking for a tourist spot, this is...</td>\n",
       "      <td>[(If, you, 're, looking, for, a, tourist, spot...</td>\n",
       "      <td>[('re, look, tourist, spot), (unfortun, could,...</td>\n",
       "      <td>[If, you, 're, looking, for, a, tourist, spot,...</td>\n",
       "      <td>['re, look, tourist, spot, unfortun, could, n'...</td>\n",
       "    </tr>\n",
       "    <tr>\n",
       "      <th>5</th>\n",
       "      <td>[What an amazing restaurant, especially the vi...</td>\n",
       "      <td>[(What, an, amazing, restaurant, ,, especially...</td>\n",
       "      <td>[(amaz, restaur, especi, view, dinner), (dine,...</td>\n",
       "      <td>[What, an, amazing, restaurant, ,, especially,...</td>\n",
       "      <td>[amaz, restaur, especi, view, dinner, dine, wa...</td>\n",
       "    </tr>\n",
       "  </tbody>\n",
       "</table>\n",
       "</div>"
      ],
      "text/plain": [
       "                                         sent_tokens  \\\n",
       "0  [I stumbled across this great restaurant overl...   \n",
       "1  [Excellent view on the ocean at sunset., Excel...   \n",
       "2  [This place was not what the reviews portrayed...   \n",
       "3  [We were excited to repeat our Keoki's (in Kau...   \n",
       "4  [If you're looking for a tourist spot, this is...   \n",
       "5  [What an amazing restaurant, especially the vi...   \n",
       "\n",
       "                                     word_tokens_doc  \\\n",
       "0  [(I, stumbled, across, this, great, restaurant...   \n",
       "1  [(Excellent, view, on, the, ocean, at, sunset,...   \n",
       "2  [(This, place, was, not, what, the, reviews, p...   \n",
       "3  [(We, were, excited, to, repeat, our, Keoki, '...   \n",
       "4  [(If, you, 're, looking, for, a, tourist, spot...   \n",
       "5  [(What, an, amazing, restaurant, ,, especially...   \n",
       "\n",
       "                                     norm_tokens_doc  \\\n",
       "0  [(stumbl, across, great, restaur, overlook, oc...   \n",
       "1  [(excel, view, ocean, sunset), (excel, food), ...   \n",
       "2  [(place, review, portray), (starter, walk, sta...   \n",
       "3  [(excit, repeat, keoki, 's, kauai, lovefest, s...   \n",
       "4  [('re, look, tourist, spot), (unfortun, could,...   \n",
       "5  [(amaz, restaur, especi, view, dinner), (dine,...   \n",
       "\n",
       "                                         word_tokens  \\\n",
       "0  [I, stumbled, across, this, great, restaurant,...   \n",
       "1  [Excellent, view, on, the, ocean, at, sunset, ...   \n",
       "2  [This, place, was, not, what, the, reviews, po...   \n",
       "3  [We, were, excited, to, repeat, our, Keoki, 's...   \n",
       "4  [If, you, 're, looking, for, a, tourist, spot,...   \n",
       "5  [What, an, amazing, restaurant, ,, especially,...   \n",
       "\n",
       "                                         norm_tokens  \n",
       "0  [stumbl, across, great, restaur, overlook, oce...  \n",
       "1  [excel, view, ocean, sunset, excel, food, fres...  \n",
       "2  [place, review, portray, starter, walk, stair,...  \n",
       "3  [excit, repeat, keoki, 's, kauai, lovefest, si...  \n",
       "4  ['re, look, tourist, spot, unfortun, could, n'...  \n",
       "5  [amaz, restaur, especi, view, dinner, dine, wa...  "
      ]
     },
     "execution_count": 4,
     "metadata": {},
     "output_type": "execute_result"
    }
   ],
   "source": [
    "# fix column type error\n",
    "from ast import literal_eval\n",
    "\n",
    "fix_columns_list = ['sent_tokens', 'word_tokens_doc', 'norm_tokens_doc', 'word_tokens', 'norm_tokens']\n",
    "for column in fix_columns_list:\n",
    "    df[column] = df[column].apply(lambda x: literal_eval(x))\n",
    "df.loc[:5, fix_columns_list]"
   ]
  },
  {
   "cell_type": "code",
   "execution_count": 49,
   "metadata": {},
   "outputs": [
    {
     "data": {
      "text/plain": [
       "195769"
      ]
     },
     "execution_count": 49,
     "metadata": {},
     "output_type": "execute_result"
    }
   ],
   "source": [
    "df_hi = df[df.alias.isin(hi_business_list)]\n",
    "len(df_hi)"
   ]
  },
  {
   "cell_type": "code",
   "execution_count": 27,
   "metadata": {},
   "outputs": [],
   "source": [
    "df_hi.to_csv('../../data/processed/hi_rws_0001_0256_complete.csv', index=False)"
   ]
  },
  {
   "cell_type": "markdown",
   "metadata": {},
   "source": [
    "## Businesses"
   ]
  },
  {
   "cell_type": "code",
   "execution_count": 28,
   "metadata": {},
   "outputs": [
    {
     "name": "stdout",
     "output_type": "stream",
     "text": [
      "<class 'pandas.core.frame.DataFrame'>\n",
      "RangeIndex: 2547 entries, 0 to 2546\n",
      "Data columns (total 56 columns):\n",
      "alias                       2547 non-null object\n",
      "display_phone               2138 non-null object\n",
      "dist_to_alias               2547 non-null object\n",
      "distance                    2547 non-null float64\n",
      "id                          2547 non-null object\n",
      "image_url                   2442 non-null object\n",
      "is_closed                   2547 non-null bool\n",
      "name                        2547 non-null object\n",
      "phone                       2138 non-null float64\n",
      "price                       1760 non-null object\n",
      "rating                      2547 non-null float64\n",
      "review_count                2547 non-null int64\n",
      "transactions                224 non-null object\n",
      "url                         2547 non-null object\n",
      "category_alias              2547 non-null object\n",
      "category_title              2547 non-null object\n",
      "coordinate_latitude         2547 non-null float64\n",
      "coordinate_longitude        2547 non-null float64\n",
      "location_address1           2401 non-null object\n",
      "location_address2           483 non-null object\n",
      "location_address3           179 non-null object\n",
      "location_city               2547 non-null object\n",
      "location_zip_code           2521 non-null float64\n",
      "location_country            2547 non-null object\n",
      "location_state              2547 non-null object\n",
      "location_display_address    2547 non-null object\n",
      "avg_words_in_sents          2547 non-null float64\n",
      "num_of_modals               2547 non-null int64\n",
      "num_of_punctuation          2547 non-null int64\n",
      "num_of_sents                2547 non-null int64\n",
      "num_of_vocab                2547 non-null int64\n",
      "num_of_words                2547 non-null int64\n",
      "rating_avg                  2547 non-null float64\n",
      "rating_sum                  2547 non-null int64\n",
      "ratio_content               2547 non-null float64\n",
      "ratio_lexical               2547 non-null float64\n",
      "num_of_reviews              2547 non-null int64\n",
      "Cnt_Day_Mon                 2547 non-null float64\n",
      "Cnt_Day_Tue                 2547 non-null float64\n",
      "Cnt_Day_Wed                 2547 non-null float64\n",
      "Cnt_Day_Thu                 2547 non-null float64\n",
      "Cnt_Day_Fri                 2547 non-null float64\n",
      "Cnt_Day_Sat                 2547 non-null float64\n",
      "Cnt_Day_Sun                 2547 non-null float64\n",
      "Cnt_Mon_Jan                 2547 non-null float64\n",
      "Cnt_Mon_Feb                 2547 non-null float64\n",
      "Cnt_Mon_Mar                 2547 non-null float64\n",
      "Cnt_Mon_Apr                 2547 non-null float64\n",
      "Cnt_Mon_May                 2547 non-null float64\n",
      "Cnt_Mon_Jun                 2547 non-null float64\n",
      "Cnt_Mon_Jul                 2547 non-null float64\n",
      "Cnt_Mon_Aug                 2547 non-null float64\n",
      "Cnt_Mon_Sep                 2547 non-null float64\n",
      "Cnt_Mon_Oct                 2547 non-null float64\n",
      "Cnt_Mon_Nov                 2547 non-null float64\n",
      "Cnt_Mon_Dec                 2547 non-null float64\n",
      "dtypes: bool(1), float64(29), int64(8), object(18)\n",
      "memory usage: 1.1+ MB\n"
     ]
    }
   ],
   "source": [
    "df2 = pd.read_csv('../../data/raw/yp_competitors.csv')\n",
    "df2.info()"
   ]
  },
  {
   "cell_type": "code",
   "execution_count": 43,
   "metadata": {},
   "outputs": [],
   "source": [
    "df_hi_b = df2[df2.alias.isin(hi_business_list)]"
   ]
  },
  {
   "cell_type": "code",
   "execution_count": 44,
   "metadata": {},
   "outputs": [
    {
     "data": {
      "text/plain": [
       "1023"
      ]
     },
     "execution_count": 44,
     "metadata": {},
     "output_type": "execute_result"
    }
   ],
   "source": [
    "len(df_hi_b)"
   ]
  },
  {
   "cell_type": "code",
   "execution_count": 46,
   "metadata": {},
   "outputs": [
    {
     "data": {
      "text/plain": [
       "197944"
      ]
     },
     "execution_count": 46,
     "metadata": {},
     "output_type": "execute_result"
    }
   ],
   "source": [
    "df_hi_b.review_count.sum()"
   ]
  },
  {
   "cell_type": "code",
   "execution_count": 47,
   "metadata": {},
   "outputs": [],
   "source": [
    "df2.to_csv('../../data/raw/hi_businesses.csv', index=False)"
   ]
  },
  {
   "cell_type": "code",
   "execution_count": null,
   "metadata": {},
   "outputs": [],
   "source": []
  }
 ],
 "metadata": {
  "kernelspec": {
   "display_name": "Python 3",
   "language": "python",
   "name": "python3"
  },
  "language_info": {
   "codemirror_mode": {
    "name": "ipython",
    "version": 3
   },
   "file_extension": ".py",
   "mimetype": "text/x-python",
   "name": "python",
   "nbconvert_exporter": "python",
   "pygments_lexer": "ipython3",
   "version": "3.7.1"
  }
 },
 "nbformat": 4,
 "nbformat_minor": 2
}
