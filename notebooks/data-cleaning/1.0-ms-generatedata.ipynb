{
 "cells": [
  {
   "cell_type": "code",
   "execution_count": 2,
   "metadata": {},
   "outputs": [],
   "source": [
    "import pandas as pd"
   ]
  },
  {
   "cell_type": "code",
   "execution_count": 31,
   "metadata": {},
   "outputs": [],
   "source": [
    "df = pd.DataFrame()\n",
    "df = df.append([\n",
    "    {'status': 0, 'reviews': \"It started out really good.  Crab cakes were ok, beet salad ok even though I had no idea what the cheese was and then after 45 minutes, cold entree.  But you know how it is.  You wait so long and then it's cold like the runner took his 15 minute break and forgot about you but your starving so you eat it anyways. That's how it was for me.\"},\n",
    "    {'status': 1, 'reviews': \"A very enjoyable meal in a wonderful setting.  Food was good but not great and staff attentiveness wasn't 5-star, but did the trick to make the evening a success.\"},\n",
    "    {'status': 1, 'reviews': \"3.5 stars. We chose this restaurant for our final night on Maui. Nice ambiance and good food but a little pricey. We started by splitting the Maui Fresh salad - a large enough portion that we each had a good taste of it. Husband had the sirloin - 7 ounces (as opposed to the 14 oz Filet Mignon) - it was very good. I had the grilled vegetable platter, but ordered it without mushrooms (which I believe is one of the features of the dish). An interesting assortment of veggies - squash, broccolini (kind of tough and ended up leaving it), red and golden beets, and arancini (a breaded rice/cheese ball), all over herb chimicurri. Oh, and some curly kale that was melt in your mouth good. We finished off with a huge slice of yummy Hula Pie, something I have wanted to try the entire time I've been in Hawaii. We've been trying Mai Tais all week and while Leilani's scored high on presentation, they were weak on taste and alcohol content. Nice place to enjoy our last night in Hawaii.\"},\n",
    "    {'status': 1, 'reviews': \"The location and ambiance is simply the best!  We had the fish tacos and they were amazing. A beautiful place to watch the sunset at dinner.\"},\n",
    "    {'status': 1, 'reviews': \"If you're looking for a tourist spot, this is it. Unfortunately I couldn't tell that from other reviews. \"}\n",
    "], \n",
    "    ignore_index=True)"
   ]
  },
  {
   "cell_type": "code",
   "execution_count": 32,
   "metadata": {},
   "outputs": [
    {
     "data": {
      "text/html": [
       "<div>\n",
       "<style scoped>\n",
       "    .dataframe tbody tr th:only-of-type {\n",
       "        vertical-align: middle;\n",
       "    }\n",
       "\n",
       "    .dataframe tbody tr th {\n",
       "        vertical-align: top;\n",
       "    }\n",
       "\n",
       "    .dataframe thead th {\n",
       "        text-align: right;\n",
       "    }\n",
       "</style>\n",
       "<table border=\"1\" class=\"dataframe\">\n",
       "  <thead>\n",
       "    <tr style=\"text-align: right;\">\n",
       "      <th></th>\n",
       "      <th>reviews</th>\n",
       "      <th>status</th>\n",
       "    </tr>\n",
       "  </thead>\n",
       "  <tbody>\n",
       "    <tr>\n",
       "      <th>0</th>\n",
       "      <td>It started out really good.  Crab cakes were o...</td>\n",
       "      <td>0</td>\n",
       "    </tr>\n",
       "    <tr>\n",
       "      <th>1</th>\n",
       "      <td>A very enjoyable meal in a wonderful setting. ...</td>\n",
       "      <td>1</td>\n",
       "    </tr>\n",
       "    <tr>\n",
       "      <th>2</th>\n",
       "      <td>3.5 stars. We chose this restaurant for our fi...</td>\n",
       "      <td>1</td>\n",
       "    </tr>\n",
       "    <tr>\n",
       "      <th>3</th>\n",
       "      <td>The location and ambiance is simply the best! ...</td>\n",
       "      <td>1</td>\n",
       "    </tr>\n",
       "  </tbody>\n",
       "</table>\n",
       "</div>"
      ],
      "text/plain": [
       "                                             reviews  status\n",
       "0  It started out really good.  Crab cakes were o...       0\n",
       "1  A very enjoyable meal in a wonderful setting. ...       1\n",
       "2  3.5 stars. We chose this restaurant for our fi...       1\n",
       "3  The location and ambiance is simply the best! ...       1"
      ]
     },
     "execution_count": 32,
     "metadata": {},
     "output_type": "execute_result"
    }
   ],
   "source": [
    "df.head()"
   ]
  },
  {
   "cell_type": "code",
   "execution_count": 33,
   "metadata": {},
   "outputs": [],
   "source": [
    "df.to_csv('../../data/test/reviews.csv')"
   ]
  },
  {
   "cell_type": "code",
   "execution_count": 38,
   "metadata": {},
   "outputs": [
    {
     "data": {
      "text/html": [
       "<div>\n",
       "<style scoped>\n",
       "    .dataframe tbody tr th:only-of-type {\n",
       "        vertical-align: middle;\n",
       "    }\n",
       "\n",
       "    .dataframe tbody tr th {\n",
       "        vertical-align: top;\n",
       "    }\n",
       "\n",
       "    .dataframe thead th {\n",
       "        text-align: right;\n",
       "    }\n",
       "</style>\n",
       "<table border=\"1\" class=\"dataframe\">\n",
       "  <thead>\n",
       "    <tr style=\"text-align: right;\">\n",
       "      <th></th>\n",
       "      <th>status</th>\n",
       "      <th>reviews</th>\n",
       "    </tr>\n",
       "  </thead>\n",
       "  <tbody>\n",
       "    <tr>\n",
       "      <th>0</th>\n",
       "      <td>1</td>\n",
       "      <td>Kimo's never disappoints.  We come here once o...</td>\n",
       "    </tr>\n",
       "    <tr>\n",
       "      <th>1</th>\n",
       "      <td>0</td>\n",
       "      <td>I was there the first week of October and Firs...</td>\n",
       "    </tr>\n",
       "    <tr>\n",
       "      <th>2</th>\n",
       "      <td>1</td>\n",
       "      <td>This place was on my \"Must Do Maui\" list and i...</td>\n",
       "    </tr>\n",
       "    <tr>\n",
       "      <th>3</th>\n",
       "      <td>0</td>\n",
       "      <td>Monday night dinner here and they quickly sat ...</td>\n",
       "    </tr>\n",
       "    <tr>\n",
       "      <th>4</th>\n",
       "      <td>1</td>\n",
       "      <td>Nice view and amazing cocktails. They are loca...</td>\n",
       "    </tr>\n",
       "  </tbody>\n",
       "</table>\n",
       "</div>"
      ],
      "text/plain": [
       "   status                                            reviews\n",
       "0       1  Kimo's never disappoints.  We come here once o...\n",
       "1       0  I was there the first week of October and Firs...\n",
       "2       1  This place was on my \"Must Do Maui\" list and i...\n",
       "3       0  Monday night dinner here and they quickly sat ...\n",
       "4       1  Nice view and amazing cocktails. They are loca..."
      ]
     },
     "execution_count": 38,
     "metadata": {},
     "output_type": "execute_result"
    }
   ],
   "source": [
    "# df\n",
    "dataset1 = pd.read_csv('../../data/processed/dataset1.csv')\n",
    "dataset2 = pd.read_csv('../../data/processed/dataset2.csv')\n",
    "dataset1.head()"
   ]
  },
  {
   "cell_type": "code",
   "execution_count": 39,
   "metadata": {},
   "outputs": [
    {
     "data": {
      "text/html": [
       "<div>\n",
       "<style scoped>\n",
       "    .dataframe tbody tr th:only-of-type {\n",
       "        vertical-align: middle;\n",
       "    }\n",
       "\n",
       "    .dataframe tbody tr th {\n",
       "        vertical-align: top;\n",
       "    }\n",
       "\n",
       "    .dataframe thead th {\n",
       "        text-align: right;\n",
       "    }\n",
       "</style>\n",
       "<table border=\"1\" class=\"dataframe\">\n",
       "  <thead>\n",
       "    <tr style=\"text-align: right;\">\n",
       "      <th></th>\n",
       "      <th>status</th>\n",
       "      <th>reviews</th>\n",
       "    </tr>\n",
       "  </thead>\n",
       "  <tbody>\n",
       "    <tr>\n",
       "      <th>0</th>\n",
       "      <td>1</td>\n",
       "      <td>disappoint everi trip maui servic food upstair...</td>\n",
       "    </tr>\n",
       "    <tr>\n",
       "      <th>1</th>\n",
       "      <td>0</td>\n",
       "      <td>first week octob first staff wonder drink tast...</td>\n",
       "    </tr>\n",
       "    <tr>\n",
       "      <th>2</th>\n",
       "      <td>1</td>\n",
       "      <td>list disappoint reserv celebr honeymoon prime ...</td>\n",
       "    </tr>\n",
       "    <tr>\n",
       "      <th>3</th>\n",
       "      <td>0</td>\n",
       "      <td>monday night dinner quickli group upstair coup...</td>\n",
       "    </tr>\n",
       "    <tr>\n",
       "      <th>4</th>\n",
       "      <td>1</td>\n",
       "      <td>nice amaz cocktail locat lahaina downtown area...</td>\n",
       "    </tr>\n",
       "  </tbody>\n",
       "</table>\n",
       "</div>"
      ],
      "text/plain": [
       "   status                                            reviews\n",
       "0       1  disappoint everi trip maui servic food upstair...\n",
       "1       0  first week octob first staff wonder drink tast...\n",
       "2       1  list disappoint reserv celebr honeymoon prime ...\n",
       "3       0  monday night dinner quickli group upstair coup...\n",
       "4       1  nice amaz cocktail locat lahaina downtown area..."
      ]
     },
     "execution_count": 39,
     "metadata": {},
     "output_type": "execute_result"
    }
   ],
   "source": [
    "dataset2.head()"
   ]
  },
  {
   "cell_type": "code",
   "execution_count": null,
   "metadata": {},
   "outputs": [],
   "source": []
  }
 ],
 "metadata": {
  "kernelspec": {
   "display_name": "Python 3",
   "language": "python",
   "name": "python3"
  },
  "language_info": {
   "codemirror_mode": {
    "name": "ipython",
    "version": 3
   },
   "file_extension": ".py",
   "mimetype": "text/x-python",
   "name": "python",
   "nbconvert_exporter": "python",
   "pygments_lexer": "ipython3",
   "version": "3.6.5"
  }
 },
 "nbformat": 4,
 "nbformat_minor": 2
}
