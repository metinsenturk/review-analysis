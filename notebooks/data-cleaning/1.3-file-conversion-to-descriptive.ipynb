{
 "cells": [
  {
   "cell_type": "code",
   "execution_count": 3,
   "metadata": {},
   "outputs": [],
   "source": [
    "import numpy as np\n",
    "import pandas as pd\n",
    "\n",
    "file_path = \"../../data/processed/hi_rws_0001_0256_complete.csv\"\n",
    "df1 = pd.read_csv(file_path)"
   ]
  },
  {
   "cell_type": "code",
   "execution_count": 4,
   "metadata": {},
   "outputs": [],
   "source": [
    "df1 = df1.drop(['sent_tokens', 'word_tokens', 'norm_tokens', 'sent_topics'], axis=1)\n",
    "df1 = df1.drop(['word_tokens_doc', 'norm_tokens_doc'], axis=1)\n",
    "df1 = df1.drop(['topic_mode', 'topic_list', 'svm_classifier'], axis=1)"
   ]
  },
  {
   "cell_type": "code",
   "execution_count": 5,
   "metadata": {},
   "outputs": [
    {
     "name": "stdout",
     "output_type": "stream",
     "text": [
      "<class 'pandas.core.frame.DataFrame'>\n",
      "RangeIndex: 195769 entries, 0 to 195768\n",
      "Data columns (total 21 columns):\n",
      "alias               195769 non-null object\n",
      "ratingValue         195769 non-null int64\n",
      "dataPublished       195769 non-null object\n",
      "description         195769 non-null object\n",
      "author              195769 non-null object\n",
      "sentiment           195769 non-null int64\n",
      "word_count          195769 non-null int64\n",
      "sent_count          195769 non-null int64\n",
      "chr_count           195769 non-null int64\n",
      "avg_word_len        195769 non-null float64\n",
      "avg_sent_len        195769 non-null float64\n",
      "num_of_stopwords    195769 non-null int64\n",
      "num_of_modals       195769 non-null int64\n",
      "hashtags            195769 non-null int64\n",
      "mentions            195769 non-null int64\n",
      "numerics            195769 non-null int64\n",
      "uppercase_cnt       195769 non-null int64\n",
      "punctuation_cnt     195769 non-null int64\n",
      "vocab_cnt           195769 non-null int64\n",
      "ratio_lexical       195769 non-null float64\n",
      "ratio_content       195769 non-null float64\n",
      "dtypes: float64(4), int64(13), object(4)\n",
      "memory usage: 31.4+ MB\n"
     ]
    }
   ],
   "source": [
    "df1.info()"
   ]
  },
  {
   "cell_type": "code",
   "execution_count": 7,
   "metadata": {},
   "outputs": [],
   "source": [
    "df1.to_csv('../../data/processed/hi_rws_0001_0256_descriptive.csv', index=False)"
   ]
  }
 ],
 "metadata": {
  "kernelspec": {
   "display_name": "Python 3",
   "language": "python",
   "name": "python3"
  },
  "language_info": {
   "codemirror_mode": {
    "name": "ipython",
    "version": 3
   },
   "file_extension": ".py",
   "mimetype": "text/x-python",
   "name": "python",
   "nbconvert_exporter": "python",
   "pygments_lexer": "ipython3",
   "version": "3.7.1"
  }
 },
 "nbformat": 4,
 "nbformat_minor": 2
}
