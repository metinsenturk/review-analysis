{
 "cells": [
  {
   "cell_type": "code",
   "execution_count": 1,
   "metadata": {},
   "outputs": [],
   "source": [
    "import pandas as pd\n",
    "from pandas.io.json import json_normalize\n",
    "import json"
   ]
  },
  {
   "cell_type": "code",
   "execution_count": 8,
   "metadata": {},
   "outputs": [
    {
     "data": {
      "text/html": [
       "<div>\n",
       "<style scoped>\n",
       "    .dataframe tbody tr th:only-of-type {\n",
       "        vertical-align: middle;\n",
       "    }\n",
       "\n",
       "    .dataframe tbody tr th {\n",
       "        vertical-align: top;\n",
       "    }\n",
       "\n",
       "    .dataframe thead th {\n",
       "        text-align: right;\n",
       "    }\n",
       "</style>\n",
       "<table border=\"1\" class=\"dataframe\">\n",
       "  <thead>\n",
       "    <tr style=\"text-align: right;\">\n",
       "      <th></th>\n",
       "      <th>author</th>\n",
       "      <th>datePublished</th>\n",
       "      <th>description</th>\n",
       "      <th>ratingValue</th>\n",
       "    </tr>\n",
       "  </thead>\n",
       "  <tbody>\n",
       "    <tr>\n",
       "      <th>0</th>\n",
       "      <td>Giorgio C.</td>\n",
       "      <td>2018-10-13</td>\n",
       "      <td>Try good service, beach front so a bit loud. M...</td>\n",
       "      <td>4</td>\n",
       "    </tr>\n",
       "    <tr>\n",
       "      <th>1</th>\n",
       "      <td>Maxx C.</td>\n",
       "      <td>2018-10-05</td>\n",
       "      <td>When we arrived they gave us a choice of eatin...</td>\n",
       "      <td>5</td>\n",
       "    </tr>\n",
       "    <tr>\n",
       "      <th>2</th>\n",
       "      <td>Al D.</td>\n",
       "      <td>2018-10-04</td>\n",
       "      <td>Stopped in here on a Tuesday evening around 8p...</td>\n",
       "      <td>4</td>\n",
       "    </tr>\n",
       "    <tr>\n",
       "      <th>3</th>\n",
       "      <td>Zachary D.</td>\n",
       "      <td>2018-09-29</td>\n",
       "      <td>Hawaiian chain type restaurant with pretty dec...</td>\n",
       "      <td>4</td>\n",
       "    </tr>\n",
       "    <tr>\n",
       "      <th>4</th>\n",
       "      <td>Chilly P.</td>\n",
       "      <td>2018-07-10</td>\n",
       "      <td>Oh my. Where do I even begin...\\n\\nLet's start...</td>\n",
       "      <td>1</td>\n",
       "    </tr>\n",
       "  </tbody>\n",
       "</table>\n",
       "</div>"
      ],
      "text/plain": [
       "       author datePublished  \\\n",
       "0  Giorgio C.    2018-10-13   \n",
       "1     Maxx C.    2018-10-05   \n",
       "2       Al D.    2018-10-04   \n",
       "3  Zachary D.    2018-09-29   \n",
       "4   Chilly P.    2018-07-10   \n",
       "\n",
       "                                         description  ratingValue  \n",
       "0  Try good service, beach front so a bit loud. M...            4  \n",
       "1  When we arrived they gave us a choice of eatin...            5  \n",
       "2  Stopped in here on a Tuesday evening around 8p...            4  \n",
       "3  Hawaiian chain type restaurant with pretty dec...            4  \n",
       "4  Oh my. Where do I even begin...\\n\\nLet's start...            1  "
      ]
     },
     "execution_count": 8,
     "metadata": {},
     "output_type": "execute_result"
    }
   ],
   "source": [
    "# data imports\n",
    "json_data = {}\n",
    "\n",
    "with open('../../data/raw/yp_leilanis-lahaina-2_rws.json') as f:\n",
    "    json_data = json.loads(f.read())\n",
    "\n",
    "dataset = json_normalize(json_data['reviews'])\n",
    "dataset.head()"
   ]
  },
  {
   "cell_type": "code",
   "execution_count": 10,
   "metadata": {},
   "outputs": [
    {
     "data": {
      "text/html": [
       "<div>\n",
       "<style scoped>\n",
       "    .dataframe tbody tr th:only-of-type {\n",
       "        vertical-align: middle;\n",
       "    }\n",
       "\n",
       "    .dataframe tbody tr th {\n",
       "        vertical-align: top;\n",
       "    }\n",
       "\n",
       "    .dataframe thead th {\n",
       "        text-align: right;\n",
       "    }\n",
       "</style>\n",
       "<table border=\"1\" class=\"dataframe\">\n",
       "  <thead>\n",
       "    <tr style=\"text-align: right;\">\n",
       "      <th></th>\n",
       "      <th>status</th>\n",
       "      <th>reviews</th>\n",
       "    </tr>\n",
       "  </thead>\n",
       "  <tbody>\n",
       "    <tr>\n",
       "      <th>0</th>\n",
       "      <td>1</td>\n",
       "      <td>Try good service, beach front so a bit loud. M...</td>\n",
       "    </tr>\n",
       "    <tr>\n",
       "      <th>1</th>\n",
       "      <td>1</td>\n",
       "      <td>When we arrived they gave us a choice of eatin...</td>\n",
       "    </tr>\n",
       "    <tr>\n",
       "      <th>2</th>\n",
       "      <td>1</td>\n",
       "      <td>Stopped in here on a Tuesday evening around 8p...</td>\n",
       "    </tr>\n",
       "    <tr>\n",
       "      <th>3</th>\n",
       "      <td>1</td>\n",
       "      <td>Hawaiian chain type restaurant with pretty dec...</td>\n",
       "    </tr>\n",
       "    <tr>\n",
       "      <th>4</th>\n",
       "      <td>0</td>\n",
       "      <td>Oh my. Where do I even begin...\\n\\nLet's start...</td>\n",
       "    </tr>\n",
       "  </tbody>\n",
       "</table>\n",
       "</div>"
      ],
      "text/plain": [
       "   status                                            reviews\n",
       "0       1  Try good service, beach front so a bit loud. M...\n",
       "1       1  When we arrived they gave us a choice of eatin...\n",
       "2       1  Stopped in here on a Tuesday evening around 8p...\n",
       "3       1  Hawaiian chain type restaurant with pretty dec...\n",
       "4       0  Oh my. Where do I even begin...\\n\\nLet's start..."
      ]
     },
     "execution_count": 10,
     "metadata": {},
     "output_type": "execute_result"
    }
   ],
   "source": [
    "dataset_new = pd.DataFrame()\n",
    "\n",
    "dataset_new['status'] = dataset.iloc[:, 3].apply(lambda x: 1 if x > 3 else 0)\n",
    "dataset_new['reviews'] = dataset.iloc[:,2].values\n",
    "\n",
    "dataset_new.to_csv('../../data/processed/yp_leilanis-lahaina-2_rws.csv', index=False)\n",
    "dataset_new.head()"
   ]
  },
  {
   "cell_type": "code",
   "execution_count": null,
   "metadata": {},
   "outputs": [],
   "source": []
  }
 ],
 "metadata": {
  "kernelspec": {
   "display_name": "Python 3",
   "language": "python",
   "name": "python3"
  },
  "language_info": {
   "codemirror_mode": {
    "name": "ipython",
    "version": 3
   },
   "file_extension": ".py",
   "mimetype": "text/x-python",
   "name": "python",
   "nbconvert_exporter": "python",
   "pygments_lexer": "ipython3",
   "version": "3.6.5"
  }
 },
 "nbformat": 4,
 "nbformat_minor": 2
}
