{
 "cells": [
  {
   "cell_type": "markdown",
   "metadata": {},
   "source": [
    "## Importing Data"
   ]
  },
  {
   "cell_type": "code",
   "execution_count": 97,
   "metadata": {},
   "outputs": [
    {
     "name": "stdout",
     "output_type": "stream",
     "text": [
      "<class 'pandas.core.frame.DataFrame'>\n",
      "Int64Index: 19020 entries, 0 to 19019\n",
      "Data columns (total 26 columns):\n",
      "alias               19020 non-null object\n",
      "ratingValue         19020 non-null int64\n",
      "dataPublished       19020 non-null object\n",
      "description         19020 non-null object\n",
      "author              19020 non-null object\n",
      "sentiment           19020 non-null int64\n",
      "word_count          19020 non-null int64\n",
      "sent_count          19020 non-null int64\n",
      "chr_count           19020 non-null int64\n",
      "avg_word_len        19020 non-null float64\n",
      "avg_sent_len        19020 non-null float64\n",
      "num_of_stopwords    19020 non-null int64\n",
      "num_of_modals       19020 non-null int64\n",
      "hashtags            19020 non-null int64\n",
      "mentions            19020 non-null int64\n",
      "numerics            19020 non-null int64\n",
      "uppercase_cnt       19020 non-null int64\n",
      "punctuation_cnt     19020 non-null int64\n",
      "vocab_cnt           19020 non-null int64\n",
      "ratio_lexical       19020 non-null float64\n",
      "ratio_content       19020 non-null float64\n",
      "sent_tokens         19020 non-null object\n",
      "word_tokens_doc     19020 non-null object\n",
      "norm_tokens_doc     19020 non-null object\n",
      "word_tokens         19020 non-null object\n",
      "norm_tokens         19020 non-null object\n",
      "dtypes: float64(4), int64(13), object(9)\n",
      "memory usage: 3.9+ MB\n"
     ]
    }
   ],
   "source": [
    "import numpy as np\n",
    "import pandas as pd\n",
    "df1 = pd.read_csv('../../data/processed/yp_competitors_rws_0001_0050_basicfeatures.csv')\n",
    "df2 = pd.read_csv('../../data/processed/yp_competitors_rws_0001_0050_textfeatures.csv')\n",
    "df = df1.merge(df2, on=['alias', 'ratingValue', 'dataPublished', 'description', 'author'])\n",
    "df.info()"
   ]
  },
  {
   "cell_type": "code",
   "execution_count": 98,
   "metadata": {},
   "outputs": [],
   "source": [
    "# import fixes\n",
    "from itertools import chain\n",
    "import ast\n",
    "# csv list fix with : ast\n",
    "df.sent_tokens = df.sent_tokens.apply(lambda x: ast.literal_eval(x))\n",
    "\n",
    "df.word_tokens_doc = df.word_tokens_doc.apply(lambda x: ast.literal_eval(x))\n",
    "df.norm_tokens_doc = df.norm_tokens_doc.apply(lambda x: ast.literal_eval(x))\n",
    "df.word_tokens = df.word_tokens.apply(lambda x: ast.literal_eval(x))\n",
    "df.norm_tokens = df.norm_tokens.apply(lambda x: ast.literal_eval(x))"
   ]
  },
  {
   "cell_type": "code",
   "execution_count": 99,
   "metadata": {},
   "outputs": [
    {
     "data": {
      "text/html": [
       "<div>\n",
       "<style scoped>\n",
       "    .dataframe tbody tr th:only-of-type {\n",
       "        vertical-align: middle;\n",
       "    }\n",
       "\n",
       "    .dataframe tbody tr th {\n",
       "        vertical-align: top;\n",
       "    }\n",
       "\n",
       "    .dataframe thead th {\n",
       "        text-align: right;\n",
       "    }\n",
       "</style>\n",
       "<table border=\"1\" class=\"dataframe\">\n",
       "  <thead>\n",
       "    <tr style=\"text-align: right;\">\n",
       "      <th></th>\n",
       "      <th>sent_tokens</th>\n",
       "      <th>word_tokens_doc</th>\n",
       "      <th>norm_tokens_doc</th>\n",
       "    </tr>\n",
       "  </thead>\n",
       "  <tbody>\n",
       "    <tr>\n",
       "      <th>0</th>\n",
       "      <td>[I stumbled across this great restaurant overl...</td>\n",
       "      <td>[(I, stumbled, across, this, great, restaurant...</td>\n",
       "      <td>[(stumbl, across, great, restaur, overlook, oc...</td>\n",
       "    </tr>\n",
       "    <tr>\n",
       "      <th>1</th>\n",
       "      <td>[Excellent view on the ocean at sunset., Excel...</td>\n",
       "      <td>[(Excellent, view, on, the, ocean, at, sunset,...</td>\n",
       "      <td>[(excel, view, ocean, sunset), (excel, food), ...</td>\n",
       "    </tr>\n",
       "    <tr>\n",
       "      <th>2</th>\n",
       "      <td>[This place was not what the reviews portrayed...</td>\n",
       "      <td>[(This, place, was, not, what, the, reviews, p...</td>\n",
       "      <td>[(place, review, portray), (starter, walk, sta...</td>\n",
       "    </tr>\n",
       "    <tr>\n",
       "      <th>3</th>\n",
       "      <td>[We were excited to repeat our Keoki's (in Kau...</td>\n",
       "      <td>[(We, were, excited, to, repeat, our, Keoki, '...</td>\n",
       "      <td>[(excit, repeat, keoki, 's, kauai, lovefest, s...</td>\n",
       "    </tr>\n",
       "    <tr>\n",
       "      <th>4</th>\n",
       "      <td>[If you're looking for a tourist spot, this is...</td>\n",
       "      <td>[(If, you, 're, looking, for, a, tourist, spot...</td>\n",
       "      <td>[('re, look, tourist, spot), (unfortun, could,...</td>\n",
       "    </tr>\n",
       "  </tbody>\n",
       "</table>\n",
       "</div>"
      ],
      "text/plain": [
       "                                         sent_tokens  \\\n",
       "0  [I stumbled across this great restaurant overl...   \n",
       "1  [Excellent view on the ocean at sunset., Excel...   \n",
       "2  [This place was not what the reviews portrayed...   \n",
       "3  [We were excited to repeat our Keoki's (in Kau...   \n",
       "4  [If you're looking for a tourist spot, this is...   \n",
       "\n",
       "                                     word_tokens_doc  \\\n",
       "0  [(I, stumbled, across, this, great, restaurant...   \n",
       "1  [(Excellent, view, on, the, ocean, at, sunset,...   \n",
       "2  [(This, place, was, not, what, the, reviews, p...   \n",
       "3  [(We, were, excited, to, repeat, our, Keoki, '...   \n",
       "4  [(If, you, 're, looking, for, a, tourist, spot...   \n",
       "\n",
       "                                     norm_tokens_doc  \n",
       "0  [(stumbl, across, great, restaur, overlook, oc...  \n",
       "1  [(excel, view, ocean, sunset), (excel, food), ...  \n",
       "2  [(place, review, portray), (starter, walk, sta...  \n",
       "3  [(excit, repeat, keoki, 's, kauai, lovefest, s...  \n",
       "4  [('re, look, tourist, spot), (unfortun, could,...  "
      ]
     },
     "execution_count": 99,
     "metadata": {},
     "output_type": "execute_result"
    }
   ],
   "source": [
    "df.loc[:, ['sent_tokens', 'word_tokens_doc', 'norm_tokens_doc']].head()"
   ]
  },
  {
   "cell_type": "code",
   "execution_count": 100,
   "metadata": {},
   "outputs": [
    {
     "data": {
      "text/html": [
       "<div>\n",
       "<style scoped>\n",
       "    .dataframe tbody tr th:only-of-type {\n",
       "        vertical-align: middle;\n",
       "    }\n",
       "\n",
       "    .dataframe tbody tr th {\n",
       "        vertical-align: top;\n",
       "    }\n",
       "\n",
       "    .dataframe thead th {\n",
       "        text-align: right;\n",
       "    }\n",
       "</style>\n",
       "<table border=\"1\" class=\"dataframe\">\n",
       "  <thead>\n",
       "    <tr style=\"text-align: right;\">\n",
       "      <th></th>\n",
       "      <th>alias</th>\n",
       "      <th>ratingValue</th>\n",
       "      <th>dataPublished</th>\n",
       "      <th>description</th>\n",
       "      <th>author</th>\n",
       "      <th>sentiment</th>\n",
       "      <th>word_count</th>\n",
       "      <th>sent_count</th>\n",
       "      <th>chr_count</th>\n",
       "      <th>avg_word_len</th>\n",
       "      <th>...</th>\n",
       "      <th>uppercase_cnt</th>\n",
       "      <th>punctuation_cnt</th>\n",
       "      <th>vocab_cnt</th>\n",
       "      <th>ratio_lexical</th>\n",
       "      <th>ratio_content</th>\n",
       "      <th>sent_tokens</th>\n",
       "      <th>word_tokens_doc</th>\n",
       "      <th>norm_tokens_doc</th>\n",
       "      <th>word_tokens</th>\n",
       "      <th>norm_tokens</th>\n",
       "    </tr>\n",
       "  </thead>\n",
       "  <tbody>\n",
       "    <tr>\n",
       "      <th>0</th>\n",
       "      <td>kimos-maui-lahaina</td>\n",
       "      <td>5</td>\n",
       "      <td>2019-01-06</td>\n",
       "      <td>I stumbled across this great restaurant overlo...</td>\n",
       "      <td>Bella L.</td>\n",
       "      <td>1</td>\n",
       "      <td>135</td>\n",
       "      <td>11</td>\n",
       "      <td>664</td>\n",
       "      <td>4.022222</td>\n",
       "      <td>...</td>\n",
       "      <td>10</td>\n",
       "      <td>17</td>\n",
       "      <td>76</td>\n",
       "      <td>0.637037</td>\n",
       "      <td>0.674074</td>\n",
       "      <td>[I stumbled across this great restaurant overl...</td>\n",
       "      <td>[(I, stumbled, across, this, great, restaurant...</td>\n",
       "      <td>[(stumbl, across, great, restaur, overlook, oc...</td>\n",
       "      <td>[I, stumbled, across, this, great, restaurant,...</td>\n",
       "      <td>[stumbl, across, great, restaur, overlook, oce...</td>\n",
       "    </tr>\n",
       "    <tr>\n",
       "      <th>1</th>\n",
       "      <td>kimos-maui-lahaina</td>\n",
       "      <td>5</td>\n",
       "      <td>2019-01-04</td>\n",
       "      <td>Excellent view on the ocean at sunset.\\nExcell...</td>\n",
       "      <td>Rachou A.</td>\n",
       "      <td>1</td>\n",
       "      <td>36</td>\n",
       "      <td>5</td>\n",
       "      <td>160</td>\n",
       "      <td>3.611111</td>\n",
       "      <td>...</td>\n",
       "      <td>0</td>\n",
       "      <td>6</td>\n",
       "      <td>25</td>\n",
       "      <td>0.777778</td>\n",
       "      <td>0.638889</td>\n",
       "      <td>[Excellent view on the ocean at sunset., Excel...</td>\n",
       "      <td>[(Excellent, view, on, the, ocean, at, sunset,...</td>\n",
       "      <td>[(excel, view, ocean, sunset), (excel, food), ...</td>\n",
       "      <td>[Excellent, view, on, the, ocean, at, sunset, ...</td>\n",
       "      <td>[excel, view, ocean, sunset, excel, food, fres...</td>\n",
       "    </tr>\n",
       "    <tr>\n",
       "      <th>2</th>\n",
       "      <td>kimos-maui-lahaina</td>\n",
       "      <td>3</td>\n",
       "      <td>2018-12-25</td>\n",
       "      <td>This place was not what the reviews portrayed ...</td>\n",
       "      <td>Ozzetta B.</td>\n",
       "      <td>0</td>\n",
       "      <td>275</td>\n",
       "      <td>14</td>\n",
       "      <td>1229</td>\n",
       "      <td>3.596364</td>\n",
       "      <td>...</td>\n",
       "      <td>5</td>\n",
       "      <td>31</td>\n",
       "      <td>130</td>\n",
       "      <td>0.534545</td>\n",
       "      <td>0.567273</td>\n",
       "      <td>[This place was not what the reviews portrayed...</td>\n",
       "      <td>[(This, place, was, not, what, the, reviews, p...</td>\n",
       "      <td>[(place, review, portray), (starter, walk, sta...</td>\n",
       "      <td>[This, place, was, not, what, the, reviews, po...</td>\n",
       "      <td>[place, review, portray, starter, walk, stair,...</td>\n",
       "    </tr>\n",
       "    <tr>\n",
       "      <th>3</th>\n",
       "      <td>kimos-maui-lahaina</td>\n",
       "      <td>2</td>\n",
       "      <td>2018-12-08</td>\n",
       "      <td>We were excited to repeat our Keoki's (in Kaua...</td>\n",
       "      <td>Arleen C.</td>\n",
       "      <td>0</td>\n",
       "      <td>475</td>\n",
       "      <td>34</td>\n",
       "      <td>2226</td>\n",
       "      <td>3.783158</td>\n",
       "      <td>...</td>\n",
       "      <td>7</td>\n",
       "      <td>43</td>\n",
       "      <td>206</td>\n",
       "      <td>0.484211</td>\n",
       "      <td>0.604211</td>\n",
       "      <td>[We were excited to repeat our Keoki's (in Kau...</td>\n",
       "      <td>[(We, were, excited, to, repeat, our, Keoki, '...</td>\n",
       "      <td>[(excit, repeat, keoki, 's, kauai, lovefest, s...</td>\n",
       "      <td>[We, were, excited, to, repeat, our, Keoki, 's...</td>\n",
       "      <td>[excit, repeat, keoki, 's, kauai, lovefest, si...</td>\n",
       "    </tr>\n",
       "    <tr>\n",
       "      <th>4</th>\n",
       "      <td>kimos-maui-lahaina</td>\n",
       "      <td>3</td>\n",
       "      <td>2018-11-29</td>\n",
       "      <td>If you're looking for a tourist spot, this is ...</td>\n",
       "      <td>Carol B.</td>\n",
       "      <td>0</td>\n",
       "      <td>168</td>\n",
       "      <td>10</td>\n",
       "      <td>776</td>\n",
       "      <td>3.732143</td>\n",
       "      <td>...</td>\n",
       "      <td>1</td>\n",
       "      <td>21</td>\n",
       "      <td>97</td>\n",
       "      <td>0.648810</td>\n",
       "      <td>0.636905</td>\n",
       "      <td>[If you're looking for a tourist spot, this is...</td>\n",
       "      <td>[(If, you, 're, looking, for, a, tourist, spot...</td>\n",
       "      <td>[('re, look, tourist, spot), (unfortun, could,...</td>\n",
       "      <td>[If, you, 're, looking, for, a, tourist, spot,...</td>\n",
       "      <td>['re, look, tourist, spot, unfortun, could, n'...</td>\n",
       "    </tr>\n",
       "  </tbody>\n",
       "</table>\n",
       "<p>5 rows × 26 columns</p>\n",
       "</div>"
      ],
      "text/plain": [
       "                alias  ratingValue dataPublished  \\\n",
       "0  kimos-maui-lahaina            5    2019-01-06   \n",
       "1  kimos-maui-lahaina            5    2019-01-04   \n",
       "2  kimos-maui-lahaina            3    2018-12-25   \n",
       "3  kimos-maui-lahaina            2    2018-12-08   \n",
       "4  kimos-maui-lahaina            3    2018-11-29   \n",
       "\n",
       "                                         description      author  sentiment  \\\n",
       "0  I stumbled across this great restaurant overlo...    Bella L.          1   \n",
       "1  Excellent view on the ocean at sunset.\\nExcell...   Rachou A.          1   \n",
       "2  This place was not what the reviews portrayed ...  Ozzetta B.          0   \n",
       "3  We were excited to repeat our Keoki's (in Kaua...   Arleen C.          0   \n",
       "4  If you're looking for a tourist spot, this is ...    Carol B.          0   \n",
       "\n",
       "   word_count  sent_count  chr_count  avg_word_len  \\\n",
       "0         135          11        664      4.022222   \n",
       "1          36           5        160      3.611111   \n",
       "2         275          14       1229      3.596364   \n",
       "3         475          34       2226      3.783158   \n",
       "4         168          10        776      3.732143   \n",
       "\n",
       "                         ...                          uppercase_cnt  \\\n",
       "0                        ...                                     10   \n",
       "1                        ...                                      0   \n",
       "2                        ...                                      5   \n",
       "3                        ...                                      7   \n",
       "4                        ...                                      1   \n",
       "\n",
       "   punctuation_cnt  vocab_cnt  ratio_lexical  ratio_content  \\\n",
       "0               17         76       0.637037       0.674074   \n",
       "1                6         25       0.777778       0.638889   \n",
       "2               31        130       0.534545       0.567273   \n",
       "3               43        206       0.484211       0.604211   \n",
       "4               21         97       0.648810       0.636905   \n",
       "\n",
       "                                         sent_tokens  \\\n",
       "0  [I stumbled across this great restaurant overl...   \n",
       "1  [Excellent view on the ocean at sunset., Excel...   \n",
       "2  [This place was not what the reviews portrayed...   \n",
       "3  [We were excited to repeat our Keoki's (in Kau...   \n",
       "4  [If you're looking for a tourist spot, this is...   \n",
       "\n",
       "                                     word_tokens_doc  \\\n",
       "0  [(I, stumbled, across, this, great, restaurant...   \n",
       "1  [(Excellent, view, on, the, ocean, at, sunset,...   \n",
       "2  [(This, place, was, not, what, the, reviews, p...   \n",
       "3  [(We, were, excited, to, repeat, our, Keoki, '...   \n",
       "4  [(If, you, 're, looking, for, a, tourist, spot...   \n",
       "\n",
       "                                     norm_tokens_doc  \\\n",
       "0  [(stumbl, across, great, restaur, overlook, oc...   \n",
       "1  [(excel, view, ocean, sunset), (excel, food), ...   \n",
       "2  [(place, review, portray), (starter, walk, sta...   \n",
       "3  [(excit, repeat, keoki, 's, kauai, lovefest, s...   \n",
       "4  [('re, look, tourist, spot), (unfortun, could,...   \n",
       "\n",
       "                                         word_tokens  \\\n",
       "0  [I, stumbled, across, this, great, restaurant,...   \n",
       "1  [Excellent, view, on, the, ocean, at, sunset, ...   \n",
       "2  [This, place, was, not, what, the, reviews, po...   \n",
       "3  [We, were, excited, to, repeat, our, Keoki, 's...   \n",
       "4  [If, you, 're, looking, for, a, tourist, spot,...   \n",
       "\n",
       "                                         norm_tokens  \n",
       "0  [stumbl, across, great, restaur, overlook, oce...  \n",
       "1  [excel, view, ocean, sunset, excel, food, fres...  \n",
       "2  [place, review, portray, starter, walk, stair,...  \n",
       "3  [excit, repeat, keoki, 's, kauai, lovefest, si...  \n",
       "4  ['re, look, tourist, spot, unfortun, could, n'...  \n",
       "\n",
       "[5 rows x 26 columns]"
      ]
     },
     "execution_count": 100,
     "metadata": {},
     "output_type": "execute_result"
    }
   ],
   "source": [
    "df.head()"
   ]
  },
  {
   "cell_type": "markdown",
   "metadata": {},
   "source": [
    "## Models"
   ]
  },
  {
   "cell_type": "markdown",
   "metadata": {},
   "source": [
    "### Topic Modeling"
   ]
  },
  {
   "cell_type": "markdown",
   "metadata": {},
   "source": [
    "#### Document is Reviews"
   ]
  },
  {
   "cell_type": "code",
   "execution_count": 101,
   "metadata": {},
   "outputs": [
    {
     "data": {
      "text/plain": [
       "0    [stumbl, across, great, restaur, overlook, oce...\n",
       "1    [excel, view, ocean, sunset, excel, food, fres...\n",
       "2    [place, review, portray, starter, walk, stair,...\n",
       "3    [excit, repeat, keoki, 's, kauai, lovefest, si...\n",
       "4    ['re, look, tourist, spot, unfortun, could, n'...\n",
       "Name: norm_tokens, dtype: object"
      ]
     },
     "execution_count": 101,
     "metadata": {},
     "output_type": "execute_result"
    }
   ],
   "source": [
    "# documents are reviews\n",
    "import gensim\n",
    "from gensim.corpora import Dictionary\n",
    "from gensim.models import CoherenceModel\n",
    "\n",
    "data = df.norm_tokens[:100]\n",
    "\n",
    "id2word = Dictionary(documents=data)\n",
    "doc_term_matrix = [id2word.doc2bow(doc) for doc in data]\n",
    "Lda = gensim.models.ldamodel.LdaModel\n",
    "lda_model = Lda(\n",
    "    corpus=doc_term_matrix,\n",
    "    id2word=id2word,\n",
    "    num_topics=10, \n",
    "    random_state=100,\n",
    "    update_every=1,\n",
    "    chunksize=100,\n",
    "    passes=10,\n",
    "    alpha='auto',\n",
    "    per_word_topics=True\n",
    ")\n",
    "data.head()"
   ]
  },
  {
   "cell_type": "code",
   "execution_count": 102,
   "metadata": {},
   "outputs": [
    {
     "name": "stdout",
     "output_type": "stream",
     "text": [
      "-7.101426671191072 , 0.27825371332849375\n"
     ]
    }
   ],
   "source": [
    "# lda test\n",
    "perplexity = lda_model.log_perplexity(doc_term_matrix)\n",
    "coherence = CoherenceModel(model=lda_model, texts=data, dictionary=id2word, coherence='c_v').get_coherence()\n",
    "print(perplexity, ',', coherence)"
   ]
  },
  {
   "cell_type": "code",
   "execution_count": 120,
   "metadata": {},
   "outputs": [
    {
     "data": {
      "text/plain": [
       "0.32474995085991565"
      ]
     },
     "execution_count": 120,
     "metadata": {},
     "output_type": "execute_result"
    }
   ],
   "source": [
    "# optimal topic numbers\n",
    "coherence_values = []\n",
    "model_list = []\n",
    "for num_topics in range(2, 40, 4):\n",
    "    model = Lda(\n",
    "        corpus=doc_term_matrix,\n",
    "        id2word=id2word,\n",
    "        num_topics=num_topics, \n",
    "        random_state=100,\n",
    "        update_every=1,\n",
    "        chunksize=100,\n",
    "        passes=10,\n",
    "        alpha='auto',\n",
    "        per_word_topics=True\n",
    "    )\n",
    "    model_list.append(model)\n",
    "    coherencemodel = CoherenceModel(model=model, texts=data, dictionary=id2word, coherence='c_v')\n",
    "    coherence_values.append(coherencemodel.get_coherence())\n",
    "optimal_model, optimal_coherence = max(((i,y) for i,y in zip(model_list, coherence_values)), key=lambda x: x[1])\n",
    "optimal_coherence"
   ]
  },
  {
   "cell_type": "code",
   "execution_count": 123,
   "metadata": {},
   "outputs": [
    {
     "data": {
      "text/plain": [
       "30"
      ]
     },
     "execution_count": 123,
     "metadata": {},
     "output_type": "execute_result"
    }
   ],
   "source": [
    "optimal_model.num_topics"
   ]
  },
  {
   "cell_type": "code",
   "execution_count": 118,
   "metadata": {},
   "outputs": [
    {
     "data": {
      "text/plain": [
       "<generator object <genexpr> at 0x1a36a0ecf0>"
      ]
     },
     "execution_count": 118,
     "metadata": {},
     "output_type": "execute_result"
    }
   ],
   "source": [
    "((i,y) for i,y in zip(model_list, coherence_values))"
   ]
  },
  {
   "cell_type": "code",
   "execution_count": 124,
   "metadata": {},
   "outputs": [
    {
     "data": {
      "image/png": "[encoded data removed]",
      "text/plain": [
       "<Figure size 432x288 with 1 Axes>"
      ]
     },
     "metadata": {
      "needs_background": "light"
     },
     "output_type": "display_data"
    }
   ],
   "source": [
    "# to select number of topics\n",
    "import matplotlib.pyplot as plt\n",
    "x = range(2, 40, 4)\n",
    "plt.plot(x, coherence_values)\n",
    "plt.xlabel(\"Num Topics\")\n",
    "plt.ylabel(\"Coherence score\")\n",
    "plt.legend((\"coherence_values\"), loc='best')\n",
    "plt.show()"
   ]
  },
  {
   "cell_type": "code",
   "execution_count": null,
   "metadata": {},
   "outputs": [],
   "source": [
    "mallet_path = '../../model/mallet-2.0.8/bin/mallet.bat'\n",
    "ldamallet = gensim.models.wrappers.LdaMallet(mallet_path, corpus=doc_term_matrix, num_topics=20, id2word=id2word)"
   ]
  },
  {
   "cell_type": "code",
   "execution_count": null,
   "metadata": {},
   "outputs": [],
   "source": [
    "a = []; b = []\n",
    "for doc_topic_list in lda_model.get_document_topics(doc_term_matrix):\n",
    "    dtp = max(doc_topic_list, key=lambda x: x[1])\n",
    "    a.append(dtp)\n",
    "    doc_topic_list.remove(dtp)\n",
    "    b.append(doc_topic_list)\n",
    "pd.concat([df.iloc[:100,:], pd.DataFrame(a)], axis=1)"
   ]
  },
  {
   "cell_type": "markdown",
   "metadata": {},
   "source": [
    "#### Document is Sentences"
   ]
  },
  {
   "cell_type": "code",
   "execution_count": 6,
   "metadata": {},
   "outputs": [],
   "source": [
    "import gensim\n",
    "from gensim.corpora import Dictionary\n",
    "from gensim.models import CoherenceModel\n",
    "\n",
    "data = pd.Series(list(chain(*df.norm_tokens_doc)), name='norm_tokens_doc')\n",
    "\n",
    "id2word = Dictionary(documents=data)\n",
    "doc_term_matrix = [id2word.doc2bow(doc) for doc in data]\n",
    "Lda = gensim.models.ldamodel.LdaModel\n",
    "lda_model = Lda(\n",
    "    corpus=doc_term_matrix,\n",
    "    id2word=id2word,\n",
    "    num_topics=10, \n",
    "    random_state=100,\n",
    "    update_every=1, # online iterative learning\n",
    "    chunksize=100,\n",
    "    passes=5,\n",
    "    distributed=False,\n",
    "    alpha='auto',\n",
    "    per_word_topics=True\n",
    ")"
   ]
  },
  {
   "cell_type": "code",
   "execution_count": 18,
   "metadata": {},
   "outputs": [
    {
     "data": {
      "text/plain": [
       "[(0, '0.038*\"beach\" + 0.032*\"also\" + 0.030*\"lahaina\" + 0.028*\"made\"'),\n",
       " (1, '0.066*\"like\" + 0.053*\"best\" + 0.045*\"tri\" + 0.035*\"littl\"'),\n",
       " (2, '0.069*\"back\" + 0.069*\"u\" + 0.057*\"delici\" + 0.028*\"sauc\"'),\n",
       " (3, '0.122*\"food\" + 0.108*\"good\" + 0.046*\"would\" + 0.028*\"price\"'),\n",
       " (4, '0.064*\"maui\" + 0.037*\"come\" + 0.030*\"meal\" + 0.030*\"tabl\"'),\n",
       " (5, '0.064*\"...\" + 0.043*\"even\" + 0.040*\"wait\" + 0.037*\"amaz\"'),\n",
       " (6, '0.088*\"great\" + 0.066*\"place\" + 0.062*\"servic\" + 0.046*\"one\"'),\n",
       " (7, '0.145*\"\\'s\" + 0.070*\"time\" + 0.031*\"ruth\" + 0.027*\"went\"'),\n",
       " (8, '0.095*\"pizza\" + 0.063*\"order\" + 0.042*\"taco\" + 0.033*\"steak\"'),\n",
       " (9, '0.110*\"n\\'t\" + 0.059*\"get\" + 0.047*\"realli\" + 0.043*\"nice\"')]"
      ]
     },
     "execution_count": 18,
     "metadata": {},
     "output_type": "execute_result"
    }
   ],
   "source": [
    "lda_model.show_topics(num_words=4)"
   ]
  },
  {
   "cell_type": "code",
   "execution_count": 94,
   "metadata": {},
   "outputs": [
    {
     "data": {
      "text/plain": [
       "[(0, '0.038*\"beach\" + 0.032*\"also\" + 0.030*\"lahaina\" + 0.028*\"made\"'),\n",
       " (1, '0.066*\"like\" + 0.053*\"best\" + 0.045*\"tri\" + 0.035*\"littl\"'),\n",
       " (2, '0.069*\"back\" + 0.069*\"u\" + 0.057*\"delici\" + 0.028*\"sauc\"'),\n",
       " (3, '0.122*\"food\" + 0.108*\"good\" + 0.046*\"would\" + 0.028*\"price\"'),\n",
       " (4, '0.064*\"maui\" + 0.037*\"come\" + 0.030*\"meal\" + 0.030*\"tabl\"'),\n",
       " (5, '0.064*\"...\" + 0.043*\"even\" + 0.040*\"wait\" + 0.037*\"amaz\"'),\n",
       " (6, '0.088*\"great\" + 0.066*\"place\" + 0.062*\"servic\" + 0.046*\"one\"'),\n",
       " (7, '0.145*\"\\'s\" + 0.070*\"time\" + 0.031*\"ruth\" + 0.027*\"went\"'),\n",
       " (8, '0.095*\"pizza\" + 0.063*\"order\" + 0.042*\"taco\" + 0.033*\"steak\"'),\n",
       " (9, '0.110*\"n\\'t\" + 0.059*\"get\" + 0.047*\"realli\" + 0.043*\"nice\"')]"
      ]
     },
     "execution_count": 94,
     "metadata": {},
     "output_type": "execute_result"
    }
   ],
   "source": [
    "fname = '../../model/lda_model_0001_0050_simple_doc2bow'\n",
    "# save\n",
    "lda_model.save(fname)\n",
    "\n",
    "# load\n",
    "Lda = gensim.models.ldamodel.LdaModel\n",
    "saved_model = Lda.load(fname)\n",
    "saved_model.show_topics(num_words=4)"
   ]
  },
  {
   "cell_type": "code",
   "execution_count": 8,
   "metadata": {
    "scrolled": true
   },
   "outputs": [
    {
     "data": {
      "text/plain": [
       "19020"
      ]
     },
     "execution_count": 8,
     "metadata": {},
     "output_type": "execute_result"
    }
   ],
   "source": [
    "df.norm_tokens_doc.count()"
   ]
  },
  {
   "cell_type": "code",
   "execution_count": 7,
   "metadata": {},
   "outputs": [
    {
     "data": {
      "text/plain": [
       "136033"
      ]
     },
     "execution_count": 7,
     "metadata": {},
     "output_type": "execute_result"
    }
   ],
   "source": [
    "len(lda_model.get_document_topics(doc_term_matrix))"
   ]
  },
  {
   "cell_type": "code",
   "execution_count": 9,
   "metadata": {},
   "outputs": [
    {
     "data": {
      "text/html": [
       "<div>\n",
       "<style scoped>\n",
       "    .dataframe tbody tr th:only-of-type {\n",
       "        vertical-align: middle;\n",
       "    }\n",
       "\n",
       "    .dataframe tbody tr th {\n",
       "        vertical-align: top;\n",
       "    }\n",
       "\n",
       "    .dataframe thead th {\n",
       "        text-align: right;\n",
       "    }\n",
       "</style>\n",
       "<table border=\"1\" class=\"dataframe\">\n",
       "  <thead>\n",
       "    <tr style=\"text-align: right;\">\n",
       "      <th></th>\n",
       "      <th>norm_tokens_doc</th>\n",
       "      <th>topic</th>\n",
       "      <th>prob</th>\n",
       "    </tr>\n",
       "  </thead>\n",
       "  <tbody>\n",
       "    <tr>\n",
       "      <th>0</th>\n",
       "      <td>(stumbl, across, great, restaur, overlook, oce...</td>\n",
       "      <td>5</td>\n",
       "      <td>0.181670</td>\n",
       "    </tr>\n",
       "    <tr>\n",
       "      <th>1</th>\n",
       "      <td>(high, expect, place, boy, blow, water)</td>\n",
       "      <td>2</td>\n",
       "      <td>0.186504</td>\n",
       "    </tr>\n",
       "    <tr>\n",
       "      <th>2</th>\n",
       "      <td>(fish, chip, best, 've, ever, 've, lot, includ...</td>\n",
       "      <td>1</td>\n",
       "      <td>0.237983</td>\n",
       "    </tr>\n",
       "    <tr>\n",
       "      <th>3</th>\n",
       "      <td>(highli, recommend)</td>\n",
       "      <td>3</td>\n",
       "      <td>0.174916</td>\n",
       "    </tr>\n",
       "    <tr>\n",
       "      <th>4</th>\n",
       "      <td>(also, turkey, bacon, sandwich, good)</td>\n",
       "      <td>6</td>\n",
       "      <td>0.142321</td>\n",
       "    </tr>\n",
       "  </tbody>\n",
       "</table>\n",
       "</div>"
      ],
      "text/plain": [
       "                                     norm_tokens_doc  topic      prob\n",
       "0  (stumbl, across, great, restaur, overlook, oce...      5  0.181670\n",
       "1            (high, expect, place, boy, blow, water)      2  0.186504\n",
       "2  (fish, chip, best, 've, ever, 've, lot, includ...      1  0.237983\n",
       "3                                (highli, recommend)      3  0.174916\n",
       "4              (also, turkey, bacon, sandwich, good)      6  0.142321"
      ]
     },
     "execution_count": 9,
     "metadata": {},
     "output_type": "execute_result"
    }
   ],
   "source": [
    "# score topic and probabilities to each document (sentence in this case)\n",
    "a = []; b = []\n",
    "for doc_topic_list in lda_model.get_document_topics(doc_term_matrix):\n",
    "    dtp = max(doc_topic_list, key=lambda x: x[1])\n",
    "    a.append(dtp)\n",
    "    doc_topic_list.remove(dtp)\n",
    "    b.append(doc_topic_list)\n",
    "\n",
    "pd_sent_topic = pd.concat([data, pd.DataFrame(a, columns=['topic', 'prob'])], axis=1)\n",
    "pd_sent_topic.head()"
   ]
  },
  {
   "cell_type": "code",
   "execution_count": 19,
   "metadata": {},
   "outputs": [
    {
     "data": {
      "text/plain": [
       "norm_tokens_doc    136033\n",
       "topic              136033\n",
       "prob               136033\n",
       "dtype: int64"
      ]
     },
     "execution_count": 19,
     "metadata": {},
     "output_type": "execute_result"
    }
   ],
   "source": [
    "pd_sent_topic.count()"
   ]
  },
  {
   "cell_type": "code",
   "execution_count": 10,
   "metadata": {},
   "outputs": [
    {
     "data": {
      "text/plain": [
       "[(0, 0.07618688),\n",
       " (1, 0.29323208),\n",
       " (2, 0.058359765),\n",
       " (3, 0.11239939),\n",
       " (4, 0.0752151),\n",
       " (5, 0.069250196),\n",
       " (6, 0.09821621),\n",
       " (7, 0.062355176),\n",
       " (8, 0.08586889),\n",
       " (9, 0.06891633)]"
      ]
     },
     "execution_count": 10,
     "metadata": {},
     "output_type": "execute_result"
    }
   ],
   "source": [
    "# document/review topic prob distribution\n",
    "lda_model[doc_term_matrix][9]"
   ]
  },
  {
   "cell_type": "code",
   "execution_count": 11,
   "metadata": {},
   "outputs": [
    {
     "data": {
      "text/plain": [
       "[(0, 0.07618688),\n",
       " (1, 0.29323208),\n",
       " (2, 0.058359765),\n",
       " (3, 0.11239939),\n",
       " (4, 0.0752151),\n",
       " (5, 0.069250196),\n",
       " (6, 0.09821621),\n",
       " (7, 0.062355176),\n",
       " (8, 0.08586889),\n",
       " (9, 0.06891633)]"
      ]
     },
     "execution_count": 11,
     "metadata": {},
     "output_type": "execute_result"
    }
   ],
   "source": [
    "# document/review topic prob distribution\n",
    "lda_model.get_document_topics(doc_term_matrix[9])"
   ]
  },
  {
   "cell_type": "code",
   "execution_count": 12,
   "metadata": {},
   "outputs": [
    {
     "data": {
      "text/plain": [
       "1.0000000223517418"
      ]
     },
     "execution_count": 12,
     "metadata": {},
     "output_type": "execute_result"
    }
   ],
   "source": [
    "sum(w for i, w in lda_model[doc_term_matrix][9])"
   ]
  },
  {
   "cell_type": "code",
   "execution_count": 13,
   "metadata": {},
   "outputs": [
    {
     "data": {
      "text/plain": [
       "('stumbl',\n",
       " 'across',\n",
       " 'great',\n",
       " 'restaur',\n",
       " 'overlook',\n",
       " 'ocean',\n",
       " 'lunch',\n",
       " 'vacat',\n",
       " 'maui')"
      ]
     },
     "execution_count": 13,
     "metadata": {},
     "output_type": "execute_result"
    }
   ],
   "source": [
    "data[0]\n",
    "# df.norm_tokens_doc[0]"
   ]
  },
  {
   "cell_type": "code",
   "execution_count": 29,
   "metadata": {},
   "outputs": [
    {
     "data": {
      "text/plain": [
       "[('stumbl',\n",
       "  'across',\n",
       "  'great',\n",
       "  'restaur',\n",
       "  'overlook',\n",
       "  'ocean',\n",
       "  'lunch',\n",
       "  'vacat',\n",
       "  'maui'),\n",
       " ('high', 'expect', 'place', 'boy', 'blow', 'water'),\n",
       " ('fish', 'chip', 'best', \"'ve\", 'ever', \"'ve\", 'lot', 'includ', 'london'),\n",
       " ('highli', 'recommend'),\n",
       " ('also', 'turkey', 'bacon', 'sandwich', 'good'),\n",
       " ('term', 'drink', 'highli', 'recommend', 'pacif', 'paradis', 'drink'),\n",
       " ('delici', 'tropic'),\n",
       " ('also', 'realli', 'enjoy', 'lahaina', 'lemonad'),\n",
       " ('servic', 'realli', 'great'),\n",
       " ('wish',\n",
       "  'rememb',\n",
       "  'waitress',\n",
       "  'name',\n",
       "  'truli',\n",
       "  'awesom',\n",
       "  'recommend',\n",
       "  'best',\n",
       "  'stuff'),\n",
       " ('blond', 'cute', 'sunglass')]"
      ]
     },
     "execution_count": 29,
     "metadata": {},
     "output_type": "execute_result"
    }
   ],
   "source": [
    "[i for i in df.norm_tokens_doc[0]]"
   ]
  },
  {
   "cell_type": "code",
   "execution_count": 47,
   "metadata": {},
   "outputs": [
    {
     "data": {
      "text/plain": [
       "136033"
      ]
     },
     "execution_count": 47,
     "metadata": {},
     "output_type": "execute_result"
    }
   ],
   "source": [
    "len(pd_sent_topic)"
   ]
  },
  {
   "cell_type": "code",
   "execution_count": 48,
   "metadata": {},
   "outputs": [
    {
     "data": {
      "text/plain": [
       "136033"
      ]
     },
     "execution_count": 48,
     "metadata": {},
     "output_type": "execute_result"
    }
   ],
   "source": [
    "sum(len(i) for i in df.norm_tokens_doc)"
   ]
  },
  {
   "cell_type": "code",
   "execution_count": 81,
   "metadata": {},
   "outputs": [
    {
     "data": {
      "text/plain": [
       "[11, 5, 14, 34, 10, 6, 6, 14, 8, 10]"
      ]
     },
     "execution_count": 81,
     "metadata": {},
     "output_type": "execute_result"
    }
   ],
   "source": [
    "[len(i) for i in df.norm_tokens_doc[:10]]"
   ]
  },
  {
   "cell_type": "code",
   "execution_count": 46,
   "metadata": {},
   "outputs": [
    {
     "data": {
      "text/html": [
       "<div>\n",
       "<style scoped>\n",
       "    .dataframe tbody tr th:only-of-type {\n",
       "        vertical-align: middle;\n",
       "    }\n",
       "\n",
       "    .dataframe tbody tr th {\n",
       "        vertical-align: top;\n",
       "    }\n",
       "\n",
       "    .dataframe thead th {\n",
       "        text-align: right;\n",
       "    }\n",
       "</style>\n",
       "<table border=\"1\" class=\"dataframe\">\n",
       "  <thead>\n",
       "    <tr style=\"text-align: right;\">\n",
       "      <th></th>\n",
       "      <th>norm_tokens_doc</th>\n",
       "      <th>topic</th>\n",
       "      <th>prob</th>\n",
       "    </tr>\n",
       "  </thead>\n",
       "  <tbody>\n",
       "    <tr>\n",
       "      <th>0</th>\n",
       "      <td>(stumbl, across, great, restaur, overlook, oce...</td>\n",
       "      <td>5</td>\n",
       "      <td>0.181670</td>\n",
       "    </tr>\n",
       "    <tr>\n",
       "      <th>1</th>\n",
       "      <td>(high, expect, place, boy, blow, water)</td>\n",
       "      <td>2</td>\n",
       "      <td>0.186504</td>\n",
       "    </tr>\n",
       "    <tr>\n",
       "      <th>2</th>\n",
       "      <td>(fish, chip, best, 've, ever, 've, lot, includ...</td>\n",
       "      <td>1</td>\n",
       "      <td>0.237983</td>\n",
       "    </tr>\n",
       "    <tr>\n",
       "      <th>3</th>\n",
       "      <td>(highli, recommend)</td>\n",
       "      <td>3</td>\n",
       "      <td>0.174916</td>\n",
       "    </tr>\n",
       "    <tr>\n",
       "      <th>4</th>\n",
       "      <td>(also, turkey, bacon, sandwich, good)</td>\n",
       "      <td>6</td>\n",
       "      <td>0.142321</td>\n",
       "    </tr>\n",
       "    <tr>\n",
       "      <th>5</th>\n",
       "      <td>(term, drink, highli, recommend, pacif, paradi...</td>\n",
       "      <td>3</td>\n",
       "      <td>0.297764</td>\n",
       "    </tr>\n",
       "    <tr>\n",
       "      <th>6</th>\n",
       "      <td>(delici, tropic)</td>\n",
       "      <td>2</td>\n",
       "      <td>0.142629</td>\n",
       "    </tr>\n",
       "    <tr>\n",
       "      <th>7</th>\n",
       "      <td>(also, realli, enjoy, lahaina, lemonad)</td>\n",
       "      <td>0</td>\n",
       "      <td>0.149166</td>\n",
       "    </tr>\n",
       "    <tr>\n",
       "      <th>8</th>\n",
       "      <td>(servic, realli, great)</td>\n",
       "      <td>6</td>\n",
       "      <td>0.185749</td>\n",
       "    </tr>\n",
       "    <tr>\n",
       "      <th>9</th>\n",
       "      <td>(wish, rememb, waitress, name, truli, awesom, ...</td>\n",
       "      <td>1</td>\n",
       "      <td>0.293232</td>\n",
       "    </tr>\n",
       "    <tr>\n",
       "      <th>10</th>\n",
       "      <td>(blond, cute, sunglass)</td>\n",
       "      <td>5</td>\n",
       "      <td>0.155992</td>\n",
       "    </tr>\n",
       "  </tbody>\n",
       "</table>\n",
       "</div>"
      ],
      "text/plain": [
       "                                      norm_tokens_doc  topic      prob\n",
       "0   (stumbl, across, great, restaur, overlook, oce...      5  0.181670\n",
       "1             (high, expect, place, boy, blow, water)      2  0.186504\n",
       "2   (fish, chip, best, 've, ever, 've, lot, includ...      1  0.237983\n",
       "3                                 (highli, recommend)      3  0.174916\n",
       "4               (also, turkey, bacon, sandwich, good)      6  0.142321\n",
       "5   (term, drink, highli, recommend, pacif, paradi...      3  0.297764\n",
       "6                                    (delici, tropic)      2  0.142629\n",
       "7             (also, realli, enjoy, lahaina, lemonad)      0  0.149166\n",
       "8                             (servic, realli, great)      6  0.185749\n",
       "9   (wish, rememb, waitress, name, truli, awesom, ...      1  0.293232\n",
       "10                            (blond, cute, sunglass)      5  0.155992"
      ]
     },
     "execution_count": 46,
     "metadata": {},
     "output_type": "execute_result"
    }
   ],
   "source": [
    "pd_sent_topic.iloc[0:11,:]"
   ]
  },
  {
   "cell_type": "code",
   "execution_count": 41,
   "metadata": {},
   "outputs": [
    {
     "data": {
      "text/html": [
       "<div>\n",
       "<style scoped>\n",
       "    .dataframe tbody tr th:only-of-type {\n",
       "        vertical-align: middle;\n",
       "    }\n",
       "\n",
       "    .dataframe tbody tr th {\n",
       "        vertical-align: top;\n",
       "    }\n",
       "\n",
       "    .dataframe thead th {\n",
       "        text-align: right;\n",
       "    }\n",
       "</style>\n",
       "<table border=\"1\" class=\"dataframe\">\n",
       "  <thead>\n",
       "    <tr style=\"text-align: right;\">\n",
       "      <th></th>\n",
       "      <th>norm_tokens_doc</th>\n",
       "      <th>topic</th>\n",
       "      <th>prob</th>\n",
       "    </tr>\n",
       "  </thead>\n",
       "  <tbody>\n",
       "    <tr>\n",
       "      <th>11</th>\n",
       "      <td>(excel, view, ocean, sunset)</td>\n",
       "      <td>6</td>\n",
       "      <td>0.146975</td>\n",
       "    </tr>\n",
       "    <tr>\n",
       "      <th>12</th>\n",
       "      <td>(excel, food)</td>\n",
       "      <td>3</td>\n",
       "      <td>0.139928</td>\n",
       "    </tr>\n",
       "    <tr>\n",
       "      <th>13</th>\n",
       "      <td>(fresh, fish, coconut, yuzu, husband)</td>\n",
       "      <td>8</td>\n",
       "      <td>0.229818</td>\n",
       "    </tr>\n",
       "    <tr>\n",
       "      <th>14</th>\n",
       "      <td>(love,)</td>\n",
       "      <td>6</td>\n",
       "      <td>0.126704</td>\n",
       "    </tr>\n",
       "    <tr>\n",
       "      <th>15</th>\n",
       "      <td>(waitress, super, nice)</td>\n",
       "      <td>9</td>\n",
       "      <td>0.150506</td>\n",
       "    </tr>\n",
       "  </tbody>\n",
       "</table>\n",
       "</div>"
      ],
      "text/plain": [
       "                          norm_tokens_doc  topic      prob\n",
       "11           (excel, view, ocean, sunset)      6  0.146975\n",
       "12                          (excel, food)      3  0.139928\n",
       "13  (fresh, fish, coconut, yuzu, husband)      8  0.229818\n",
       "14                                (love,)      6  0.126704\n",
       "15                (waitress, super, nice)      9  0.150506"
      ]
     },
     "execution_count": 41,
     "metadata": {},
     "output_type": "execute_result"
    }
   ],
   "source": [
    "pd_sent_topic.iloc[11:16,:]"
   ]
  },
  {
   "cell_type": "code",
   "execution_count": 43,
   "metadata": {},
   "outputs": [
    {
     "data": {
      "text/html": [
       "<div>\n",
       "<style scoped>\n",
       "    .dataframe tbody tr th:only-of-type {\n",
       "        vertical-align: middle;\n",
       "    }\n",
       "\n",
       "    .dataframe tbody tr th {\n",
       "        vertical-align: top;\n",
       "    }\n",
       "\n",
       "    .dataframe thead th {\n",
       "        text-align: right;\n",
       "    }\n",
       "</style>\n",
       "<table border=\"1\" class=\"dataframe\">\n",
       "  <thead>\n",
       "    <tr style=\"text-align: right;\">\n",
       "      <th></th>\n",
       "      <th>norm_tokens_doc</th>\n",
       "      <th>topic</th>\n",
       "      <th>prob</th>\n",
       "    </tr>\n",
       "  </thead>\n",
       "  <tbody>\n",
       "    <tr>\n",
       "      <th>16</th>\n",
       "      <td>(place, review, portray)</td>\n",
       "      <td>6</td>\n",
       "      <td>0.156842</td>\n",
       "    </tr>\n",
       "    <tr>\n",
       "      <th>17</th>\n",
       "      <td>(starter, walk, stair, want, sit, balconi, cat...</td>\n",
       "      <td>8</td>\n",
       "      <td>0.226674</td>\n",
       "    </tr>\n",
       "    <tr>\n",
       "      <th>18</th>\n",
       "      <td>(told, ask, sit, tabl, clean, coupl, left)</td>\n",
       "      <td>2</td>\n",
       "      <td>0.210729</td>\n",
       "    </tr>\n",
       "    <tr>\n",
       "      <th>19</th>\n",
       "      <td>(wait, anoth, server, walk, right, u, sat, ano...</td>\n",
       "      <td>5</td>\n",
       "      <td>0.257854</td>\n",
       "    </tr>\n",
       "    <tr>\n",
       "      <th>20</th>\n",
       "      <td>(end, wait, anoth, tabl, place, 40, min, tabl,...</td>\n",
       "      <td>4</td>\n",
       "      <td>0.237178</td>\n",
       "    </tr>\n",
       "    <tr>\n",
       "      <th>21</th>\n",
       "      <td>(food, okay, ..., veget, option, ravioli, dish...</td>\n",
       "      <td>8</td>\n",
       "      <td>0.196095</td>\n",
       "    </tr>\n",
       "    <tr>\n",
       "      <th>22</th>\n",
       "      <td>(tofu, although, look, like, nice, grill, piec...</td>\n",
       "      <td>3</td>\n",
       "      <td>0.219524</td>\n",
       "    </tr>\n",
       "    <tr>\n",
       "      <th>23</th>\n",
       "      <td>('ve, tofu, plenti, time, actual, get, pick, f...</td>\n",
       "      <td>9</td>\n",
       "      <td>0.204731</td>\n",
       "    </tr>\n",
       "    <tr>\n",
       "      <th>24</th>\n",
       "      <td>(true, dish)</td>\n",
       "      <td>8</td>\n",
       "      <td>0.176876</td>\n",
       "    </tr>\n",
       "    <tr>\n",
       "      <th>25</th>\n",
       "      <td>(husband, fish, dish, rice, veggi, side, sweet...</td>\n",
       "      <td>8</td>\n",
       "      <td>0.356887</td>\n",
       "    </tr>\n",
       "    <tr>\n",
       "      <th>26</th>\n",
       "      <td>(unfortun, hash, thing, like)</td>\n",
       "      <td>8</td>\n",
       "      <td>0.132608</td>\n",
       "    </tr>\n",
       "    <tr>\n",
       "      <th>27</th>\n",
       "      <td>('ve, come, maui, almost, 8, year, like, tri, ...</td>\n",
       "      <td>1</td>\n",
       "      <td>0.257103</td>\n",
       "    </tr>\n",
       "    <tr>\n",
       "      <th>28</th>\n",
       "      <td>(first, time, tri, kimo, 's, unfortun, last)</td>\n",
       "      <td>7</td>\n",
       "      <td>0.244741</td>\n",
       "    </tr>\n",
       "    <tr>\n",
       "      <th>29</th>\n",
       "      <td>(sorry..l, ob)</td>\n",
       "      <td>6</td>\n",
       "      <td>0.130495</td>\n",
       "    </tr>\n",
       "  </tbody>\n",
       "</table>\n",
       "</div>"
      ],
      "text/plain": [
       "                                      norm_tokens_doc  topic      prob\n",
       "16                           (place, review, portray)      6  0.156842\n",
       "17  (starter, walk, stair, want, sit, balconi, cat...      8  0.226674\n",
       "18         (told, ask, sit, tabl, clean, coupl, left)      2  0.210729\n",
       "19  (wait, anoth, server, walk, right, u, sat, ano...      5  0.257854\n",
       "20  (end, wait, anoth, tabl, place, 40, min, tabl,...      4  0.237178\n",
       "21  (food, okay, ..., veget, option, ravioli, dish...      8  0.196095\n",
       "22  (tofu, although, look, like, nice, grill, piec...      3  0.219524\n",
       "23  ('ve, tofu, plenti, time, actual, get, pick, f...      9  0.204731\n",
       "24                                       (true, dish)      8  0.176876\n",
       "25  (husband, fish, dish, rice, veggi, side, sweet...      8  0.356887\n",
       "26                      (unfortun, hash, thing, like)      8  0.132608\n",
       "27  ('ve, come, maui, almost, 8, year, like, tri, ...      1  0.257103\n",
       "28       (first, time, tri, kimo, 's, unfortun, last)      7  0.244741\n",
       "29                                     (sorry..l, ob)      6  0.130495"
      ]
     },
     "execution_count": 43,
     "metadata": {},
     "output_type": "execute_result"
    }
   ],
   "source": [
    "pd_sent_topic.iloc[16:30,:]"
   ]
  },
  {
   "cell_type": "code",
   "execution_count": null,
   "metadata": {},
   "outputs": [],
   "source": [
    "# number of sentences and their topic/probs for the **first review**\n",
    "pd_sent_topic[pd_sent_topic.norm_tokens_doc.apply(lambda x: tuple(x)).isin([i for i in df.norm_tokens_doc[0]])]"
   ]
  },
  {
   "cell_type": "code",
   "execution_count": 45,
   "metadata": {},
   "outputs": [
    {
     "data": {
      "text/html": [
       "<div>\n",
       "<style scoped>\n",
       "    .dataframe tbody tr th:only-of-type {\n",
       "        vertical-align: middle;\n",
       "    }\n",
       "\n",
       "    .dataframe tbody tr th {\n",
       "        vertical-align: top;\n",
       "    }\n",
       "\n",
       "    .dataframe thead th {\n",
       "        text-align: right;\n",
       "    }\n",
       "</style>\n",
       "<table border=\"1\" class=\"dataframe\">\n",
       "  <thead>\n",
       "    <tr style=\"text-align: right;\">\n",
       "      <th></th>\n",
       "      <th>norm_tokens_doc</th>\n",
       "      <th>topic</th>\n",
       "      <th>prob</th>\n",
       "    </tr>\n",
       "  </thead>\n",
       "  <tbody>\n",
       "  </tbody>\n",
       "</table>\n",
       "</div>"
      ],
      "text/plain": [
       "Empty DataFrame\n",
       "Columns: [norm_tokens_doc, topic, prob]\n",
       "Index: []"
      ]
     },
     "execution_count": 45,
     "metadata": {},
     "output_type": "execute_result"
    }
   ],
   "source": [
    "pd_doc_temp"
   ]
  },
  {
   "cell_type": "code",
   "execution_count": 95,
   "metadata": {},
   "outputs": [
    {
     "data": {
      "text/plain": [
       "'6,4,6,5,6,6,3,6,3,1,8'"
      ]
     },
     "execution_count": 95,
     "metadata": {},
     "output_type": "execute_result"
    }
   ],
   "source": [
    "','.join(map(str, pd_doc_temp.topic))"
   ]
  },
  {
   "cell_type": "code",
   "execution_count": null,
   "metadata": {},
   "outputs": [],
   "source": [
    "# \n",
    "# This is buggy, because the .isin(inner_list) select multiple occurances of inner_list and list populates with\n",
    "# out of document sentences..\n",
    "# 03/20/2019\n",
    "#\n",
    "topic_mode = []\n",
    "topic_list = []\n",
    "sent_topics = []\n",
    "# score topic and probabilities to each document (**review** in this case)\n",
    "for doc_sents in df.norm_tokens_doc[:100]:    \n",
    "    # pd_doc_temp: the topic and the prob for the current document/ review: all sentences and their topic and probs\n",
    "    pd_doc_temp = pd_sent_topic[pd_sent_topic.norm_tokens_doc.apply(lambda x: tuple(x)).isin([tuple(i) for i in doc_sents])]\n",
    "    # find the most frequent topic in the review\n",
    "    sent_topics.append(pd_doc_temp.apply(lambda x: (x.topic, x.prob), axis=1).tolist())\n",
    "    topic_mode.append(round(pd_doc_temp.topic.mode()[0]))    \n",
    "    topic_list.append(','.join(map(str, pd_doc_temp.topic)))\n",
    "    \n",
    "df['sent_topics'] = pd.Series(sent_topics, name='sent_topics')\n",
    "df['topic_mode'] = pd.Series(topic_mode, name='topic_mode')\n",
    "df['topic_list'] = pd.Series(topic_list, name='topic_list')"
   ]
  },
  {
   "cell_type": "code",
   "execution_count": 82,
   "metadata": {},
   "outputs": [],
   "source": [
    "# \n",
    "# This works since we are using indices of current document on the lda's documents\n",
    "# 03/21/2019\n",
    "#\n",
    "topic_mode = []\n",
    "topic_list = []\n",
    "sent_topics = []\n",
    "i, j = 0, 0\n",
    "# score topic and probabilities to each document (**review** in this case)\n",
    "for doc_sents in df.norm_tokens_doc:\n",
    "    j = j + len(doc_sents)\n",
    "    pd_doc_temp = pd_sent_topic.iloc[i:j,:]\n",
    "    i = j\n",
    "    \n",
    "    sent_topics.append(pd_doc_temp.apply(lambda x: (x.topic, x.prob), axis=1).tolist())\n",
    "    topic_mode.append(round(pd_doc_temp.topic.mode()[0]))    \n",
    "    topic_list.append(','.join(map(str, pd_doc_temp.topic)))\n",
    "    \n",
    "df['sent_topics'] = pd.Series(sent_topics, name='sent_topics')\n",
    "df['topic_mode'] = pd.Series(topic_mode, name='topic_mode')\n",
    "df['topic_list'] = pd.Series(topic_list, name='topic_list')"
   ]
  },
  {
   "cell_type": "code",
   "execution_count": 84,
   "metadata": {},
   "outputs": [
    {
     "data": {
      "text/plain": [
       "136022    (6, 0.14720681309700012)\n",
       "136023    (4, 0.14807088673114777)\n",
       "136024     (6, 0.1423206925392151)\n",
       "136025    (5, 0.15356479585170746)\n",
       "136026    (6, 0.18574859201908112)\n",
       "136027    (6, 0.17367175221443176)\n",
       "136028    (3, 0.12663573026657104)\n",
       "136029    (6, 0.13902904093265533)\n",
       "136030    (3, 0.13209319114685059)\n",
       "136031    (1, 0.17586977779865265)\n",
       "136032    (8, 0.17008419334888458)\n",
       "dtype: object"
      ]
     },
     "execution_count": 84,
     "metadata": {},
     "output_type": "execute_result"
    }
   ],
   "source": [
    "pd_doc_temp.apply(lambda x: (x.topic, x.prob), axis=1)"
   ]
  },
  {
   "cell_type": "code",
   "execution_count": 83,
   "metadata": {},
   "outputs": [
    {
     "data": {
      "text/html": [
       "<div>\n",
       "<style scoped>\n",
       "    .dataframe tbody tr th:only-of-type {\n",
       "        vertical-align: middle;\n",
       "    }\n",
       "\n",
       "    .dataframe tbody tr th {\n",
       "        vertical-align: top;\n",
       "    }\n",
       "\n",
       "    .dataframe thead th {\n",
       "        text-align: right;\n",
       "    }\n",
       "</style>\n",
       "<table border=\"1\" class=\"dataframe\">\n",
       "  <thead>\n",
       "    <tr style=\"text-align: right;\">\n",
       "      <th></th>\n",
       "      <th>alias</th>\n",
       "      <th>ratingValue</th>\n",
       "      <th>word_tokens_doc</th>\n",
       "      <th>topic_mode</th>\n",
       "      <th>topic_list</th>\n",
       "      <th>sent_topics</th>\n",
       "    </tr>\n",
       "  </thead>\n",
       "  <tbody>\n",
       "    <tr>\n",
       "      <th>0</th>\n",
       "      <td>kimos-maui-lahaina</td>\n",
       "      <td>5</td>\n",
       "      <td>[(I, stumbled, across, this, great, restaurant...</td>\n",
       "      <td>1</td>\n",
       "      <td>5,2,1,3,6,3,2,0,6,1,5</td>\n",
       "      <td>[(5, 0.181669682264328), (2, 0.186504259705543...</td>\n",
       "    </tr>\n",
       "    <tr>\n",
       "      <th>1</th>\n",
       "      <td>kimos-maui-lahaina</td>\n",
       "      <td>5</td>\n",
       "      <td>[(Excellent, view, on, the, ocean, at, sunset,...</td>\n",
       "      <td>6</td>\n",
       "      <td>6,3,8,6,9</td>\n",
       "      <td>[(6, 0.146974578499794), (3, 0.139927998185157...</td>\n",
       "    </tr>\n",
       "    <tr>\n",
       "      <th>2</th>\n",
       "      <td>kimos-maui-lahaina</td>\n",
       "      <td>3</td>\n",
       "      <td>[(This, place, was, not, what, the, reviews, p...</td>\n",
       "      <td>8</td>\n",
       "      <td>6,8,2,5,4,8,3,9,8,8,8,1,7,6</td>\n",
       "      <td>[(6, 0.15684203803539276), (8, 0.2266744673252...</td>\n",
       "    </tr>\n",
       "    <tr>\n",
       "      <th>3</th>\n",
       "      <td>kimos-maui-lahaina</td>\n",
       "      <td>2</td>\n",
       "      <td>[(We, were, excited, to, repeat, our, Keoki, '...</td>\n",
       "      <td>2</td>\n",
       "      <td>2,4,9,0,5,3,7,1,0,4,0,5,5,8,6,9,2,8,6,2,2,1,6,...</td>\n",
       "      <td>[(2, 0.1735130101442337), (4, 0.13328838348388...</td>\n",
       "    </tr>\n",
       "    <tr>\n",
       "      <th>4</th>\n",
       "      <td>kimos-maui-lahaina</td>\n",
       "      <td>3</td>\n",
       "      <td>[(If, you, 're, looking, for, a, tourist, spot...</td>\n",
       "      <td>6</td>\n",
       "      <td>6,9,8,6,4,0,5,3,1,9</td>\n",
       "      <td>[(6, 0.1469745934009552), (9, 0.20430350303649...</td>\n",
       "    </tr>\n",
       "  </tbody>\n",
       "</table>\n",
       "</div>"
      ],
      "text/plain": [
       "                alias  ratingValue  \\\n",
       "0  kimos-maui-lahaina            5   \n",
       "1  kimos-maui-lahaina            5   \n",
       "2  kimos-maui-lahaina            3   \n",
       "3  kimos-maui-lahaina            2   \n",
       "4  kimos-maui-lahaina            3   \n",
       "\n",
       "                                     word_tokens_doc  topic_mode  \\\n",
       "0  [(I, stumbled, across, this, great, restaurant...           1   \n",
       "1  [(Excellent, view, on, the, ocean, at, sunset,...           6   \n",
       "2  [(This, place, was, not, what, the, reviews, p...           8   \n",
       "3  [(We, were, excited, to, repeat, our, Keoki, '...           2   \n",
       "4  [(If, you, 're, looking, for, a, tourist, spot...           6   \n",
       "\n",
       "                                          topic_list  \\\n",
       "0                              5,2,1,3,6,3,2,0,6,1,5   \n",
       "1                                          6,3,8,6,9   \n",
       "2                        6,8,2,5,4,8,3,9,8,8,8,1,7,6   \n",
       "3  2,4,9,0,5,3,7,1,0,4,0,5,5,8,6,9,2,8,6,2,2,1,6,...   \n",
       "4                                6,9,8,6,4,0,5,3,1,9   \n",
       "\n",
       "                                         sent_topics  \n",
       "0  [(5, 0.181669682264328), (2, 0.186504259705543...  \n",
       "1  [(6, 0.146974578499794), (3, 0.139927998185157...  \n",
       "2  [(6, 0.15684203803539276), (8, 0.2266744673252...  \n",
       "3  [(2, 0.1735130101442337), (4, 0.13328838348388...  \n",
       "4  [(6, 0.1469745934009552), (9, 0.20430350303649...  "
      ]
     },
     "execution_count": 83,
     "metadata": {},
     "output_type": "execute_result"
    }
   ],
   "source": [
    "df.loc[:, ['alias', 'ratingValue', 'word_tokens_doc', 'topic_mode', 'topic_list', 'sent_topics']].head()"
   ]
  },
  {
   "cell_type": "code",
   "execution_count": 87,
   "metadata": {},
   "outputs": [],
   "source": [
    "df.to_csv('../../data/processed/yp_competitors_rws_0001_0050_topics.csv', index=False)"
   ]
  },
  {
   "cell_type": "code",
   "execution_count": 86,
   "metadata": {},
   "outputs": [
    {
     "data": {
      "text/html": [
       "<div>\n",
       "<style scoped>\n",
       "    .dataframe tbody tr th:only-of-type {\n",
       "        vertical-align: middle;\n",
       "    }\n",
       "\n",
       "    .dataframe tbody tr th {\n",
       "        vertical-align: top;\n",
       "    }\n",
       "\n",
       "    .dataframe thead th {\n",
       "        text-align: right;\n",
       "    }\n",
       "</style>\n",
       "<table border=\"1\" class=\"dataframe\">\n",
       "  <thead>\n",
       "    <tr style=\"text-align: right;\">\n",
       "      <th></th>\n",
       "      <th>norm_tokens_doc</th>\n",
       "      <th>topic</th>\n",
       "      <th>prob</th>\n",
       "    </tr>\n",
       "  </thead>\n",
       "  <tbody>\n",
       "    <tr>\n",
       "      <th>136022</th>\n",
       "      <td>(husband, surpris, birthday, cake, kristi)</td>\n",
       "      <td>6</td>\n",
       "      <td>0.147207</td>\n",
       "    </tr>\n",
       "    <tr>\n",
       "      <th>136023</th>\n",
       "      <td>(last, minut, abl, make, happen)</td>\n",
       "      <td>4</td>\n",
       "      <td>0.148071</td>\n",
       "    </tr>\n",
       "    <tr>\n",
       "      <th>136024</th>\n",
       "      <td>(unfortun, n't, like, pineappl, cake)</td>\n",
       "      <td>6</td>\n",
       "      <td>0.142321</td>\n",
       "    </tr>\n",
       "    <tr>\n",
       "      <th>136025</th>\n",
       "      <td>(thought, kind, dri, side, also, may, fridg, d...</td>\n",
       "      <td>5</td>\n",
       "      <td>0.153565</td>\n",
       "    </tr>\n",
       "    <tr>\n",
       "      <th>136026</th>\n",
       "      <td>(cake, gluten, free)</td>\n",
       "      <td>6</td>\n",
       "      <td>0.185749</td>\n",
       "    </tr>\n",
       "    <tr>\n",
       "      <th>136027</th>\n",
       "      <td>('m, sure, realiz, specialti, bakeri)</td>\n",
       "      <td>6</td>\n",
       "      <td>0.173672</td>\n",
       "    </tr>\n",
       "    <tr>\n",
       "      <th>136028</th>\n",
       "      <td>(like, carrot, cake, 's, fave)</td>\n",
       "      <td>3</td>\n",
       "      <td>0.126636</td>\n",
       "    </tr>\n",
       "    <tr>\n",
       "      <th>136029</th>\n",
       "      <td>(anyway, sweet, gestur, husband, 's, part, eve...</td>\n",
       "      <td>6</td>\n",
       "      <td>0.139029</td>\n",
       "    </tr>\n",
       "    <tr>\n",
       "      <th>136030</th>\n",
       "      <td>(thank, kristi, short, notic, cake)</td>\n",
       "      <td>3</td>\n",
       "      <td>0.132093</td>\n",
       "    </tr>\n",
       "    <tr>\n",
       "      <th>136031</th>\n",
       "      <td>('m, sure, could, 've, gotten, someth, like, w...</td>\n",
       "      <td>1</td>\n",
       "      <td>0.175870</td>\n",
       "    </tr>\n",
       "    <tr>\n",
       "      <th>136032</th>\n",
       "      <td>(cream, chees, frost)</td>\n",
       "      <td>8</td>\n",
       "      <td>0.170084</td>\n",
       "    </tr>\n",
       "  </tbody>\n",
       "</table>\n",
       "</div>"
      ],
      "text/plain": [
       "                                          norm_tokens_doc  topic      prob\n",
       "136022         (husband, surpris, birthday, cake, kristi)      6  0.147207\n",
       "136023                   (last, minut, abl, make, happen)      4  0.148071\n",
       "136024              (unfortun, n't, like, pineappl, cake)      6  0.142321\n",
       "136025  (thought, kind, dri, side, also, may, fridg, d...      5  0.153565\n",
       "136026                               (cake, gluten, free)      6  0.185749\n",
       "136027              ('m, sure, realiz, specialti, bakeri)      6  0.173672\n",
       "136028                     (like, carrot, cake, 's, fave)      3  0.126636\n",
       "136029  (anyway, sweet, gestur, husband, 's, part, eve...      6  0.139029\n",
       "136030                (thank, kristi, short, notic, cake)      3  0.132093\n",
       "136031  ('m, sure, could, 've, gotten, someth, like, w...      1  0.175870\n",
       "136032                              (cream, chees, frost)      8  0.170084"
      ]
     },
     "execution_count": 86,
     "metadata": {},
     "output_type": "execute_result"
    }
   ],
   "source": [
    "pd_doc_temp"
   ]
  },
  {
   "cell_type": "code",
   "execution_count": null,
   "metadata": {},
   "outputs": [],
   "source": [
    "from sklearn.manifold import TSNE\n",
    "from sklearn.decomposition import PCA\n",
    "\n",
    "# Get topic weights\n",
    "topic_weights = []\n",
    "for i, row_list in enumerate(lda_model[doc_term_matrix]):\n",
    "    topic_weights.append([w for i, w in row_list])"
   ]
  },
  {
   "cell_type": "code",
   "execution_count": null,
   "metadata": {},
   "outputs": [],
   "source": [
    "# Array of topic weights    \n",
    "arr = pd.DataFrame(topic_weights).fillna(0)"
   ]
  },
  {
   "cell_type": "code",
   "execution_count": null,
   "metadata": {},
   "outputs": [],
   "source": [
    "# Keep the well separated points (optional)\n",
    "arr = arr[np.amax(arr, axis=1) > 0.35]\n",
    "arr.shape\n",
    "\n",
    "# Dominant topic number in each doc\n",
    "# topic_num = np.argmax(arr, axis=1)"
   ]
  },
  {
   "cell_type": "code",
   "execution_count": null,
   "metadata": {},
   "outputs": [],
   "source": [
    "# fit a 2d PCA model to the vectors\n",
    "pca = PCA(n_components=2)\n",
    "pca_lda = pca.fit_transform(arr)\n",
    "pca_lda.shape"
   ]
  },
  {
   "cell_type": "code",
   "execution_count": null,
   "metadata": {},
   "outputs": [],
   "source": [
    "tsne_model = TSNE(n_components=2, verbose=1, random_state=0, angle=.99, init='pca')\n",
    "tsne_lda = tsne_model.fit_transform(arr)\n",
    "tsne_lda.shape"
   ]
  },
  {
   "cell_type": "code",
   "execution_count": null,
   "metadata": {},
   "outputs": [],
   "source": [
    "import matplotlib.pyplot as plt\n",
    "def plot_embedding(X, title=None):\n",
    "    x_min, x_max = np.min(X, 0), np.max(X, 0)\n",
    "    X = (X - x_min) / (x_max - x_min)   \n",
    "    y = range(X.shape[0])\n",
    "    plt.figure()\n",
    "    ax = plt.subplot(111)\n",
    "    for i in range(X.shape[0]):\n",
    "        plt.text(X[i, 0], X[i, 1], 'x',\n",
    "                 color=plt.cm.Set1(y[i] / 10.),\n",
    "                 fontdict={'weight': 'bold', 'size': 9})\n",
    "    plt.xticks([]), plt.yticks([])\n",
    "    if title is not None:\n",
    "        plt.title(title)\n",
    "plot_embedding(tsne_lda)"
   ]
  },
  {
   "cell_type": "code",
   "execution_count": null,
   "metadata": {},
   "outputs": [],
   "source": [
    "plt.scatter(pca_lda[:,0], pca_lda[:,1], color=plt.cm.Set1(range(len(pca_lda))))"
   ]
  },
  {
   "cell_type": "code",
   "execution_count": null,
   "metadata": {},
   "outputs": [],
   "source": [
    "import pyLDAvis.gensim\n",
    "pyLDAvis.enable_notebook()\n",
    "vis = pyLDAvis.gensim.prepare(lda_model, doc_term_matrix, dictionary=lda_model.id2word)\n",
    "vis"
   ]
  },
  {
   "cell_type": "code",
   "execution_count": null,
   "metadata": {},
   "outputs": [],
   "source": []
  }
 ],
 "metadata": {
  "kernelspec": {
   "display_name": "Python 3",
   "language": "python",
   "name": "python3"
  },
  "language_info": {
   "codemirror_mode": {
    "name": "ipython",
    "version": 3
   },
   "file_extension": ".py",
   "mimetype": "text/x-python",
   "name": "python",
   "nbconvert_exporter": "python",
   "pygments_lexer": "ipython3",
   "version": "3.7.1"
  }
 },
 "nbformat": 4,
 "nbformat_minor": 2
}
