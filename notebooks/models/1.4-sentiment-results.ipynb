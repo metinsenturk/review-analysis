{
 "cells": [
  {
   "cell_type": "code",
   "execution_count": 1,
   "metadata": {},
   "outputs": [
    {
     "name": "stdout",
     "output_type": "stream",
     "text": [
      "<class 'pandas.core.frame.DataFrame'>\n",
      "RangeIndex: 195769 entries, 0 to 195768\n",
      "Data columns (total 6 columns):\n",
      "sgd      195769 non-null int64\n",
      "log      195769 non-null int64\n",
      "mnb      195769 non-null int64\n",
      "sgd.1    195769 non-null int64\n",
      "log.1    195769 non-null int64\n",
      "mnb.1    195769 non-null int64\n",
      "dtypes: int64(6)\n",
      "memory usage: 9.0 MB\n"
     ]
    }
   ],
   "source": [
    "import pandas as pd\n",
    "import numpy as np\n",
    "\n",
    "filepath_hi = '../../data/processed/hi_rws_0001_0256_sentiments.csv'\n",
    "df = pd.read_csv(filepath_hi)\n",
    "df.info()"
   ]
  },
  {
   "cell_type": "code",
   "execution_count": 3,
   "metadata": {},
   "outputs": [],
   "source": [
    "filepath_hi = '../../data/processed/hi_rws_0001_0256_complete.csv'\n",
    "df2 = pd.read_csv(filepath_hi)"
   ]
  },
  {
   "cell_type": "code",
   "execution_count": 8,
   "metadata": {},
   "outputs": [
    {
     "data": {
      "text/html": [
       "<div>\n",
       "<style scoped>\n",
       "    .dataframe tbody tr th:only-of-type {\n",
       "        vertical-align: middle;\n",
       "    }\n",
       "\n",
       "    .dataframe tbody tr th {\n",
       "        vertical-align: top;\n",
       "    }\n",
       "\n",
       "    .dataframe thead th {\n",
       "        text-align: right;\n",
       "    }\n",
       "</style>\n",
       "<table border=\"1\" class=\"dataframe\">\n",
       "  <thead>\n",
       "    <tr style=\"text-align: right;\">\n",
       "      <th></th>\n",
       "      <th>classifier</th>\n",
       "      <th>score</th>\n",
       "    </tr>\n",
       "  </thead>\n",
       "  <tbody>\n",
       "    <tr>\n",
       "      <th>3</th>\n",
       "      <td>sgd.1</td>\n",
       "      <td>0.929330</td>\n",
       "    </tr>\n",
       "    <tr>\n",
       "      <th>0</th>\n",
       "      <td>sgd</td>\n",
       "      <td>0.920723</td>\n",
       "    </tr>\n",
       "    <tr>\n",
       "      <th>5</th>\n",
       "      <td>mnb.1</td>\n",
       "      <td>0.914583</td>\n",
       "    </tr>\n",
       "    <tr>\n",
       "      <th>2</th>\n",
       "      <td>mnb</td>\n",
       "      <td>0.904985</td>\n",
       "    </tr>\n",
       "    <tr>\n",
       "      <th>4</th>\n",
       "      <td>log.1</td>\n",
       "      <td>0.888660</td>\n",
       "    </tr>\n",
       "    <tr>\n",
       "      <th>1</th>\n",
       "      <td>log</td>\n",
       "      <td>0.755278</td>\n",
       "    </tr>\n",
       "  </tbody>\n",
       "</table>\n",
       "</div>"
      ],
      "text/plain": [
       "  classifier     score\n",
       "3      sgd.1  0.929330\n",
       "0        sgd  0.920723\n",
       "5      mnb.1  0.914583\n",
       "2        mnb  0.904985\n",
       "4      log.1  0.888660\n",
       "1        log  0.755278"
      ]
     },
     "execution_count": 8,
     "metadata": {},
     "output_type": "execute_result"
    }
   ],
   "source": [
    "from sklearn.metrics import classification_report\n",
    "from sklearn.metrics import accuracy_score\n",
    "\n",
    "accuracies = []\n",
    "for column in df.columns:\n",
    "    accuracies.append((column, accuracy_score(df2.sentiment, df[column])))\n",
    "\n",
    "pd.DataFrame(accuracies, columns=['classifier', 'score']).sort_values(by='score', ascending=False)"
   ]
  },
  {
   "cell_type": "code",
   "execution_count": 12,
   "metadata": {},
   "outputs": [
    {
     "name": "stdout",
     "output_type": "stream",
     "text": [
      "CLASSIFICATION REPORT FOR : SGD\n",
      "              precision    recall  f1-score   support\n",
      "\n",
      "           0       0.88      0.78      0.83     47909\n",
      "           1       0.93      0.97      0.95    147860\n",
      "\n",
      "   micro avg       0.92      0.92      0.92    195769\n",
      "   macro avg       0.91      0.87      0.89    195769\n",
      "weighted avg       0.92      0.92      0.92    195769\n",
      "\n",
      "CLASSIFICATION REPORT FOR : LOG\n"
     ]
    },
    {
     "name": "stderr",
     "output_type": "stream",
     "text": [
      "/Applications/anaconda3/envs/text/lib/python3.7/site-packages/sklearn/metrics/classification.py:1143: UndefinedMetricWarning: Precision and F-score are ill-defined and being set to 0.0 in labels with no predicted samples.\n",
      "  'precision', 'predicted', average, warn_for)\n"
     ]
    },
    {
     "name": "stdout",
     "output_type": "stream",
     "text": [
      "              precision    recall  f1-score   support\n",
      "\n",
      "           0       0.00      0.00      0.00     47909\n",
      "           1       0.76      1.00      0.86    147860\n",
      "\n",
      "   micro avg       0.76      0.76      0.76    195769\n",
      "   macro avg       0.38      0.50      0.43    195769\n",
      "weighted avg       0.57      0.76      0.65    195769\n",
      "\n",
      "CLASSIFICATION REPORT FOR : MNB\n",
      "              precision    recall  f1-score   support\n",
      "\n",
      "           0       0.94      0.65      0.77     47909\n",
      "           1       0.90      0.99      0.94    147860\n",
      "\n",
      "   micro avg       0.90      0.90      0.90    195769\n",
      "   macro avg       0.92      0.82      0.86    195769\n",
      "weighted avg       0.91      0.90      0.90    195769\n",
      "\n",
      "CLASSIFICATION REPORT FOR : SGD.1\n",
      "              precision    recall  f1-score   support\n",
      "\n",
      "           0       0.89      0.81      0.85     47909\n",
      "           1       0.94      0.97      0.95    147860\n",
      "\n",
      "   micro avg       0.93      0.93      0.93    195769\n",
      "   macro avg       0.92      0.89      0.90    195769\n",
      "weighted avg       0.93      0.93      0.93    195769\n",
      "\n",
      "CLASSIFICATION REPORT FOR : LOG.1\n",
      "              precision    recall  f1-score   support\n",
      "\n",
      "           0       0.89      0.63      0.73     47909\n",
      "           1       0.89      0.97      0.93    147860\n",
      "\n",
      "   micro avg       0.89      0.89      0.89    195769\n",
      "   macro avg       0.89      0.80      0.83    195769\n",
      "weighted avg       0.89      0.89      0.88    195769\n",
      "\n",
      "CLASSIFICATION REPORT FOR : MNB.1\n",
      "              precision    recall  f1-score   support\n",
      "\n",
      "           0       0.83      0.82      0.82     47909\n",
      "           1       0.94      0.94      0.94    147860\n",
      "\n",
      "   micro avg       0.91      0.91      0.91    195769\n",
      "   macro avg       0.89      0.88      0.88    195769\n",
      "weighted avg       0.91      0.91      0.91    195769\n",
      "\n"
     ]
    }
   ],
   "source": [
    "for column in df.columns:\n",
    "    print(f\"classification report for : {column}\".upper())\n",
    "    print(classification_report(df2.sentiment, df[column]))"
   ]
  },
  {
   "cell_type": "code",
   "execution_count": null,
   "metadata": {},
   "outputs": [],
   "source": []
  }
 ],
 "metadata": {
  "kernelspec": {
   "display_name": "Python 3",
   "language": "python",
   "name": "python3"
  },
  "language_info": {
   "codemirror_mode": {
    "name": "ipython",
    "version": 3
   },
   "file_extension": ".py",
   "mimetype": "text/x-python",
   "name": "python",
   "nbconvert_exporter": "python",
   "pygments_lexer": "ipython3",
   "version": "3.7.1"
  }
 },
 "nbformat": 4,
 "nbformat_minor": 2
}
