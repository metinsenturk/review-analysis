{
 "cells": [
  {
   "cell_type": "code",
   "execution_count": 25,
   "metadata": {},
   "outputs": [
    {
     "name": "stdout",
     "output_type": "stream",
     "text": [
      "<class 'pandas.core.frame.DataFrame'>\n",
      "RangeIndex: 1000 entries, 0 to 999\n",
      "Data columns (total 1 columns):\n",
      "norm_tokens_doc    1000 non-null object\n",
      "dtypes: object(1)\n",
      "memory usage: 7.9+ KB\n"
     ]
    }
   ],
   "source": [
    "import pandas as pd\n",
    "import numpy as np\n",
    "\n",
    "df = pd.read_csv(\n",
    "    filepath_or_buffer='../../data-server/processed/hi_rws_0001_0256_processed.csv', \n",
    "    header=None, \n",
    "    names=['norm_tokens_doc'],\n",
    "    nrows=1000\n",
    ")\n",
    "df.info()"
   ]
  },
  {
   "cell_type": "code",
   "execution_count": 26,
   "metadata": {},
   "outputs": [],
   "source": [
    "# file fix\n",
    "from itertools import chain\n",
    "from ast import literal_eval\n",
    "df.norm_tokens_doc = df.norm_tokens_doc.apply(lambda x: literal_eval(x))\n",
    "df['norm_tokens'] = df.norm_tokens_doc.apply(lambda x: list(chain(*x)))"
   ]
  },
  {
   "cell_type": "code",
   "execution_count": 28,
   "metadata": {},
   "outputs": [
    {
     "data": {
      "text/plain": [
       "0    [stumble, great, restaurant, overlook, ocean, ...\n",
       "1    [excellent, view, ocean, sunset, excellent, fo...\n",
       "2    [place, what, review, portray, starter, be, wa...\n",
       "3    [be, excited, repeat, keoki, kauai, lovefest, ...\n",
       "4    [look, tourist, spot, could, tell, other, revi...\n",
       "Name: norm_tokens, dtype: object"
      ]
     },
     "execution_count": 28,
     "metadata": {},
     "output_type": "execute_result"
    }
   ],
   "source": [
    "df.norm_tokens.head()"
   ]
  },
  {
   "cell_type": "code",
   "execution_count": 29,
   "metadata": {},
   "outputs": [
    {
     "data": {
      "text/plain": [
       "0    [(stumble, great, restaurant, overlook, ocean,...\n",
       "1    [(excellent, view, ocean, sunset), (excellent,...\n",
       "2    [(place, what, review, portray), (starter, be,...\n",
       "3    [(be, excited, repeat, keoki, kauai, lovefest,...\n",
       "4    [(look, tourist, spot), (could, tell, other, r...\n",
       "Name: norm_tokens_doc, dtype: object"
      ]
     },
     "execution_count": 29,
     "metadata": {},
     "output_type": "execute_result"
    }
   ],
   "source": [
    "df.norm_tokens_doc.head()"
   ]
  },
  {
   "cell_type": "code",
   "execution_count": 65,
   "metadata": {},
   "outputs": [
    {
     "name": "stdout",
     "output_type": "stream",
     "text": [
      "iteration 0 0.03\n",
      "iteration 1 0.02\n",
      "iteration 2 0.02\n",
      "iteration 3 0.02\n",
      "iteration 4 0.02\n",
      "iteration 5 0.02\n",
      "iteration 6 0.02\n",
      "iteration 7 0.02\n",
      "iteration 8 0.02\n",
      "iteration 9 0.02\n",
      "iteration 10 0.02\n",
      "iteration 11 0.02\n",
      "iteration 12 0.02\n",
      "iteration 13 0.02\n",
      "iteration 14 0.02\n",
      "iteration 15 0.02\n",
      "iteration 16 0.02\n",
      "iteration 17 0.02\n",
      "iteration 18 0.02\n",
      "iteration 19 0.02\n"
     ]
    }
   ],
   "source": [
    "from gensim.models.doc2vec import Doc2Vec, TaggedDocument\n",
    "\n",
    "docs = []\n",
    "for i, norm_token in enumerate(df.norm_tokens):\n",
    "    docs.append(TaggedDocument(norm_token, tags=[i]))\n",
    "    \n",
    "model = Doc2Vec(vector_size=5, window=5, min_count=5, workers=4, epochs=20)\n",
    "model.build_vocab(docs)\n",
    "\n",
    "for epoch in range(20):\n",
    "    print('iteration {0}'.format(epoch), round(model.alpha, 4))\n",
    "    model.train(docs,\n",
    "                total_examples=model.corpus_count,\n",
    "                epochs=epoch)\n",
    "    # decrease the learning rate\n",
    "    model.alpha -= 0.0002\n",
    "    # fix the learning rate, no decay\n",
    "    model.min_alpha = model.alpha"
   ]
  },
  {
   "cell_type": "code",
   "execution_count": 51,
   "metadata": {},
   "outputs": [
    {
     "name": "stdout",
     "output_type": "stream",
     "text": [
      "V1_infer [-1.5833927  -0.15099673 -0.59771276  0.3375695  -0.15267925]\n"
     ]
    }
   ],
   "source": [
    "v1 = model.infer_vector(df.norm_tokens[0])\n",
    "print(\"V1_infer\", v1)"
   ]
  },
  {
   "cell_type": "code",
   "execution_count": 53,
   "metadata": {},
   "outputs": [
    {
     "data": {
      "text/plain": [
       "array([-3.656094 , -0.5240415, -1.1318668,  5.417684 ,  1.8410473],\n",
       "      dtype=float32)"
      ]
     },
     "execution_count": 53,
     "metadata": {},
     "output_type": "execute_result"
    }
   ],
   "source": [
    "model.docvecs[1]"
   ]
  },
  {
   "cell_type": "code",
   "execution_count": 55,
   "metadata": {},
   "outputs": [
    {
     "data": {
      "text/plain": [
       "[(120, 0.9888421297073364),\n",
       " (227, 0.9845942258834839),\n",
       " (346, 0.9814838171005249),\n",
       " (827, 0.9726826548576355),\n",
       " (847, 0.9725509881973267),\n",
       " (206, 0.9701384902000427),\n",
       " (557, 0.9696964621543884),\n",
       " (994, 0.9688946008682251),\n",
       " (772, 0.9659287929534912),\n",
       " (419, 0.9657495617866516)]"
      ]
     },
     "execution_count": 55,
     "metadata": {},
     "output_type": "execute_result"
    }
   ],
   "source": [
    "model.docvecs.most_similar(1)"
   ]
  },
  {
   "cell_type": "code",
   "execution_count": 57,
   "metadata": {},
   "outputs": [
    {
     "name": "stdout",
     "output_type": "stream",
     "text": [
      "['excellent', 'view', 'ocean', 'sunset', 'excellent', 'food', 'fresh', 'fish', 'coconut', 'yuzu', 'husband', 'love', 'waitress', 'nice']\n",
      "['bake', 'fish', 'pink', 'snapper', 'line', 'catch', 'good', 'go', 'recommend', 'place']\n"
     ]
    }
   ],
   "source": [
    "print(df.norm_tokens[1])\n",
    "print(df.norm_tokens[227])"
   ]
  },
  {
   "cell_type": "code",
   "execution_count": null,
   "metadata": {},
   "outputs": [],
   "source": []
  }
 ],
 "metadata": {
  "kernelspec": {
   "display_name": "Python 3",
   "language": "python",
   "name": "python3"
  },
  "language_info": {
   "codemirror_mode": {
    "name": "ipython",
    "version": 3
   },
   "file_extension": ".py",
   "mimetype": "text/x-python",
   "name": "python",
   "nbconvert_exporter": "python",
   "pygments_lexer": "ipython3",
   "version": "3.7.1"
  }
 },
 "nbformat": 4,
 "nbformat_minor": 2
}
