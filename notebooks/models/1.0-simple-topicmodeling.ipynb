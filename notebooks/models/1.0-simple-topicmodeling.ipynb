{
 "cells": [
  {
   "cell_type": "code",
   "execution_count": 1,
   "metadata": {},
   "outputs": [],
   "source": [
    "import pandas as pd\n",
    "import numpy as np\n",
    "\n",
    "file_path = \"../../data/processed/yp_kimos-maui-lahaina_rws_preprocessed.csv\"\n",
    "file_path = \"../../data/processed/yp_kimos-maui-lahaina_rws_sentiment.csv\"\n",
    "# file_path = \"../../data/raw/yp_competitors_rws.csv\"\n",
    "df = pd.read_csv(file_path)"
   ]
  },
  {
   "cell_type": "code",
   "execution_count": 2,
   "metadata": {},
   "outputs": [],
   "source": [
    "from itertools import chain\n",
    "import ast\n",
    "# csv list fix with : ast\n",
    "df.norm_tokens = df.norm_tokens.apply(lambda x: ast.literal_eval(x))\n",
    "df.sent_tokens = df.sent_tokens.apply(lambda x: ast.literal_eval(x))\n",
    "df.pos_tag = df.pos_tag.apply(lambda x: ast.literal_eval(x))\n",
    "df.word_tokens = df.word_tokens.apply(lambda x: ast.literal_eval(x))"
   ]
  },
  {
   "cell_type": "code",
   "execution_count": 3,
   "metadata": {},
   "outputs": [
    {
     "data": {
      "text/html": [
       "<div>\n",
       "<style scoped>\n",
       "    .dataframe tbody tr th:only-of-type {\n",
       "        vertical-align: middle;\n",
       "    }\n",
       "\n",
       "    .dataframe tbody tr th {\n",
       "        vertical-align: top;\n",
       "    }\n",
       "\n",
       "    .dataframe thead th {\n",
       "        text-align: right;\n",
       "    }\n",
       "</style>\n",
       "<table border=\"1\" class=\"dataframe\">\n",
       "  <thead>\n",
       "    <tr style=\"text-align: right;\">\n",
       "      <th></th>\n",
       "      <th>status</th>\n",
       "      <th>reviews</th>\n",
       "      <th>sent_tokens</th>\n",
       "      <th>word_tokens</th>\n",
       "      <th>pos_tag</th>\n",
       "      <th>norm_tokens</th>\n",
       "      <th>SGDClassifier</th>\n",
       "      <th>LogisticRegression</th>\n",
       "      <th>MultinomialNB</th>\n",
       "    </tr>\n",
       "  </thead>\n",
       "  <tbody>\n",
       "    <tr>\n",
       "      <th>0</th>\n",
       "      <td>1</td>\n",
       "      <td>Kimo's never disappoints.  We come here once o...</td>\n",
       "      <td>[Kimo's never disappoints., We come here once ...</td>\n",
       "      <td>[Kimo, never, disappoints, We, come, here, onc...</td>\n",
       "      <td>[(Kimo, NNP), (never, RB), (disappoints, VBZ),...</td>\n",
       "      <td>[kimo, never, disappoint, come, everi, trip, m...</td>\n",
       "      <td>1</td>\n",
       "      <td>1</td>\n",
       "      <td>1</td>\n",
       "    </tr>\n",
       "    <tr>\n",
       "      <th>1</th>\n",
       "      <td>0</td>\n",
       "      <td>I was there the first week of October and Firs...</td>\n",
       "      <td>[I was there the first week of October and Fir...</td>\n",
       "      <td>[I, was, there, the, first, week, of, October,...</td>\n",
       "      <td>[(I, PRP), (was, VBD), (there, RB), (the, DT),...</td>\n",
       "      <td>[first, week, octob, first, think, staff, wond...</td>\n",
       "      <td>0</td>\n",
       "      <td>0</td>\n",
       "      <td>1</td>\n",
       "    </tr>\n",
       "    <tr>\n",
       "      <th>2</th>\n",
       "      <td>1</td>\n",
       "      <td>This place was on my \"Must Do Maui\" list and i...</td>\n",
       "      <td>[This place was on my \"Must Do Maui\" list and ...</td>\n",
       "      <td>[This, place, was, on, my, Must, Do, Maui, lis...</td>\n",
       "      <td>[(This, DT), (place, NN), (was, VBD), (on, IN)...</td>\n",
       "      <td>[place, must, maui, list, disappoint, must, co...</td>\n",
       "      <td>1</td>\n",
       "      <td>1</td>\n",
       "      <td>1</td>\n",
       "    </tr>\n",
       "    <tr>\n",
       "      <th>3</th>\n",
       "      <td>0</td>\n",
       "      <td>Monday night dinner here and they quickly sat ...</td>\n",
       "      <td>[Monday night dinner here and they quickly sat...</td>\n",
       "      <td>[Monday, night, dinner, here, and, they, quick...</td>\n",
       "      <td>[(Monday, NNP), (night, NN), (dinner, NN), (he...</td>\n",
       "      <td>[monday, night, dinner, quickli, sat, group, u...</td>\n",
       "      <td>1</td>\n",
       "      <td>1</td>\n",
       "      <td>1</td>\n",
       "    </tr>\n",
       "    <tr>\n",
       "      <th>4</th>\n",
       "      <td>1</td>\n",
       "      <td>Nice view and amazing cocktails. They are loca...</td>\n",
       "      <td>[Nice view and amazing cocktails., They are lo...</td>\n",
       "      <td>[Nice, view, and, amazing, cocktails, They, ar...</td>\n",
       "      <td>[(Nice, NNP), (view, NN), (and, CC), (amazing,...</td>\n",
       "      <td>[nice, view, amaz, cocktail, locat, right, lah...</td>\n",
       "      <td>1</td>\n",
       "      <td>1</td>\n",
       "      <td>1</td>\n",
       "    </tr>\n",
       "  </tbody>\n",
       "</table>\n",
       "</div>"
      ],
      "text/plain": [
       "   status                                            reviews  \\\n",
       "0       1  Kimo's never disappoints.  We come here once o...   \n",
       "1       0  I was there the first week of October and Firs...   \n",
       "2       1  This place was on my \"Must Do Maui\" list and i...   \n",
       "3       0  Monday night dinner here and they quickly sat ...   \n",
       "4       1  Nice view and amazing cocktails. They are loca...   \n",
       "\n",
       "                                         sent_tokens  \\\n",
       "0  [Kimo's never disappoints., We come here once ...   \n",
       "1  [I was there the first week of October and Fir...   \n",
       "2  [This place was on my \"Must Do Maui\" list and ...   \n",
       "3  [Monday night dinner here and they quickly sat...   \n",
       "4  [Nice view and amazing cocktails., They are lo...   \n",
       "\n",
       "                                         word_tokens  \\\n",
       "0  [Kimo, never, disappoints, We, come, here, onc...   \n",
       "1  [I, was, there, the, first, week, of, October,...   \n",
       "2  [This, place, was, on, my, Must, Do, Maui, lis...   \n",
       "3  [Monday, night, dinner, here, and, they, quick...   \n",
       "4  [Nice, view, and, amazing, cocktails, They, ar...   \n",
       "\n",
       "                                             pos_tag  \\\n",
       "0  [(Kimo, NNP), (never, RB), (disappoints, VBZ),...   \n",
       "1  [(I, PRP), (was, VBD), (there, RB), (the, DT),...   \n",
       "2  [(This, DT), (place, NN), (was, VBD), (on, IN)...   \n",
       "3  [(Monday, NNP), (night, NN), (dinner, NN), (he...   \n",
       "4  [(Nice, NNP), (view, NN), (and, CC), (amazing,...   \n",
       "\n",
       "                                         norm_tokens  SGDClassifier  \\\n",
       "0  [kimo, never, disappoint, come, everi, trip, m...              1   \n",
       "1  [first, week, octob, first, think, staff, wond...              0   \n",
       "2  [place, must, maui, list, disappoint, must, co...              1   \n",
       "3  [monday, night, dinner, quickli, sat, group, u...              1   \n",
       "4  [nice, view, amaz, cocktail, locat, right, lah...              1   \n",
       "\n",
       "   LogisticRegression  MultinomialNB  \n",
       "0                   1              1  \n",
       "1                   0              1  \n",
       "2                   1              1  \n",
       "3                   1              1  \n",
       "4                   1              1  "
      ]
     },
     "execution_count": 3,
     "metadata": {},
     "output_type": "execute_result"
    }
   ],
   "source": [
    "df.head()"
   ]
  },
  {
   "cell_type": "markdown",
   "metadata": {},
   "source": [
    "## Bad Sentiment"
   ]
  },
  {
   "cell_type": "code",
   "execution_count": 27,
   "metadata": {},
   "outputs": [],
   "source": [
    "import gensim\n",
    "from gensim.corpora import Dictionary\n",
    "\n",
    "data = df[df.SGDClassifier == 0].norm_tokens\n",
    "\n",
    "dct = Dictionary(documents=data)\n",
    "doc_term_matrix = [dct.doc2bow(doc) for doc in data]"
   ]
  },
  {
   "cell_type": "code",
   "execution_count": 28,
   "metadata": {},
   "outputs": [],
   "source": [
    "Lda = gensim.models.ldamodel.LdaModel\n",
    "\n",
    "# Running and Trainign LDA model on the document term matrix.\n",
    "ldamodel = Lda(doc_term_matrix, num_topics=10, id2word = dct, passes=50)"
   ]
  },
  {
   "cell_type": "code",
   "execution_count": 29,
   "metadata": {
    "scrolled": false
   },
   "outputs": [
    {
     "data": {
      "text/plain": [
       "[(7,\n",
       "  [('food', 0.013170909),\n",
       "   ('reserv', 0.012963942),\n",
       "   ('tabl', 0.012481661),\n",
       "   ('view', 0.010594542),\n",
       "   ('u', 0.010209658),\n",
       "   ('order', 0.009206452),\n",
       "   ('time', 0.009112759),\n",
       "   ('seat', 0.008993858)]),\n",
       " (4,\n",
       "  [('food', 0.019676236),\n",
       "   ('place', 0.014595362),\n",
       "   ('fish', 0.010837861),\n",
       "   ('servic', 0.010774793),\n",
       "   ('view', 0.008399862),\n",
       "   ('good', 0.007767787),\n",
       "   ('great', 0.007619102),\n",
       "   ('get', 0.006643401)]),\n",
       " (0,\n",
       "  [('drink', 0.015735244),\n",
       "   ('water', 0.011600554),\n",
       "   ('order', 0.011125913),\n",
       "   ('food', 0.010888646),\n",
       "   ('star', 0.0101080155),\n",
       "   ('good', 0.010054725),\n",
       "   ('fish', 0.0086845),\n",
       "   ('salad', 0.008607972)]),\n",
       " (2,\n",
       "  [('food', 0.01877921),\n",
       "   ('good', 0.0140706105),\n",
       "   ('u', 0.012591238),\n",
       "   ('like', 0.011654579),\n",
       "   ('place', 0.010118783),\n",
       "   ('would', 0.009504773),\n",
       "   ('time', 0.009485212),\n",
       "   ('order', 0.009417807)])]"
      ]
     },
     "execution_count": 29,
     "metadata": {},
     "output_type": "execute_result"
    }
   ],
   "source": [
    "ldamodel.show_topics(formatted=False, num_topics=4, num_words=8)"
   ]
  },
  {
   "cell_type": "code",
   "execution_count": 36,
   "metadata": {},
   "outputs": [
    {
     "data": {
      "text/plain": [
       "[(0,\n",
       "  '0.016*\"drink\" + 0.012*\"water\" + 0.011*\"order\" + 0.011*\"food\" + 0.010*\"star\" + 0.010*\"good\"'),\n",
       " (1,\n",
       "  '0.013*\"view\" + 0.011*\"drink\" + 0.011*\"star\" + 0.010*\"order\" + 0.009*\"rib\" + 0.008*\"good\"'),\n",
       " (2,\n",
       "  '0.019*\"food\" + 0.014*\"good\" + 0.013*\"u\" + 0.012*\"like\" + 0.010*\"place\" + 0.010*\"would\"'),\n",
       " (3,\n",
       "  '0.021*\"fish\" + 0.014*\"mahi\" + 0.013*\"kimo\" + 0.012*\"great\" + 0.011*\"servic\" + 0.010*\"food\"'),\n",
       " (4,\n",
       "  '0.020*\"food\" + 0.015*\"place\" + 0.011*\"fish\" + 0.011*\"servic\" + 0.008*\"view\" + 0.008*\"good\"'),\n",
       " (5,\n",
       "  '0.022*\"good\" + 0.020*\"food\" + 0.016*\"view\" + 0.014*\"place\" + 0.011*\"go\" + 0.009*\"back\"'),\n",
       " (6,\n",
       "  '0.033*\"food\" + 0.019*\"fish\" + 0.013*\"restaur\" + 0.013*\"view\" + 0.012*\"good\" + 0.012*\"would\"'),\n",
       " (7,\n",
       "  '0.013*\"food\" + 0.013*\"reserv\" + 0.012*\"tabl\" + 0.011*\"view\" + 0.010*\"u\" + 0.009*\"order\"'),\n",
       " (8,\n",
       "  '0.015*\"good\" + 0.012*\"fish\" + 0.012*\"view\" + 0.010*\"back\" + 0.010*\"dinner\" + 0.010*\"menu\"'),\n",
       " (9,\n",
       "  '0.023*\"tabl\" + 0.015*\"u\" + 0.014*\"order\" + 0.012*\"get\" + 0.012*\"restaur\" + 0.011*\"minut\"')]"
      ]
     },
     "execution_count": 36,
     "metadata": {},
     "output_type": "execute_result"
    }
   ],
   "source": [
    "ldamodel.print_topics(num_topics=10, num_words=6)"
   ]
  },
  {
   "cell_type": "markdown",
   "metadata": {},
   "source": [
    "## Good Sentiment"
   ]
  },
  {
   "cell_type": "code",
   "execution_count": 30,
   "metadata": {},
   "outputs": [],
   "source": [
    "import gensim\n",
    "from gensim.corpora import Dictionary\n",
    "\n",
    "data = df[df.SGDClassifier == 1].norm_tokens\n",
    "\n",
    "dct = Dictionary(documents=data)\n",
    "doc_term_matrix = [dct.doc2bow(doc) for doc in data]"
   ]
  },
  {
   "cell_type": "code",
   "execution_count": 31,
   "metadata": {},
   "outputs": [],
   "source": [
    "Lda = gensim.models.ldamodel.LdaModel\n",
    "\n",
    "# Running and Trainign LDA model on the document term matrix.\n",
    "ldamodel_g = Lda(doc_term_matrix, num_topics=10, id2word = dct, passes=50)"
   ]
  },
  {
   "cell_type": "code",
   "execution_count": 33,
   "metadata": {
    "scrolled": false
   },
   "outputs": [
    {
     "data": {
      "text/plain": [
       "[(3,\n",
       "  [('thing', 0.036333483),\n",
       "   ('definit', 0.024832819),\n",
       "   ('mud', 0.023434343),\n",
       "   ('whole', 0.022401651),\n",
       "   ('go', 0.020636775),\n",
       "   ('version', 0.020536),\n",
       "   ('cream', 0.01944762),\n",
       "   ('nut', 0.019254936)]),\n",
       " (0,\n",
       "  [('good', 0.038277593),\n",
       "   ('maui', 0.026822215),\n",
       "   ('happi', 0.020573765),\n",
       "   ('great', 0.020485612),\n",
       "   ('meal', 0.017246401),\n",
       "   ('servic', 0.014806148),\n",
       "   ('love', 0.01457709),\n",
       "   ('friendli', 0.013841357)]),\n",
       " (2,\n",
       "  [('best', 0.022226544),\n",
       "   ('kimo', 0.01838823),\n",
       "   ('ocean', 0.016363682),\n",
       "   ('crust', 0.016209945),\n",
       "   ('sit', 0.015821004),\n",
       "   ('visit', 0.015614692),\n",
       "   ('restaur', 0.01301303),\n",
       "   ('got', 0.012672749)]),\n",
       " (1,\n",
       "  [('rib', 0.024361359),\n",
       "   ('back', 0.019435657),\n",
       "   ('prime', 0.019142384),\n",
       "   ('get', 0.017717276),\n",
       "   ('u', 0.016318321),\n",
       "   ('place', 0.014658534),\n",
       "   ('bar', 0.013019672),\n",
       "   ('drink', 0.01291097)])]"
      ]
     },
     "execution_count": 33,
     "metadata": {},
     "output_type": "execute_result"
    }
   ],
   "source": [
    "ldamodel_g.show_topics(formatted=False, num_topics=4, num_words=8)"
   ]
  },
  {
   "cell_type": "code",
   "execution_count": 35,
   "metadata": {
    "scrolled": true
   },
   "outputs": [
    {
     "data": {
      "text/plain": [
       "[(0,\n",
       "  '0.038*\"good\" + 0.027*\"maui\" + 0.021*\"happi\" + 0.020*\"great\" + 0.017*\"meal\" + 0.015*\"servic\"'),\n",
       " (1,\n",
       "  '0.024*\"rib\" + 0.019*\"back\" + 0.019*\"prime\" + 0.018*\"get\" + 0.016*\"u\" + 0.015*\"place\"'),\n",
       " (2,\n",
       "  '0.022*\"best\" + 0.018*\"kimo\" + 0.016*\"ocean\" + 0.016*\"crust\" + 0.016*\"sit\" + 0.016*\"visit\"'),\n",
       " (3,\n",
       "  '0.036*\"thing\" + 0.025*\"definit\" + 0.023*\"mud\" + 0.022*\"whole\" + 0.021*\"go\" + 0.021*\"version\"'),\n",
       " (4,\n",
       "  '0.046*\"mahi\" + 0.022*\"rice\" + 0.020*\"dine\" + 0.019*\"view\" + 0.018*\"restaur\" + 0.017*\"delici\"'),\n",
       " (5,\n",
       "  '0.019*\"fish\" + 0.017*\"great\" + 0.016*\"view\" + 0.015*\"place\" + 0.014*\"food\" + 0.012*\"order\"'),\n",
       " (6,\n",
       "  '0.065*\"good\" + 0.027*\"fish\" + 0.025*\"coconut\" + 0.022*\"place\" + 0.020*\"view\" + 0.020*\"lunch\"'),\n",
       " (7,\n",
       "  '0.033*\"fish\" + 0.021*\"good\" + 0.020*\"kimo\" + 0.018*\"place\" + 0.017*\"great\" + 0.015*\"lahaina\"'),\n",
       " (8,\n",
       "  '0.034*\"pie\" + 0.028*\"hula\" + 0.022*\"time\" + 0.021*\"order\" + 0.020*\"dinner\" + 0.014*\"even\"'),\n",
       " (9,\n",
       "  '0.032*\"great\" + 0.026*\"servic\" + 0.023*\"kimo\" + 0.020*\"view\" + 0.020*\"food\" + 0.018*\"excel\"')]"
      ]
     },
     "execution_count": 35,
     "metadata": {},
     "output_type": "execute_result"
    }
   ],
   "source": [
    "ldamodel_g.print_topics(num_topics=10, num_words=6)"
   ]
  },
  {
   "cell_type": "markdown",
   "metadata": {},
   "source": [
    "## Other Things"
   ]
  },
  {
   "cell_type": "code",
   "execution_count": 58,
   "metadata": {},
   "outputs": [
    {
     "data": {
      "text/plain": [
       "(10, 5226)"
      ]
     },
     "execution_count": 58,
     "metadata": {},
     "output_type": "execute_result"
    }
   ],
   "source": [
    "ldamodel.get_topics().shape"
   ]
  },
  {
   "cell_type": "code",
   "execution_count": 37,
   "metadata": {},
   "outputs": [
    {
     "data": {
      "text/plain": [
       "[(2, 0.013989933),\n",
       " (3, 0.010071287),\n",
       " (5, 0.021612804),\n",
       " (6, 0.012078222),\n",
       " (8, 0.014196703)]"
      ]
     },
     "execution_count": 37,
     "metadata": {},
     "output_type": "execute_result"
    }
   ],
   "source": [
    "ldamodel.get_term_topics('good')"
   ]
  },
  {
   "cell_type": "code",
   "execution_count": 70,
   "metadata": {},
   "outputs": [],
   "source": [
    "ldamodel.save('../../model/topic.model')"
   ]
  },
  {
   "cell_type": "code",
   "execution_count": 74,
   "metadata": {},
   "outputs": [
    {
     "data": {
      "text/plain": [
       "[(2, '0.017*\"u\" + 0.012*\"place\" + 0.012*\"rib\" + 0.012*\"drink\" + 0.011*\"good\"'),\n",
       " (5, '0.039*\"fish\" + 0.024*\"mahi\" + 0.023*\"good\" + 0.012*\"rib\" + 0.012*\"got\"')]"
      ]
     },
     "execution_count": 74,
     "metadata": {},
     "output_type": "execute_result"
    }
   ],
   "source": [
    "from gensim.models import LdaModel\n",
    "loading = LdaModel.load('../../model/topic.model')\n",
    "loading.print_topics(num_topics=2, num_words=5)"
   ]
  },
  {
   "cell_type": "code",
   "execution_count": 39,
   "metadata": {},
   "outputs": [
    {
     "data": {
      "image/png": "[encoded data removed]",
      "text/plain": [
       "<Figure size 1080x1800 with 10 Axes>"
      ]
     },
     "metadata": {
      "needs_background": "light"
     },
     "output_type": "display_data"
    }
   ],
   "source": [
    "import matplotlib.pyplot as plt\n",
    "import seaborn as sns\n",
    "\n",
    "fiz=plt.figure(figsize=(15, 25))\n",
    "for i in range(10):\n",
    "    df=pd.DataFrame(ldamodel.show_topic(i), columns=['term','prob']).set_index('term')\n",
    "#     df=df.sort_values('prob')\n",
    "    \n",
    "    plt.subplot(5,2,i+1)\n",
    "    plt.title('topic '+str(i+1))\n",
    "    sns.barplot(x='prob', y=df.index, data=df, palette='Reds_d')\n",
    "    plt.xlabel('probability')\n",
    "    \n",
    "\n",
    "plt.show()"
   ]
  },
  {
   "cell_type": "code",
   "execution_count": null,
   "metadata": {},
   "outputs": [],
   "source": []
  }
 ],
 "metadata": {
  "kernelspec": {
   "display_name": "Python 3",
   "language": "python",
   "name": "python3"
  },
  "language_info": {
   "codemirror_mode": {
    "name": "ipython",
    "version": 3
   },
   "file_extension": ".py",
   "mimetype": "text/x-python",
   "name": "python",
   "nbconvert_exporter": "python",
   "pygments_lexer": "ipython3",
   "version": "3.7.1"
  },
  "toc": {
   "base_numbering": 1,
   "nav_menu": {},
   "number_sections": true,
   "sideBar": true,
   "skip_h1_title": false,
   "title_cell": "Table of Contents",
   "title_sidebar": "Contents",
   "toc_cell": false,
   "toc_position": {},
   "toc_section_display": true,
   "toc_window_display": false
  }
 },
 "nbformat": 4,
 "nbformat_minor": 2
}
